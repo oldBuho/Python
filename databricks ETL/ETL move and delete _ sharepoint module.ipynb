{
 "cells": [
  {
   "cell_type": "markdown",
   "metadata": {
    "application/vnd.databricks.v1+cell": {
     "cellMetadata": {
      "byteLimit": 2048000,
      "rowLimit": 10000
     },
     "inputWidgets": {},
     "nuid": "e1a1475b-ddb2-4a6a-930b-7e31aa006a21",
     "showTitle": false,
     "tableResultSettingsMap": {},
     "title": ""
    }
   },
   "source": [
    "#### libraries"
   ]
  },
  {
   "cell_type": "code",
   "execution_count": 0,
   "metadata": {
    "application/vnd.databricks.v1+cell": {
     "cellMetadata": {
      "byteLimit": 2048000,
      "rowLimit": 10000
     },
     "inputWidgets": {},
     "nuid": "98473753-992d-455f-86cb-f133b30b2400",
     "showTitle": false,
     "tableResultSettingsMap": {},
     "title": ""
    }
   },
   "outputs": [
    {
     "data": {
      "text/html": [
       "<style scoped>\n",
       "  .ansiout {\n",
       "    display: block;\n",
       "    unicode-bidi: embed;\n",
       "    white-space: pre-wrap;\n",
       "    word-wrap: break-word;\n",
       "    word-break: break-all;\n",
       "    font-family: \"Menlo\", \"Monaco\", \"Consolas\", \"Ubuntu Mono\", \"Source Code Pro\", monospace;\n",
       "    font-size: 13px;\n",
       "    color: #555;\n",
       "    margin-left: 4px;\n",
       "    line-height: 19px;\n",
       "  }\n",
       "</style>\n",
       "<div class=\"ansiout\"></div>"
      ]
     },
     "metadata": {
      "application/vnd.databricks.v1+output": {
       "addedWidgets": {},
       "arguments": {},
       "data": "<div class=\"ansiout\"></div>",
       "datasetInfos": [],
       "metadata": {},
       "removedWidgets": [],
       "type": "html"
      }
     },
     "output_type": "display_data"
    }
   ],
   "source": [
    "# sharepoint modules\n",
    "from office365.sharepoint.client_context import ClientContext\n",
    "from office365.runtime.auth.user_credential import UserCredential\n",
    "from office365.sharepoint.files.file import File\n",
    "\n",
    "# local files handling when reading input\n",
    "import os\n",
    "# in-memory handling for writing files for export\n",
    "# from io import BytesIO\n",
    "\n",
    "# to read/write CSV in sharepoint\n",
    "import pandas as pd\n",
    "'''\n",
    "If using spark.read.csv() -> AnalysisException: Incompatible format detected.\n",
    "Delta format not working either.\n",
    "Eg:\n",
    "  dfr = spark.read \\\n",
    "      .format(\"csv\") \\\n",
    "      .option(\"header\", \"true\") \\\n",
    "      .load(download_path)\n",
    "'''\n",
    "\n",
    "from pyspark.sql import functions as F"
   ]
  },
  {
   "cell_type": "markdown",
   "metadata": {
    "application/vnd.databricks.v1+cell": {
     "cellMetadata": {
      "byteLimit": 2048000,
      "rowLimit": 10000
     },
     "inputWidgets": {},
     "nuid": "7c4bab32-cf14-4bd1-b44f-87f985f218bb",
     "showTitle": false,
     "tableResultSettingsMap": {},
     "title": ""
    }
   },
   "source": [
    "#### `general settings` to work with sharepoint"
   ]
  },
  {
   "cell_type": "code",
   "execution_count": 0,
   "metadata": {
    "application/vnd.databricks.v1+cell": {
     "cellMetadata": {
      "byteLimit": 2048000,
      "rowLimit": 10000
     },
     "inputWidgets": {},
     "nuid": "24e114fe-317a-43fe-9f1c-554875d46d51",
     "showTitle": false,
     "tableResultSettingsMap": {},
     "title": ""
    }
   },
   "outputs": [
    {
     "data": {
      "text/html": [
       "<style scoped>\n",
       "  .ansiout {\n",
       "    display: block;\n",
       "    unicode-bidi: embed;\n",
       "    white-space: pre-wrap;\n",
       "    word-wrap: break-word;\n",
       "    word-break: break-all;\n",
       "    font-family: \"Menlo\", \"Monaco\", \"Consolas\", \"Ubuntu Mono\", \"Source Code Pro\", monospace;\n",
       "    font-size: 13px;\n",
       "    color: #555;\n",
       "    margin-left: 4px;\n",
       "    line-height: 19px;\n",
       "  }\n",
       "</style>\n",
       "<div class=\"ansiout\"></div>"
      ]
     },
     "metadata": {
      "application/vnd.databricks.v1+output": {
       "addedWidgets": {},
       "arguments": {},
       "data": "<div class=\"ansiout\"></div>",
       "datasetInfos": [],
       "metadata": {},
       "removedWidgets": [],
       "type": "html"
      }
     },
     "output_type": "display_data"
    }
   ],
   "source": [
    "# sharepoint working site\n",
    "site_url = \"https://test-company.sharepoint.com/sites/SASIPAutomationProject/\"\n",
    "# init client context with credentials\n",
    "client = ClientContext(site_url).with_credentials(UserCredential(\"admin-user@test-company.com\", dbutils.secrets.get('secret-scope-name', 'secret-key')))\n",
    "\n",
    "# fold_link = \"https://test-company.sharepoint.com/:f:/s/SASIPAutomationProject/EoAbcsDcoSJCpvyTPSRBzscBwYb-lowtdDwUKh7kdTfHDg?e=l13thZ\"\n",
    "\n",
    "# fold_obj = client.web.get_folder_by_guest_url_extended(fold_link).execute_query()\n",
    "# sharepoint_files = fold_obj.files   \n",
    "# client.load(sharepoint_files).execute_query()"
   ]
  },
  {
   "cell_type": "markdown",
   "metadata": {
    "application/vnd.databricks.v1+cell": {
     "cellMetadata": {
      "byteLimit": 2048000,
      "rowLimit": 10000
     },
     "inputWidgets": {},
     "nuid": "e397847d-a2f0-42d1-b031-fb59ac47532b",
     "showTitle": false,
     "tableResultSettingsMap": {},
     "title": ""
    }
   },
   "source": [
    "#### create individual `dataframes from CSV files` (comma separated)"
   ]
  },
  {
   "cell_type": "code",
   "execution_count": 0,
   "metadata": {
    "application/vnd.databricks.v1+cell": {
     "cellMetadata": {
      "byteLimit": 2048000,
      "rowLimit": 10000
     },
     "inputWidgets": {},
     "nuid": "c5a3bdbd-9447-44f8-9194-a2f60fd7f304",
     "showTitle": false,
     "tableResultSettingsMap": {},
     "title": ""
    }
   },
   "outputs": [
    {
     "data": {
      "text/html": [
       "<style scoped>\n",
       "  .ansiout {\n",
       "    display: block;\n",
       "    unicode-bidi: embed;\n",
       "    white-space: pre-wrap;\n",
       "    word-wrap: break-word;\n",
       "    word-break: break-all;\n",
       "    font-family: \"Menlo\", \"Monaco\", \"Consolas\", \"Ubuntu Mono\", \"Source Code Pro\", monospace;\n",
       "    font-size: 13px;\n",
       "    color: #555;\n",
       "    margin-left: 4px;\n",
       "    line-height: 19px;\n",
       "  }\n",
       "</style>\n",
       "<div class=\"ansiout\"></div>"
      ]
     },
     "metadata": {
      "application/vnd.databricks.v1+output": {
       "addedWidgets": {},
       "arguments": {},
       "data": "<div class=\"ansiout\"></div>",
       "datasetInfos": [],
       "metadata": {},
       "removedWidgets": [],
       "type": "html"
      }
     },
     "output_type": "display_data"
    }
   ],
   "source": [
    "input_files = {\n",
    "  \"exclusion__df\" : \"https://test-company.sharepoint.com/:f:/s/SASIPAutomationProject/ErUH64YzYENHtWrA02EEDV0BH9SUUQ1p5i1qlkUPnPkWLg?e=20GjiH\",\n",
    "  \"role_map__df\" : \"https://test-company.sharepoint.com/:f:/s/SASIPAutomationProject/EknYQFKVeTdDnEEvysgkUKAB2QnZdAM8kpHsDxJxYbpUVw?e=lY8zSW\",\n",
    "  \"audit_detail_mtd__df\": \"https://test-company.sharepoint.com/:f:/s/SASIPAutomationProject/Eq2mqMvKe1FIlVr5aKvM00oBo_1lehXBue_vGL9tW-ciTA?e=sx3wdh\",\n",
    "  \"account_list__df\" : \"https://test-company.sharepoint.com/:f:/s/SASIPAutomationProject/EnzRQOSFaSdOrcJaYXbxGTkBdzcvIXaK9WIrjAQdgKvRqg?e=GZne0M\"\n",
    "}"
   ]
  },
  {
   "cell_type": "code",
   "execution_count": 0,
   "metadata": {
    "application/vnd.databricks.v1+cell": {
     "cellMetadata": {
      "byteLimit": 2048000,
      "rowLimit": 10000
     },
     "inputWidgets": {},
     "nuid": "b97ed2d5-80f2-4a68-af56-ec5999ab34ed",
     "showTitle": false,
     "tableResultSettingsMap": {},
     "title": ""
    }
   },
   "outputs": [
    {
     "data": {
      "text/html": [
       "<style scoped>\n",
       "  .ansiout {\n",
       "    display: block;\n",
       "    unicode-bidi: embed;\n",
       "    white-space: pre-wrap;\n",
       "    word-wrap: break-word;\n",
       "    word-break: break-all;\n",
       "    font-family: \"Menlo\", \"Monaco\", \"Consolas\", \"Ubuntu Mono\", \"Source Code Pro\", monospace;\n",
       "    font-size: 13px;\n",
       "    color: #555;\n",
       "    margin-left: 4px;\n",
       "    line-height: 19px;\n",
       "  }\n",
       "</style>\n",
       "<div class=\"ansiout\">creating dataframe: exclusion__df\n",
       "creating dataframe: role_map__df\n",
       "creating dataframe: audit_detail_mtd__df\n",
       "creating dataframe: account_list__df\n",
       "</div>"
      ]
     },
     "metadata": {
      "application/vnd.databricks.v1+output": {
       "addedWidgets": {},
       "arguments": {},
       "data": "<div class=\"ansiout\">creating dataframe: exclusion__df\ncreating dataframe: role_map__df\ncreating dataframe: audit_detail_mtd__df\ncreating dataframe: account_list__df\n</div>",
       "datasetInfos": [],
       "metadata": {},
       "removedWidgets": [],
       "type": "html"
      }
     },
     "output_type": "display_data"
    }
   ],
   "source": [
    "for key, value in input_files.items():\n",
    "  \n",
    "  print(f'creating dataframe: {key}')\n",
    "  fold_link = value\n",
    "\n",
    "  fold_obj = client.web.get_folder_by_guest_url_extended(fold_link).execute_query()\n",
    "  sharepoint_files = fold_obj.files   \n",
    "  # client to work with sharepoint_files\n",
    "  client.load(sharepoint_files).execute_query()\n",
    "  \n",
    "  try:\n",
    "    working_file = sharepoint_files[0]\n",
    "\n",
    "    download_path = os.path.join(os.getcwd(), str(working_file))\n",
    "    # apply sharepoint library method\n",
    "    file_response = File.read(working_file)\n",
    "    # Save file locally for pandas to read next\n",
    "    with open(download_path, 'wb') as output_file:\n",
    "      output_file.write(file_response)  \n",
    "    \n",
    "    # read file with pandas and convert to spark dataframe.\n",
    "    # \"low_memory=False\" avoids data type error, alternatively use a dictionary and the dtype option to define data types.\n",
    "    # elimintate empty rows if any.\n",
    "    df = pd.read_csv(download_path, low_memory=False).dropna(how='all') \n",
    "    globals()[key] = spark.createDataFrame(df)\n",
    "\n",
    "    # delete unnecesary elements\n",
    "    os.remove(download_path)\n",
    "    del df\n",
    "\n",
    "  except:\n",
    "    print(f\"no file for {key}\")"
   ]
  },
  {
   "cell_type": "code",
   "execution_count": 0,
   "metadata": {
    "application/vnd.databricks.v1+cell": {
     "cellMetadata": {
      "byteLimit": 2048000,
      "rowLimit": 10000
     },
     "inputWidgets": {},
     "nuid": "54353ffa-7df6-4648-9271-4d8510f7f375",
     "showTitle": false,
     "tableResultSettingsMap": {},
     "title": ""
    }
   },
   "outputs": [
    {
     "data": {
      "text/html": [
       "<style scoped>\n",
       "  .ansiout {\n",
       "    display: block;\n",
       "    unicode-bidi: embed;\n",
       "    white-space: pre-wrap;\n",
       "    word-wrap: break-word;\n",
       "    word-break: break-all;\n",
       "    font-family: \"Menlo\", \"Monaco\", \"Consolas\", \"Ubuntu Mono\", \"Source Code Pro\", monospace;\n",
       "    font-size: 13px;\n",
       "    color: #555;\n",
       "    margin-left: 4px;\n",
       "    line-height: 19px;\n",
       "  }\n",
       "</style>\n",
       "<div class=\"ansiout\">+------------------------------------+------------------+------------+------------+-----------------+-------------------+---------------------+-------+\n",
       "Account Name                        |Account Id        |Retail Store|KAM         |Reason           |Account Owner      |Account Owner Manager|Exclude|\n",
       "+------------------------------------+------------------+------------+------------+-----------------+-------------------+---------------------+-------+\n",
       "Captain Liquor Distribution         |aCaD0000000PFBLKA4|No          |Chad Haverly|No Retail element|Cecil Bagley       |Hein Stander         |1.0    |\n",
       "Distri-Liq (Pretoria)               |aCaD0000000PF0tKAG|No          |Chad Haverly|No Retail element|Monique Bester     |Charles Maseko       |1.0    |\n",
       "Distri-Liq (Rustenburg)             |aCaD0000000PFNcKAO|No          |Chad Haverly|No Retail element|Kagiso Motau       |Given Mmekoa         |1.0    |\n",
       "Durban North Liquors (Phoenix) (Ind)|aCaD0000000gbxoKAA|No          |Chad Haverly|No Retail element|Mphokuhle Cele     |Antara Ramouthar     |1.0    |\n",
       "Norman Goodfellows (Paarden Eiland) |aCaD0000000PG0WKAW|No          |Chad Haverly|No Retail element|Chris Bodenham     |Robbie Van Eck       |1.0    |\n",
       "Norman Goodfellows (Wynberg)        |aCaD0000000fziVKAQ|No          |Chad Haverly|No Retail element|Pravin Hardin      |Hein Stander         |1.0    |\n",
       "Panjivan  Liquors                   |aCaD0000000PF2RKAW|No          |Chad Haverly|No Retail element|Sibaphiwe Sali     |Brandon Pillay       |1.0    |\n",
       "Panjivan Pietermaritzburg           |aCaD0000000PFYgKAO|No          |Chad Haverly|No Retail element|Noluthando Maselana|Andrew Morris        |1.0    |\n",
       "Panjivan Swelani Liquors            |aCaD0000000PF03KAG|No          |Chad Haverly|No Retail element|Kuben Pillay       |Andrew Morris        |1.0    |\n",
       "Panjivans Big Ben Liquor Wholesalers|aCaD0000000PFM6KAO|No          |Chad Haverly|No Retail element|Sibaphiwe Sali     |Brandon Pillay       |1.0    |\n",
       "+------------------------------------+------------------+------------+------------+-----------------+-------------------+---------------------+-------+\n",
       "only showing top 10 rows\n",
       "\n",
       "</div>"
      ]
     },
     "metadata": {
      "application/vnd.databricks.v1+output": {
       "addedWidgets": {},
       "arguments": {},
       "data": "<div class=\"ansiout\">+------------------------------------+------------------+------------+------------+-----------------+-------------------+---------------------+-------+\n|Account Name                        |Account Id        |Retail Store|KAM         |Reason           |Account Owner      |Account Owner Manager|Exclude|\n+------------------------------------+------------------+------------+------------+-----------------+-------------------+---------------------+-------+\n|Captain Liquor Distribution         |aCaD0000000PFBLKA4|No          |Chad Haverly|No Retail element|Cecil Bagley       |Hein Stander         |1.0    |\n|Distri-Liq (Pretoria)               |aCaD0000000PF0tKAG|No          |Chad Haverly|No Retail element|Monique Bester     |Charles Maseko       |1.0    |\n|Distri-Liq (Rustenburg)             |aCaD0000000PFNcKAO|No          |Chad Haverly|No Retail element|Kagiso Motau       |Given Mmekoa         |1.0    |\n|Durban North Liquors (Phoenix) (Ind)|aCaD0000000gbxoKAA|No          |Chad Haverly|No Retail element|Mphokuhle Cele     |Antara Ramouthar     |1.0    |\n|Norman Goodfellows (Paarden Eiland) |aCaD0000000PG0WKAW|No          |Chad Haverly|No Retail element|Chris Bodenham     |Robbie Van Eck       |1.0    |\n|Norman Goodfellows (Wynberg)        |aCaD0000000fziVKAQ|No          |Chad Haverly|No Retail element|Pravin Hardin      |Hein Stander         |1.0    |\n|Panjivan  Liquors                   |aCaD0000000PF2RKAW|No          |Chad Haverly|No Retail element|Sibaphiwe Sali     |Brandon Pillay       |1.0    |\n|Panjivan Pietermaritzburg           |aCaD0000000PFYgKAO|No          |Chad Haverly|No Retail element|Noluthando Maselana|Andrew Morris        |1.0    |\n|Panjivan Swelani Liquors            |aCaD0000000PF03KAG|No          |Chad Haverly|No Retail element|Kuben Pillay       |Andrew Morris        |1.0    |\n|Panjivans Big Ben Liquor Wholesalers|aCaD0000000PFM6KAO|No          |Chad Haverly|No Retail element|Sibaphiwe Sali     |Brandon Pillay       |1.0    |\n+------------------------------------+------------------+------------+------------+-----------------+-------------------+---------------------+-------+\nonly showing top 10 rows\n\n</div>",
       "datasetInfos": [],
       "metadata": {},
       "removedWidgets": [],
       "type": "html"
      }
     },
     "output_type": "display_data"
    }
   ],
   "source": [
    "exclusion__df.show(10, truncate=False)\n",
    "# display(exclusion__df.limit(10))"
   ]
  },
  {
   "cell_type": "code",
   "execution_count": 0,
   "metadata": {
    "application/vnd.databricks.v1+cell": {
     "cellMetadata": {
      "byteLimit": 2048000,
      "rowLimit": 10000
     },
     "inputWidgets": {},
     "nuid": "40ce3c42-fe15-4a7e-ac15-dcb70da444c7",
     "showTitle": false,
     "tableResultSettingsMap": {},
     "title": ""
    }
   },
   "outputs": [
    {
     "data": {
      "text/html": [
       "<style scoped>\n",
       "  .ansiout {\n",
       "    display: block;\n",
       "    unicode-bidi: embed;\n",
       "    white-space: pre-wrap;\n",
       "    word-wrap: break-word;\n",
       "    word-break: break-all;\n",
       "    font-family: \"Menlo\", \"Monaco\", \"Consolas\", \"Ubuntu Mono\", \"Source Code Pro\", monospace;\n",
       "    font-size: 13px;\n",
       "    color: #555;\n",
       "    margin-left: 4px;\n",
       "    line-height: 19px;\n",
       "  }\n",
       "</style>\n",
       "<div class=\"ansiout\">+-------------------+-----------------------------------+-----------------------+\n",
       "Area Sales Director|Account Owner Manager/Sales Manager|Account Owner/Sales Rep|\n",
       "+-------------------+-----------------------------------+-----------------------+\n",
       "Celeste Carstens   |Andrew Morris                      |Chimone Horst          |\n",
       "Celeste Carstens   |Andrew Morris                      |Kuben Pillay           |\n",
       "Celeste Carstens   |Andrew Morris                      |Lebogang Maaga         |\n",
       "Celeste Carstens   |Andrew Morris                      |Mphokuhle Cele         |\n",
       "Celeste Carstens   |Brandon Pillay                     |Vincent Msowoya        |\n",
       "Celeste Carstens   |Brandon Pillay                     |Qhamani Bam            |\n",
       "Celeste Carstens   |Brandon Pillay                     |Siphesihle Magwaza     |\n",
       "Celeste Carstens   |Brandon Pillay                     |Themba Myeni           |\n",
       "Celeste Carstens   |Brandon Pillay                     |Tsuso Tserere          |\n",
       "Celeste Carstens   |Brandon Pillay                     |Pilani Nondabula       |\n",
       "+-------------------+-----------------------------------+-----------------------+\n",
       "only showing top 10 rows\n",
       "\n",
       "</div>"
      ]
     },
     "metadata": {
      "application/vnd.databricks.v1+output": {
       "addedWidgets": {},
       "arguments": {},
       "data": "<div class=\"ansiout\">+-------------------+-----------------------------------+-----------------------+\n|Area Sales Director|Account Owner Manager/Sales Manager|Account Owner/Sales Rep|\n+-------------------+-----------------------------------+-----------------------+\n|Celeste Carstens   |Andrew Morris                      |Chimone Horst          |\n|Celeste Carstens   |Andrew Morris                      |Kuben Pillay           |\n|Celeste Carstens   |Andrew Morris                      |Lebogang Maaga         |\n|Celeste Carstens   |Andrew Morris                      |Mphokuhle Cele         |\n|Celeste Carstens   |Brandon Pillay                     |Vincent Msowoya        |\n|Celeste Carstens   |Brandon Pillay                     |Qhamani Bam            |\n|Celeste Carstens   |Brandon Pillay                     |Siphesihle Magwaza     |\n|Celeste Carstens   |Brandon Pillay                     |Themba Myeni           |\n|Celeste Carstens   |Brandon Pillay                     |Tsuso Tserere          |\n|Celeste Carstens   |Brandon Pillay                     |Pilani Nondabula       |\n+-------------------+-----------------------------------+-----------------------+\nonly showing top 10 rows\n\n</div>",
       "datasetInfos": [],
       "metadata": {},
       "removedWidgets": [],
       "type": "html"
      }
     },
     "output_type": "display_data"
    }
   ],
   "source": [
    "# display(role_map__df.limit(10))\n",
    "role_map__df.show(10, truncate=False)"
   ]
  },
  {
   "cell_type": "code",
   "execution_count": 0,
   "metadata": {
    "application/vnd.databricks.v1+cell": {
     "cellMetadata": {
      "byteLimit": 2048000,
      "rowLimit": 10000
     },
     "inputWidgets": {},
     "nuid": "10b42565-251d-403b-8908-ddbf8b587ed8",
     "showTitle": false,
     "tableResultSettingsMap": {},
     "title": ""
    }
   },
   "outputs": [
    {
     "data": {
      "text/html": [
       "<style scoped>\n",
       "  .ansiout {\n",
       "    display: block;\n",
       "    unicode-bidi: embed;\n",
       "    white-space: pre-wrap;\n",
       "    word-wrap: break-word;\n",
       "    word-break: break-all;\n",
       "    font-family: \"Menlo\", \"Monaco\", \"Consolas\", \"Ubuntu Mono\", \"Source Code Pro\", monospace;\n",
       "    font-size: 13px;\n",
       "    color: #555;\n",
       "    margin-left: 4px;\n",
       "    line-height: 19px;\n",
       "  }\n",
       "</style>\n",
       "<div class=\"ansiout\">+-----------------+---------+--------------------------------------+------------------+---------------------+---------------------------------+-------------------------------------------+---------+------+----------+----------+-------------+---------------+----------------------+-------------+---------------+----------------+---------+\n",
       "Audit Datetime   |Channel  |Account Name                          |Account 18 ID     |Created By: Full Name|Brand-Quality: Brand Quality Name|Brand-Quality-Size: Brand Quality Size     |Category |Listed|Visibility|Activation|House Pouring|Number of Faces|Regular Price Currency|Regular Price|Store Audit ID |Store Audit Item|Available|\n",
       "+-----------------+---------+--------------------------------------+------------------+---------------------+---------------------------------+-------------------------------------------+---------+------+----------+----------+-------------+---------------+----------------------+-------------+---------------+----------------+---------+\n",
       "2024/10/10, 07:51|OFF TRADE|Thandile Bottle Store (EFT OD)        |001Tn000003F9n9IAC|Zwai Sonjica         |null                             |Luc Belaire Rare Rose 750ml                |CHAMPAGNE|1     |0         |0         |0            |1.0            |ZAR                   |549.0        |a2yTn000000jpHh|SAI-0075621124  |1        |\n",
       "2024/10/08, 13:41|OFF TRADE|Tops Mdantsane City                   |001Tn0000066FIfIAM|Zwai Sonjica         |null                             |Luc Belaire Luxe Rose Fantome 750ml        |CHAMPAGNE|0     |0         |0         |0            |null           |null                  |null         |a2yTn000000jQ3G|SAI-0075257574  |0        |\n",
       "2024/10/08, 11:51|OFF TRADE|Checkers L/Shop Zevenwacht (39061)    |001Tn000003FIswIAG|Curven Swiegelaar    |null                             |Luc Belaire Bleu 750ml                     |CHAMPAGNE|0     |0         |0         |0            |null           |null                  |null         |a2yTn000000jS1q|SAI-0075285746  |0        |\n",
       "2024/10/14, 12:29|OFF TRADE|Agrimark Riebeek West  (1907)(OK)     |001Tn000003FIHOIA4|Fabian Jacobs        |null                             |Ballantines 7YO 6x750ml                    |WHISKY   |0     |0         |0         |0            |null           |null                  |null         |a2yTn000000kFnG|SAI-0075741899  |0        |\n",
       "2024/10/16, 14:11|OFF TRADE|Tops Stone Square     35707           |001Tn000003FGlcIAG|Curven Swiegelaar    |null                             |Absolut Cocktail Berry Vodkarita 4x300ml   |RTD      |1     |0         |0         |0            |1.0            |ZAR                   |134.99       |a2yTn000000kYrX|SAI-0075898351  |1        |\n",
       "2024/10/17, 14:42|OFF TRADE|PNP Corporate - Montana  (NC79)       |001Tn000003FDabIAG|Mdu Shongwe          |null                             |Malibu Cocktail Strawberry Daiquiri 4x300ml|RTD      |1     |0         |0         |0            |null           |ZAR                   |119.99       |a2yTn000000kiyv|SAI-0075966207  |1        |\n",
       "2024/10/01, 12:53|OFF TRADE|PNP Family - King Williams Town (EF16)|001Tn000003F9ubIAC|Zwai Sonjica         |null                             |Jameson Caskmates Stout 12x750ml           |WHISKY   |1     |0         |0         |0            |3.0            |ZAR                   |449.0        |a2yTn000000iYMB|SAI-0074793416  |1        |\n",
       "2024/10/04, 14:57|OFF TRADE|Checkers L/Shop Castle Rock (32899)   |001Tn000003FGy3IAG|Themba Myeni         |null                             |Chivas XV 750                              |WHISKY   |1     |0         |0         |0            |2.0            |ZAR                   |739.99       |a2yTn000000j5gL|SAI-0075100043  |1        |\n",
       "2024/10/02, 10:12|OFF TRADE|Tops Spargs Idutywa   46081           |001Tn000003FEvSIAW|Mlungisi Magwaxaza   |null                             |Beefeater Blood Orange 750ml               |GIN      |1     |0         |0         |0            |1.0            |ZAR                   |359.0        |a2yTn000000ipgN|SAI-0074950426  |1        |\n",
       "2024/10/21, 11:14|OFF TRADE|Shoprite L/Shop Porterville (92643)   |001Tn000003FAuBIAW|Tyrone Engelbrecht   |null                             |Inverroche Amber 750ml                     |GIN      |0     |0         |0         |0            |null           |null                  |null         |a2yTn000000l5h3|SAI-0076149544  |0        |\n",
       "+-----------------+---------+--------------------------------------+------------------+---------------------+---------------------------------+-------------------------------------------+---------+------+----------+----------+-------------+---------------+----------------------+-------------+---------------+----------------+---------+\n",
       "only showing top 10 rows\n",
       "\n",
       "</div>"
      ]
     },
     "metadata": {
      "application/vnd.databricks.v1+output": {
       "addedWidgets": {},
       "arguments": {},
       "data": "<div class=\"ansiout\">+-----------------+---------+--------------------------------------+------------------+---------------------+---------------------------------+-------------------------------------------+---------+------+----------+----------+-------------+---------------+----------------------+-------------+---------------+----------------+---------+\n|Audit Datetime   |Channel  |Account Name                          |Account 18 ID     |Created By: Full Name|Brand-Quality: Brand Quality Name|Brand-Quality-Size: Brand Quality Size     |Category |Listed|Visibility|Activation|House Pouring|Number of Faces|Regular Price Currency|Regular Price|Store Audit ID |Store Audit Item|Available|\n+-----------------+---------+--------------------------------------+------------------+---------------------+---------------------------------+-------------------------------------------+---------+------+----------+----------+-------------+---------------+----------------------+-------------+---------------+----------------+---------+\n|2024/10/10, 07:51|OFF TRADE|Thandile Bottle Store (EFT OD)        |001Tn000003F9n9IAC|Zwai Sonjica         |null                             |Luc Belaire Rare Rose 750ml                |CHAMPAGNE|1     |0         |0         |0            |1.0            |ZAR                   |549.0        |a2yTn000000jpHh|SAI-0075621124  |1        |\n|2024/10/08, 13:41|OFF TRADE|Tops Mdantsane City                   |001Tn0000066FIfIAM|Zwai Sonjica         |null                             |Luc Belaire Luxe Rose Fantome 750ml        |CHAMPAGNE|0     |0         |0         |0            |null           |null                  |null         |a2yTn000000jQ3G|SAI-0075257574  |0        |\n|2024/10/08, 11:51|OFF TRADE|Checkers L/Shop Zevenwacht (39061)    |001Tn000003FIswIAG|Curven Swiegelaar    |null                             |Luc Belaire Bleu 750ml                     |CHAMPAGNE|0     |0         |0         |0            |null           |null                  |null         |a2yTn000000jS1q|SAI-0075285746  |0        |\n|2024/10/14, 12:29|OFF TRADE|Agrimark Riebeek West  (1907)(OK)     |001Tn000003FIHOIA4|Fabian Jacobs        |null                             |Ballantines 7YO 6x750ml                    |WHISKY   |0     |0         |0         |0            |null           |null                  |null         |a2yTn000000kFnG|SAI-0075741899  |0        |\n|2024/10/16, 14:11|OFF TRADE|Tops Stone Square     35707           |001Tn000003FGlcIAG|Curven Swiegelaar    |null                             |Absolut Cocktail Berry Vodkarita 4x300ml   |RTD      |1     |0         |0         |0            |1.0            |ZAR                   |134.99       |a2yTn000000kYrX|SAI-0075898351  |1        |\n|2024/10/17, 14:42|OFF TRADE|PNP Corporate - Montana  (NC79)       |001Tn000003FDabIAG|Mdu Shongwe          |null                             |Malibu Cocktail Strawberry Daiquiri 4x300ml|RTD      |1     |0         |0         |0            |null           |ZAR                   |119.99       |a2yTn000000kiyv|SAI-0075966207  |1        |\n|2024/10/01, 12:53|OFF TRADE|PNP Family - King Williams Town (EF16)|001Tn000003F9ubIAC|Zwai Sonjica         |null                             |Jameson Caskmates Stout 12x750ml           |WHISKY   |1     |0         |0         |0            |3.0            |ZAR                   |449.0        |a2yTn000000iYMB|SAI-0074793416  |1        |\n|2024/10/04, 14:57|OFF TRADE|Checkers L/Shop Castle Rock (32899)   |001Tn000003FGy3IAG|Themba Myeni         |null                             |Chivas XV 750                              |WHISKY   |1     |0         |0         |0            |2.0            |ZAR                   |739.99       |a2yTn000000j5gL|SAI-0075100043  |1        |\n|2024/10/02, 10:12|OFF TRADE|Tops Spargs Idutywa   46081           |001Tn000003FEvSIAW|Mlungisi Magwaxaza   |null                             |Beefeater Blood Orange 750ml               |GIN      |1     |0         |0         |0            |1.0            |ZAR                   |359.0        |a2yTn000000ipgN|SAI-0074950426  |1        |\n|2024/10/21, 11:14|OFF TRADE|Shoprite L/Shop Porterville (92643)   |001Tn000003FAuBIAW|Tyrone Engelbrecht   |null                             |Inverroche Amber 750ml                     |GIN      |0     |0         |0         |0            |null           |null                  |null         |a2yTn000000l5h3|SAI-0076149544  |0        |\n+-----------------+---------+--------------------------------------+------------------+---------------------+---------------------------------+-------------------------------------------+---------+------+----------+----------+-------------+---------------+----------------------+-------------+---------------+----------------+---------+\nonly showing top 10 rows\n\n</div>",
       "datasetInfos": [],
       "metadata": {},
       "removedWidgets": [],
       "type": "html"
      }
     },
     "output_type": "display_data"
    }
   ],
   "source": [
    "# display(audit_detail_mtd__df.limit(10))\n",
    "audit_detail_mtd__df.show(10, truncate=False)"
   ]
  },
  {
   "cell_type": "code",
   "execution_count": 0,
   "metadata": {
    "application/vnd.databricks.v1+cell": {
     "cellMetadata": {
      "byteLimit": 2048000,
      "rowLimit": 10000
     },
     "inputWidgets": {},
     "nuid": "dd8d5fe4-7004-40fc-8f1a-89d84bd59f11",
     "showTitle": false,
     "tableResultSettingsMap": {},
     "title": ""
    }
   },
   "outputs": [
    {
     "data": {
      "text/html": [
       "<style scoped>\n",
       "  .ansiout {\n",
       "    display: block;\n",
       "    unicode-bidi: embed;\n",
       "    white-space: pre-wrap;\n",
       "    word-wrap: break-word;\n",
       "    word-break: break-all;\n",
       "    font-family: \"Menlo\", \"Monaco\", \"Consolas\", \"Ubuntu Mono\", \"Source Code Pro\", monospace;\n",
       "    font-size: 13px;\n",
       "    color: #555;\n",
       "    margin-left: 4px;\n",
       "    line-height: 19px;\n",
       "  }\n",
       "</style>\n",
       "<div class=\"ansiout\">+---------+-------------+------------------+---------------------------------------+------------------+----------------------------------------------------------------------------------+-------------+---------------------+-------------------------------+-------------------------+--------------------+-----------------+---------------------+-------------------------+----------------------------+----------------------------------+-----------------------------+------------------------------+------+-------------------------------------+-------------+-----------------+------------+----------------------------------+------+-------------+------------------------------+\n",
       "Channel  |Business Type|Customer No# (ERP)|Account Name                           |Account 18 ID     |Street                                                                            |City         |Outlet Classification|PRS Group Outlet Type (EU) name|PRS Outlet Type (EU) name|PRS Image Level Name|Chain            |Taxonomy Level 1     |PRS Volume Potential Name|PRS Business Potential: Name|PRS Brand Building Potential: Name|Outlet Geolocation (Latitude)|Outlet Geolocation (Longitude)|Status|Visit Frequency: Visit Frequency Name|Preferred Day|Owner: Full Name |Country     |Territory: Territory Name         |Region|Company Type |Key Account Manager: Full Name|\n",
       "+---------+-------------+------------------+---------------------------------------+------------------+----------------------------------------------------------------------------------+-------------+---------------------+-------------------------------+-------------------------+--------------------+-----------------+---------------------+-------------------------+----------------------------+----------------------------------+-----------------------------+------------------------------+------+-------------------------------------+-------------+-----------------+------------+----------------------------------+------+-------------+------------------------------+\n",
       "OFF TRADE|Outlet       |37202             |Game Liquors (Zevenwacht)  327         |001Tn000003FFmpIAG|Shop 220, Zevenwacht Mall, Van Riebeeck Rd, Kuilsriver                            |Bellville    |Retail Franchise     |ZA RETAIL GROCERY              |Group Corporate          |null                |Game Liquors     |Game Liquors         |null                     |High                        |High                              |-34,000,706,872,934,400      |18,726,913,360,896,200        |Active|2/Month W1 &amp; 3                       |Thursday     |Curven Swiegelaar|South Africa|Cape Hybrid Inland (1) - Off Trade|South |Sales Service|null                          |\n",
       "OFF TRADE|Outlet       |52260             |Liquor City (Somerset West) (EFT 24hrs)|001Tn000003FJEkIAO|Sh 401 Somerset Value Mart                                                        |Somerset West|Retail Franchise     |ZA RETAIL OTHER                |Group Corporate          |null                |Liquor City      |Liquor City Corporate|null                     |High                        |High                              |-34,085,311,600,000,000      |18,824,000,400,000,000        |Active|Weekly                               |Tuesday      |Curven Swiegelaar|South Africa|Cape Hybrid Inland (1) - Off Trade|South |Sales Service|Daryl Pillay                  |\n",
       "OFF TRADE|Outlet       |63685             |Tops Haasendal   36118                 |001Tn000003FKeiIAG|Sh 47 3 Haasendal Boulevard                                                       |Kuils River  |Retail Grocery       |ZA RETAIL GROCERY              |Group Franchise          |null                |Spar Group       |Spar WC              |null                     |High                        |High                              |-33,895,769,807,723,400      |18,502,715,078,192,700        |Active|Weekly                               |Tuesday      |Curven Swiegelaar|South Africa|Cape Hybrid Inland (1) - Off Trade|South |Sales Service|Jacques Weideman              |\n",
       "OFF TRADE|Outlet       |null              |Woolworths Waterstone Village          |001Tn0000066FIjIAM|Shop 38/39 Waterstone Village Corner of R44&amp; main Rd,Somerset West, Cape Town,7130|Somerset West|null                 |ZA RETAIL GROCERY              |Group Corporate          |null                |Woolworths       |null                 |null                     |High                        |High                              |-34,070,497,300,000,000      |18,827,970,800,000,000        |Active|Weekly                               |Wednesday    |Curven Swiegelaar|South Africa|Cape Hybrid Inland (1) - Off Trade|South |Sales Service|Hein Stander                  |\n",
       "OFF TRADE|Outlet       |null              |Checkers Kenilworth                    |001Tn000003FDIrIAO|kenilworth Centre , shop 17 , Chichester road , claremont                         |Kenilworth   |null                 |ZA RETAIL GROCERY              |Group Corporate          |null                |Shoprite Checkers|null                 |null                     |High                        |High                              |-33,988,986,800,000,000      |18,485,150,000,000,000        |Active|2/Month W1 &amp; 4                       |Monday       |Sibongile Magazi |South Africa|Cape Hybrid Inland (2) - Off Trade|South |Sales Service|Hein Stander                  |\n",
       "OFF TRADE|Outlet       |11878             |Makro (Ottery)                         |001Tn000003FDSkIAO|cnr Ottery/Oldstrandfontein R                                                     |Cape Town    |Wholesaler           |ZA WHOLESALER                  |Group Corporate          |null                |Makro            |Makro                |null                     |High                        |High                              |-34,011,188,800,000,000      |18,509,214,700,000,000        |Active|Weekly                               |Monday       |Sibongile Magazi |South Africa|Cape Hybrid Inland (2) - Off Trade|South |Sales Service|Chad Haverly                  |\n",
       "OFF TRADE|Outlet       |12303             |Picardi Rebel (Claremont)              |001Tn000003FEZbIAO|218 Main Road                                                                     |Cape Town    |Retail Franchise     |ZA RETAIL OTHER                |Group Corporate          |null                |Picardi Rebel    |Picardi - Coastal    |null                     |High                        |High                              |-33,985,529,700,000,000      |18,465,671,500,000,000        |Active|2/Month W2 &amp; 4                       |Tuesday      |Sibongile Magazi |South Africa|Cape Hybrid Inland (2) - Off Trade|South |Sales Service|Hein Stander                  |\n",
       "OFF TRADE|Outlet       |9869              |Picardi Rebel (Parklands Junction)     |001Tn000003FEvMIAW|Sh 10 Parkland Junction                                                           |Cape Town    |Retail Franchise     |ZA RETAIL OTHER                |Group Corporate          |null                |Picardi Rebel    |Picardi - Coastal    |null                     |High                        |High                              |-33,813,290,700,000,000      |18,507,930,500,000,000        |Active|Weekly                               |Monday       |Sibongile Magazi |South Africa|Cape Hybrid Inland (2) - Off Trade|South |Sales Service|Hein Stander                  |\n",
       "OFF TRADE|Outlet       |37876             |Checkers L/Shop Sandown (31495)        |001Tn000003FGxMIAW|cnr Sandown Rd &amp; Wood Drive                                                       |Parklands    |Retail Grocery       |ZA RETAIL GROCERY              |Group Corporate          |null                |Shoprite Checkers|Checkers             |null                     |High                        |High                              |-33,801,030,400,000,000      |18,503,332,100,000,000        |Active|2/Month W2 &amp; 4                       |Wednesday    |Sibongile Magazi |South Africa|Cape Hybrid Inland (2) - Off Trade|South |Sales Service|Hein Stander                  |\n",
       "OFF TRADE|Outlet       |68041             |Mandela Park Tops                      |001Tn000003FHFQIA4|C/o Govan Mbeki &amp; Oscar Mpetha Roads Khayelitsha 7784                             |Khayelitsha  |null                 |ZA RETAIL GROCERY              |Group Franchise          |null                |Spar Group       |Spar Group           |null                     |High                        |High                              |-34,044,334,100,000,000      |18,688,664,000,000,000        |Active|2/Month W1 &amp; 3                       |Tuesday      |Sibongile Magazi |South Africa|Cape Hybrid Inland (2) - Off Trade|South |Sales Service|Jacques Weideman              |\n",
       "+---------+-------------+------------------+---------------------------------------+------------------+----------------------------------------------------------------------------------+-------------+---------------------+-------------------------------+-------------------------+--------------------+-----------------+---------------------+-------------------------+----------------------------+----------------------------------+-----------------------------+------------------------------+------+-------------------------------------+-------------+-----------------+------------+----------------------------------+------+-------------+------------------------------+\n",
       "only showing top 10 rows\n",
       "\n",
       "</div>"
      ]
     },
     "metadata": {
      "application/vnd.databricks.v1+output": {
       "addedWidgets": {},
       "arguments": {},
       "data": "<div class=\"ansiout\">+---------+-------------+------------------+---------------------------------------+------------------+----------------------------------------------------------------------------------+-------------+---------------------+-------------------------------+-------------------------+--------------------+-----------------+---------------------+-------------------------+----------------------------+----------------------------------+-----------------------------+------------------------------+------+-------------------------------------+-------------+-----------------+------------+----------------------------------+------+-------------+------------------------------+\n|Channel  |Business Type|Customer No# (ERP)|Account Name                           |Account 18 ID     |Street                                                                            |City         |Outlet Classification|PRS Group Outlet Type (EU) name|PRS Outlet Type (EU) name|PRS Image Level Name|Chain            |Taxonomy Level 1     |PRS Volume Potential Name|PRS Business Potential: Name|PRS Brand Building Potential: Name|Outlet Geolocation (Latitude)|Outlet Geolocation (Longitude)|Status|Visit Frequency: Visit Frequency Name|Preferred Day|Owner: Full Name |Country     |Territory: Territory Name         |Region|Company Type |Key Account Manager: Full Name|\n+---------+-------------+------------------+---------------------------------------+------------------+----------------------------------------------------------------------------------+-------------+---------------------+-------------------------------+-------------------------+--------------------+-----------------+---------------------+-------------------------+----------------------------+----------------------------------+-----------------------------+------------------------------+------+-------------------------------------+-------------+-----------------+------------+----------------------------------+------+-------------+------------------------------+\n|OFF TRADE|Outlet       |37202             |Game Liquors (Zevenwacht)  327         |001Tn000003FFmpIAG|Shop 220, Zevenwacht Mall, Van Riebeeck Rd, Kuilsriver                            |Bellville    |Retail Franchise     |ZA RETAIL GROCERY              |Group Corporate          |null                |Game Liquors     |Game Liquors         |null                     |High                        |High                              |-34,000,706,872,934,400      |18,726,913,360,896,200        |Active|2/Month W1 &amp; 3                       |Thursday     |Curven Swiegelaar|South Africa|Cape Hybrid Inland (1) - Off Trade|South |Sales Service|null                          |\n|OFF TRADE|Outlet       |52260             |Liquor City (Somerset West) (EFT 24hrs)|001Tn000003FJEkIAO|Sh 401 Somerset Value Mart                                                        |Somerset West|Retail Franchise     |ZA RETAIL OTHER                |Group Corporate          |null                |Liquor City      |Liquor City Corporate|null                     |High                        |High                              |-34,085,311,600,000,000      |18,824,000,400,000,000        |Active|Weekly                               |Tuesday      |Curven Swiegelaar|South Africa|Cape Hybrid Inland (1) - Off Trade|South |Sales Service|Daryl Pillay                  |\n|OFF TRADE|Outlet       |63685             |Tops Haasendal   36118                 |001Tn000003FKeiIAG|Sh 47 3 Haasendal Boulevard                                                       |Kuils River  |Retail Grocery       |ZA RETAIL GROCERY              |Group Franchise          |null                |Spar Group       |Spar WC              |null                     |High                        |High                              |-33,895,769,807,723,400      |18,502,715,078,192,700        |Active|Weekly                               |Tuesday      |Curven Swiegelaar|South Africa|Cape Hybrid Inland (1) - Off Trade|South |Sales Service|Jacques Weideman              |\n|OFF TRADE|Outlet       |null              |Woolworths Waterstone Village          |001Tn0000066FIjIAM|Shop 38/39 Waterstone Village Corner of R44&amp; main Rd,Somerset West, Cape Town,7130|Somerset West|null                 |ZA RETAIL GROCERY              |Group Corporate          |null                |Woolworths       |null                 |null                     |High                        |High                              |-34,070,497,300,000,000      |18,827,970,800,000,000        |Active|Weekly                               |Wednesday    |Curven Swiegelaar|South Africa|Cape Hybrid Inland (1) - Off Trade|South |Sales Service|Hein Stander                  |\n|OFF TRADE|Outlet       |null              |Checkers Kenilworth                    |001Tn000003FDIrIAO|kenilworth Centre , shop 17 , Chichester road , claremont                         |Kenilworth   |null                 |ZA RETAIL GROCERY              |Group Corporate          |null                |Shoprite Checkers|null                 |null                     |High                        |High                              |-33,988,986,800,000,000      |18,485,150,000,000,000        |Active|2/Month W1 &amp; 4                       |Monday       |Sibongile Magazi |South Africa|Cape Hybrid Inland (2) - Off Trade|South |Sales Service|Hein Stander                  |\n|OFF TRADE|Outlet       |11878             |Makro (Ottery)                         |001Tn000003FDSkIAO|cnr Ottery/Oldstrandfontein R                                                     |Cape Town    |Wholesaler           |ZA WHOLESALER                  |Group Corporate          |null                |Makro            |Makro                |null                     |High                        |High                              |-34,011,188,800,000,000      |18,509,214,700,000,000        |Active|Weekly                               |Monday       |Sibongile Magazi |South Africa|Cape Hybrid Inland (2) - Off Trade|South |Sales Service|Chad Haverly                  |\n|OFF TRADE|Outlet       |12303             |Picardi Rebel (Claremont)              |001Tn000003FEZbIAO|218 Main Road                                                                     |Cape Town    |Retail Franchise     |ZA RETAIL OTHER                |Group Corporate          |null                |Picardi Rebel    |Picardi - Coastal    |null                     |High                        |High                              |-33,985,529,700,000,000      |18,465,671,500,000,000        |Active|2/Month W2 &amp; 4                       |Tuesday      |Sibongile Magazi |South Africa|Cape Hybrid Inland (2) - Off Trade|South |Sales Service|Hein Stander                  |\n|OFF TRADE|Outlet       |9869              |Picardi Rebel (Parklands Junction)     |001Tn000003FEvMIAW|Sh 10 Parkland Junction                                                           |Cape Town    |Retail Franchise     |ZA RETAIL OTHER                |Group Corporate          |null                |Picardi Rebel    |Picardi - Coastal    |null                     |High                        |High                              |-33,813,290,700,000,000      |18,507,930,500,000,000        |Active|Weekly                               |Monday       |Sibongile Magazi |South Africa|Cape Hybrid Inland (2) - Off Trade|South |Sales Service|Hein Stander                  |\n|OFF TRADE|Outlet       |37876             |Checkers L/Shop Sandown (31495)        |001Tn000003FGxMIAW|cnr Sandown Rd &amp; Wood Drive                                                       |Parklands    |Retail Grocery       |ZA RETAIL GROCERY              |Group Corporate          |null                |Shoprite Checkers|Checkers             |null                     |High                        |High                              |-33,801,030,400,000,000      |18,503,332,100,000,000        |Active|2/Month W2 &amp; 4                       |Wednesday    |Sibongile Magazi |South Africa|Cape Hybrid Inland (2) - Off Trade|South |Sales Service|Hein Stander                  |\n|OFF TRADE|Outlet       |68041             |Mandela Park Tops                      |001Tn000003FHFQIA4|C/o Govan Mbeki &amp; Oscar Mpetha Roads Khayelitsha 7784                             |Khayelitsha  |null                 |ZA RETAIL GROCERY              |Group Franchise          |null                |Spar Group       |Spar Group           |null                     |High                        |High                              |-34,044,334,100,000,000      |18,688,664,000,000,000        |Active|2/Month W1 &amp; 3                       |Tuesday      |Sibongile Magazi |South Africa|Cape Hybrid Inland (2) - Off Trade|South |Sales Service|Jacques Weideman              |\n+---------+-------------+------------------+---------------------------------------+------------------+----------------------------------------------------------------------------------+-------------+---------------------+-------------------------------+-------------------------+--------------------+-----------------+---------------------+-------------------------+----------------------------+----------------------------------+-----------------------------+------------------------------+------+-------------------------------------+-------------+-----------------+------------+----------------------------------+------+-------------+------------------------------+\nonly showing top 10 rows\n\n</div>",
       "datasetInfos": [],
       "metadata": {},
       "removedWidgets": [],
       "type": "html"
      }
     },
     "output_type": "display_data"
    }
   ],
   "source": [
    "# display(account_list__df.limit(10))\n",
    "account_list__df.show(10, truncate=False)"
   ]
  },
  {
   "cell_type": "markdown",
   "metadata": {
    "application/vnd.databricks.v1+cell": {
     "cellMetadata": {
      "byteLimit": 2048000,
      "rowLimit": 10000
     },
     "inputWidgets": {},
     "nuid": "b479eeb2-6527-4bc3-8b01-a65c3989a47d",
     "showTitle": false,
     "tableResultSettingsMap": {},
     "title": ""
    }
   },
   "source": [
    "#### original tables `Transformation`"
   ]
  },
  {
   "cell_type": "code",
   "execution_count": 0,
   "metadata": {
    "application/vnd.databricks.v1+cell": {
     "cellMetadata": {
      "byteLimit": 2048000,
      "rowLimit": 10000
     },
     "inputWidgets": {},
     "nuid": "bf5dc9b9-16ba-44c8-abdd-4c33b66669d6",
     "showTitle": false,
     "tableResultSettingsMap": {},
     "title": ""
    }
   },
   "outputs": [
    {
     "data": {
      "text/html": [
       "<style scoped>\n",
       "  .ansiout {\n",
       "    display: block;\n",
       "    unicode-bidi: embed;\n",
       "    white-space: pre-wrap;\n",
       "    word-wrap: break-word;\n",
       "    word-break: break-all;\n",
       "    font-family: \"Menlo\", \"Monaco\", \"Consolas\", \"Ubuntu Mono\", \"Source Code Pro\", monospace;\n",
       "    font-size: 13px;\n",
       "    color: #555;\n",
       "    margin-left: 4px;\n",
       "    line-height: 19px;\n",
       "  }\n",
       "</style>\n",
       "<div class=\"ansiout\">+-----------------+---------+--------------------------------------+------------------+---------------------+---------------------------------+-------------------------------------------+---------+------+----------+----------+-------------+---------------+----------------------+-------------+---------------+----------------+---------+----------+--------------+\n",
       "Audit Datetime   |Channel  |Account Name                          |Account 18 ID     |Created By: Full Name|Brand-Quality: Brand Quality Name|Brand-Quality-Size: Brand Quality Size     |Category |Listed|Visibility|Activation|House Pouring|Number of Faces|Regular Price Currency|Regular Price|Store Audit ID |Store Audit Item|Available|Date      |Audit Complete|\n",
       "+-----------------+---------+--------------------------------------+------------------+---------------------+---------------------------------+-------------------------------------------+---------+------+----------+----------+-------------+---------------+----------------------+-------------+---------------+----------------+---------+----------+--------------+\n",
       "2024/10/10, 07:51|OFF TRADE|Thandile Bottle Store (EFT OD)        |001Tn000003F9n9IAC|Zwai Sonjica         |null                             |Luc Belaire Rare Rose 750ml                |CHAMPAGNE|1     |0         |0         |0            |1.0            |ZAR                   |549.0        |a2yTn000000jpHh|SAI-0075621124  |1        |2024/10/10|1             |\n",
       "2024/10/08, 13:41|OFF TRADE|Tops Mdantsane City                   |001Tn0000066FIfIAM|Zwai Sonjica         |null                             |Luc Belaire Luxe Rose Fantome 750ml        |CHAMPAGNE|0     |0         |0         |0            |null           |null                  |null         |a2yTn000000jQ3G|SAI-0075257574  |0        |2024/10/08|1             |\n",
       "2024/10/08, 11:51|OFF TRADE|Checkers L/Shop Zevenwacht (39061)    |001Tn000003FIswIAG|Curven Swiegelaar    |null                             |Luc Belaire Bleu 750ml                     |CHAMPAGNE|0     |0         |0         |0            |null           |null                  |null         |a2yTn000000jS1q|SAI-0075285746  |0        |2024/10/08|1             |\n",
       "2024/10/14, 12:29|OFF TRADE|Agrimark Riebeek West  (1907)(OK)     |001Tn000003FIHOIA4|Fabian Jacobs        |null                             |Ballantines 7YO 6x750ml                    |WHISKY   |0     |0         |0         |0            |null           |null                  |null         |a2yTn000000kFnG|SAI-0075741899  |0        |2024/10/14|1             |\n",
       "2024/10/16, 14:11|OFF TRADE|Tops Stone Square     35707           |001Tn000003FGlcIAG|Curven Swiegelaar    |null                             |Absolut Cocktail Berry Vodkarita 4x300ml   |RTD      |1     |0         |0         |0            |1.0            |ZAR                   |134.99       |a2yTn000000kYrX|SAI-0075898351  |1        |2024/10/16|1             |\n",
       "2024/10/17, 14:42|OFF TRADE|PNP Corporate - Montana  (NC79)       |001Tn000003FDabIAG|Mdu Shongwe          |null                             |Malibu Cocktail Strawberry Daiquiri 4x300ml|RTD      |1     |0         |0         |0            |null           |ZAR                   |119.99       |a2yTn000000kiyv|SAI-0075966207  |1        |2024/10/17|1             |\n",
       "2024/10/01, 12:53|OFF TRADE|PNP Family - King Williams Town (EF16)|001Tn000003F9ubIAC|Zwai Sonjica         |null                             |Jameson Caskmates Stout 12x750ml           |WHISKY   |1     |0         |0         |0            |3.0            |ZAR                   |449.0        |a2yTn000000iYMB|SAI-0074793416  |1        |2024/10/01|1             |\n",
       "2024/10/04, 14:57|OFF TRADE|Checkers L/Shop Castle Rock (32899)   |001Tn000003FGy3IAG|Themba Myeni         |null                             |Chivas XV 750                              |WHISKY   |1     |0         |0         |0            |2.0            |ZAR                   |739.99       |a2yTn000000j5gL|SAI-0075100043  |1        |2024/10/04|1             |\n",
       "2024/10/02, 10:12|OFF TRADE|Tops Spargs Idutywa   46081           |001Tn000003FEvSIAW|Mlungisi Magwaxaza   |null                             |Beefeater Blood Orange 750ml               |GIN      |1     |0         |0         |0            |1.0            |ZAR                   |359.0        |a2yTn000000ipgN|SAI-0074950426  |1        |2024/10/02|1             |\n",
       "2024/10/21, 11:14|OFF TRADE|Shoprite L/Shop Porterville (92643)   |001Tn000003FAuBIAW|Tyrone Engelbrecht   |null                             |Inverroche Amber 750ml                     |GIN      |0     |0         |0         |0            |null           |null                  |null         |a2yTn000000l5h3|SAI-0076149544  |0        |2024/10/21|1             |\n",
       "+-----------------+---------+--------------------------------------+------------------+---------------------+---------------------------------+-------------------------------------------+---------+------+----------+----------+-------------+---------------+----------------------+-------------+---------------+----------------+---------+----------+--------------+\n",
       "only showing top 10 rows\n",
       "\n",
       "</div>"
      ]
     },
     "metadata": {
      "application/vnd.databricks.v1+output": {
       "addedWidgets": {},
       "arguments": {},
       "data": "<div class=\"ansiout\">+-----------------+---------+--------------------------------------+------------------+---------------------+---------------------------------+-------------------------------------------+---------+------+----------+----------+-------------+---------------+----------------------+-------------+---------------+----------------+---------+----------+--------------+\n|Audit Datetime   |Channel  |Account Name                          |Account 18 ID     |Created By: Full Name|Brand-Quality: Brand Quality Name|Brand-Quality-Size: Brand Quality Size     |Category |Listed|Visibility|Activation|House Pouring|Number of Faces|Regular Price Currency|Regular Price|Store Audit ID |Store Audit Item|Available|Date      |Audit Complete|\n+-----------------+---------+--------------------------------------+------------------+---------------------+---------------------------------+-------------------------------------------+---------+------+----------+----------+-------------+---------------+----------------------+-------------+---------------+----------------+---------+----------+--------------+\n|2024/10/10, 07:51|OFF TRADE|Thandile Bottle Store (EFT OD)        |001Tn000003F9n9IAC|Zwai Sonjica         |null                             |Luc Belaire Rare Rose 750ml                |CHAMPAGNE|1     |0         |0         |0            |1.0            |ZAR                   |549.0        |a2yTn000000jpHh|SAI-0075621124  |1        |2024/10/10|1             |\n|2024/10/08, 13:41|OFF TRADE|Tops Mdantsane City                   |001Tn0000066FIfIAM|Zwai Sonjica         |null                             |Luc Belaire Luxe Rose Fantome 750ml        |CHAMPAGNE|0     |0         |0         |0            |null           |null                  |null         |a2yTn000000jQ3G|SAI-0075257574  |0        |2024/10/08|1             |\n|2024/10/08, 11:51|OFF TRADE|Checkers L/Shop Zevenwacht (39061)    |001Tn000003FIswIAG|Curven Swiegelaar    |null                             |Luc Belaire Bleu 750ml                     |CHAMPAGNE|0     |0         |0         |0            |null           |null                  |null         |a2yTn000000jS1q|SAI-0075285746  |0        |2024/10/08|1             |\n|2024/10/14, 12:29|OFF TRADE|Agrimark Riebeek West  (1907)(OK)     |001Tn000003FIHOIA4|Fabian Jacobs        |null                             |Ballantines 7YO 6x750ml                    |WHISKY   |0     |0         |0         |0            |null           |null                  |null         |a2yTn000000kFnG|SAI-0075741899  |0        |2024/10/14|1             |\n|2024/10/16, 14:11|OFF TRADE|Tops Stone Square     35707           |001Tn000003FGlcIAG|Curven Swiegelaar    |null                             |Absolut Cocktail Berry Vodkarita 4x300ml   |RTD      |1     |0         |0         |0            |1.0            |ZAR                   |134.99       |a2yTn000000kYrX|SAI-0075898351  |1        |2024/10/16|1             |\n|2024/10/17, 14:42|OFF TRADE|PNP Corporate - Montana  (NC79)       |001Tn000003FDabIAG|Mdu Shongwe          |null                             |Malibu Cocktail Strawberry Daiquiri 4x300ml|RTD      |1     |0         |0         |0            |null           |ZAR                   |119.99       |a2yTn000000kiyv|SAI-0075966207  |1        |2024/10/17|1             |\n|2024/10/01, 12:53|OFF TRADE|PNP Family - King Williams Town (EF16)|001Tn000003F9ubIAC|Zwai Sonjica         |null                             |Jameson Caskmates Stout 12x750ml           |WHISKY   |1     |0         |0         |0            |3.0            |ZAR                   |449.0        |a2yTn000000iYMB|SAI-0074793416  |1        |2024/10/01|1             |\n|2024/10/04, 14:57|OFF TRADE|Checkers L/Shop Castle Rock (32899)   |001Tn000003FGy3IAG|Themba Myeni         |null                             |Chivas XV 750                              |WHISKY   |1     |0         |0         |0            |2.0            |ZAR                   |739.99       |a2yTn000000j5gL|SAI-0075100043  |1        |2024/10/04|1             |\n|2024/10/02, 10:12|OFF TRADE|Tops Spargs Idutywa   46081           |001Tn000003FEvSIAW|Mlungisi Magwaxaza   |null                             |Beefeater Blood Orange 750ml               |GIN      |1     |0         |0         |0            |1.0            |ZAR                   |359.0        |a2yTn000000ipgN|SAI-0074950426  |1        |2024/10/02|1             |\n|2024/10/21, 11:14|OFF TRADE|Shoprite L/Shop Porterville (92643)   |001Tn000003FAuBIAW|Tyrone Engelbrecht   |null                             |Inverroche Amber 750ml                     |GIN      |0     |0         |0         |0            |null           |null                  |null         |a2yTn000000l5h3|SAI-0076149544  |0        |2024/10/21|1             |\n+-----------------+---------+--------------------------------------+------------------+---------------------+---------------------------------+-------------------------------------------+---------+------+----------+----------+-------------+---------------+----------------------+-------------+---------------+----------------+---------+----------+--------------+\nonly showing top 10 rows\n\n</div>",
       "datasetInfos": [],
       "metadata": {},
       "removedWidgets": [],
       "type": "html"
      }
     },
     "output_type": "display_data"
    }
   ],
   "source": [
    "# Extract the date as a string and create a new column 'Date'\n",
    "# Add a new column 'Audit' with a value of 1 for all rows (all of those are audited, boolean)\n",
    "audit_detail_mtd__df = audit_detail_mtd__df \\\n",
    "  .withColumn( \n",
    "    \"Date\", audit_detail_mtd__df[\"Audit Datetime\"].substr(1, 10)\n",
    "  ) \\\n",
    "  .withColumn(   \n",
    "     \"Audit Complete\", F.lit(1)\n",
    "  )\n",
    "# display(audit_detail_mtd__df.limit(10))\n",
    "audit_detail_mtd__df.show(10, truncate=False)"
   ]
  },
  {
   "cell_type": "code",
   "execution_count": 0,
   "metadata": {
    "application/vnd.databricks.v1+cell": {
     "cellMetadata": {
      "byteLimit": 2048000,
      "rowLimit": 10000
     },
     "inputWidgets": {},
     "nuid": "90eecd27-6bb9-4c66-9876-700e409e1cc4",
     "showTitle": false,
     "tableResultSettingsMap": {},
     "title": ""
    }
   },
   "outputs": [
    {
     "data": {
      "text/html": [
       "<style scoped>\n",
       "  .ansiout {\n",
       "    display: block;\n",
       "    unicode-bidi: embed;\n",
       "    white-space: pre-wrap;\n",
       "    word-wrap: break-word;\n",
       "    word-break: break-all;\n",
       "    font-family: \"Menlo\", \"Monaco\", \"Consolas\", \"Ubuntu Mono\", \"Source Code Pro\", monospace;\n",
       "    font-size: 13px;\n",
       "    color: #555;\n",
       "    margin-left: 4px;\n",
       "    line-height: 19px;\n",
       "  }\n",
       "</style>\n",
       "<div class=\"ansiout\"></div>"
      ]
     },
     "metadata": {
      "application/vnd.databricks.v1+output": {
       "addedWidgets": {},
       "arguments": {},
       "data": "<div class=\"ansiout\"></div>",
       "datasetInfos": [],
       "metadata": {},
       "removedWidgets": [],
       "type": "html"
      }
     },
     "output_type": "display_data"
    }
   ],
   "source": [
    "account_list__df.createOrReplaceTempView(\"account_list__view\")\n",
    "role_map__df.createOrReplaceTempView(\"role_map__df__view\")\n",
    "audit_detail_mtd__df.createOrReplaceTempView(\"audit_detail_mtd__view\")\n",
    "exclusion__df.createOrReplaceTempView(\"exclusion__view\")"
   ]
  },
  {
   "cell_type": "code",
   "execution_count": 0,
   "metadata": {
    "application/vnd.databricks.v1+cell": {
     "cellMetadata": {
      "byteLimit": 2048000,
      "rowLimit": 10000
     },
     "inputWidgets": {},
     "nuid": "9e56fa1f-bffe-4f3a-a45f-8b2864fc5cba",
     "showTitle": false,
     "tableResultSettingsMap": {},
     "title": ""
    }
   },
   "outputs": [
    {
     "data": {
      "text/html": [
       "<style scoped>\n",
       "  .ansiout {\n",
       "    display: block;\n",
       "    unicode-bidi: embed;\n",
       "    white-space: pre-wrap;\n",
       "    word-wrap: break-word;\n",
       "    word-break: break-all;\n",
       "    font-family: \"Menlo\", \"Monaco\", \"Consolas\", \"Ubuntu Mono\", \"Source Code Pro\", monospace;\n",
       "    font-size: 13px;\n",
       "    color: #555;\n",
       "    margin-left: 4px;\n",
       "    line-height: 19px;\n",
       "  }\n",
       "</style>\n",
       "<div class=\"ansiout\"></div>"
      ]
     },
     "metadata": {
      "application/vnd.databricks.v1+output": {
       "addedWidgets": {},
       "arguments": {},
       "data": "<div class=\"ansiout\"></div>",
       "datasetInfos": [],
       "metadata": {},
       "removedWidgets": [],
       "type": "html"
      }
     },
     "output_type": "display_data"
    }
   ],
   "source": [
    "account_list_final__df = \\\n",
    "  spark.sql('''\n",
    "    SELECT \n",
    "      ac.*,\n",
    "      ro.`Area Sales Director` ,\n",
    "      ro.`Account Owner Manager/Sales Manager` AS `Account Owner Manager`,\n",
    "      CASE\n",
    "        WHEN au.`Audit Complete` = 1 THEN 1\n",
    "        ELSE 0\n",
    "      END `Audit Complete`,\n",
    "      CASE\n",
    "        WHEN ex.Exclude = 1 THEN 1\n",
    "        ELSE 0\n",
    "      END Exclusions\n",
    "    FROM account_list__view ac\n",
    "    LEFT JOIN role_map__df__view ro\n",
    "      ON ac.`Owner: Full Name` = ro.`Account Owner/Sales Rep`\n",
    "    LEFT JOIN audit_detail_mtd__view au\n",
    "      ON ac.`Account 18 ID` = au.`Account 18 ID`\n",
    "    LEFT JOIN exclusion__view ex\n",
    "      ON ac.`Account 18 ID` = ex.`Account Id`\n",
    "  ''')"
   ]
  },
  {
   "cell_type": "code",
   "execution_count": 0,
   "metadata": {
    "application/vnd.databricks.v1+cell": {
     "cellMetadata": {
      "byteLimit": 2048000,
      "rowLimit": 10000
     },
     "inputWidgets": {},
     "nuid": "a3570e4a-d8ae-41b5-bd0a-d7e7ee896d9c",
     "showTitle": false,
     "tableResultSettingsMap": {},
     "title": ""
    }
   },
   "outputs": [
    {
     "data": {
      "text/html": [
       "<style scoped>\n",
       "  .ansiout {\n",
       "    display: block;\n",
       "    unicode-bidi: embed;\n",
       "    white-space: pre-wrap;\n",
       "    word-wrap: break-word;\n",
       "    word-break: break-all;\n",
       "    font-family: \"Menlo\", \"Monaco\", \"Consolas\", \"Ubuntu Mono\", \"Source Code Pro\", monospace;\n",
       "    font-size: 13px;\n",
       "    color: #555;\n",
       "    margin-left: 4px;\n",
       "    line-height: 19px;\n",
       "  }\n",
       "</style>\n",
       "<div class=\"ansiout\">+---------+-------------+------------------+------------------------------+------------------+------------------------------------------------------+---------+---------------------+-------------------------------+-------------------------+--------------------+------------+----------------+-------------------------+----------------------------+----------------------------------+-----------------------------+------------------------------+------+-------------------------------------+-------------+-----------------+------------+----------------------------------+------+-------------+------------------------------+-------------------+---------------------+--------------+----------+\n",
       "Channel  |Business Type|Customer No# (ERP)|Account Name                  |Account 18 ID     |Street                                                |City     |Outlet Classification|PRS Group Outlet Type (EU) name|PRS Outlet Type (EU) name|PRS Image Level Name|Chain       |Taxonomy Level 1|PRS Volume Potential Name|PRS Business Potential: Name|PRS Brand Building Potential: Name|Outlet Geolocation (Latitude)|Outlet Geolocation (Longitude)|Status|Visit Frequency: Visit Frequency Name|Preferred Day|Owner: Full Name |Country     |Territory: Territory Name         |Region|Company Type |Key Account Manager: Full Name|Area Sales Director|Account Owner Manager|Audit Complete|Exclusions|\n",
       "+---------+-------------+------------------+------------------------------+------------------+------------------------------------------------------+---------+---------------------+-------------------------------+-------------------------+--------------------+------------+----------------+-------------------------+----------------------------+----------------------------------+-----------------------------+------------------------------+------+-------------------------------------+-------------+-----------------+------------+----------------------------------+------+-------------+------------------------------+-------------------+---------------------+--------------+----------+\n",
       "OFF TRADE|Outlet       |37202             |Game Liquors (Zevenwacht)  327|001Tn000003FFmpIAG|Shop 220, Zevenwacht Mall, Van Riebeeck Rd, Kuilsriver|Bellville|Retail Franchise     |ZA RETAIL GROCERY              |Group Corporate          |null                |Game Liquors|Game Liquors    |null                     |High                        |High                              |-34,000,706,872,934,400      |18,726,913,360,896,200        |Active|2/Month W1 &amp; 3                       |Thursday     |Curven Swiegelaar|South Africa|Cape Hybrid Inland (1) - Off Trade|South |Sales Service|null                          |Karen Wahl         |Johan van Niekerk    |1             |0         |\n",
       "OFF TRADE|Outlet       |37202             |Game Liquors (Zevenwacht)  327|001Tn000003FFmpIAG|Shop 220, Zevenwacht Mall, Van Riebeeck Rd, Kuilsriver|Bellville|Retail Franchise     |ZA RETAIL GROCERY              |Group Corporate          |null                |Game Liquors|Game Liquors    |null                     |High                        |High                              |-34,000,706,872,934,400      |18,726,913,360,896,200        |Active|2/Month W1 &amp; 3                       |Thursday     |Curven Swiegelaar|South Africa|Cape Hybrid Inland (1) - Off Trade|South |Sales Service|null                          |Karen Wahl         |Johan van Niekerk    |1             |0         |\n",
       "OFF TRADE|Outlet       |37202             |Game Liquors (Zevenwacht)  327|001Tn000003FFmpIAG|Shop 220, Zevenwacht Mall, Van Riebeeck Rd, Kuilsriver|Bellville|Retail Franchise     |ZA RETAIL GROCERY              |Group Corporate          |null                |Game Liquors|Game Liquors    |null                     |High                        |High                              |-34,000,706,872,934,400      |18,726,913,360,896,200        |Active|2/Month W1 &amp; 3                       |Thursday     |Curven Swiegelaar|South Africa|Cape Hybrid Inland (1) - Off Trade|South |Sales Service|null                          |Karen Wahl         |Johan van Niekerk    |1             |0         |\n",
       "OFF TRADE|Outlet       |37202             |Game Liquors (Zevenwacht)  327|001Tn000003FFmpIAG|Shop 220, Zevenwacht Mall, Van Riebeeck Rd, Kuilsriver|Bellville|Retail Franchise     |ZA RETAIL GROCERY              |Group Corporate          |null                |Game Liquors|Game Liquors    |null                     |High                        |High                              |-34,000,706,872,934,400      |18,726,913,360,896,200        |Active|2/Month W1 &amp; 3                       |Thursday     |Curven Swiegelaar|South Africa|Cape Hybrid Inland (1) - Off Trade|South |Sales Service|null                          |Karen Wahl         |Johan van Niekerk    |1             |0         |\n",
       "OFF TRADE|Outlet       |37202             |Game Liquors (Zevenwacht)  327|001Tn000003FFmpIAG|Shop 220, Zevenwacht Mall, Van Riebeeck Rd, Kuilsriver|Bellville|Retail Franchise     |ZA RETAIL GROCERY              |Group Corporate          |null                |Game Liquors|Game Liquors    |null                     |High                        |High                              |-34,000,706,872,934,400      |18,726,913,360,896,200        |Active|2/Month W1 &amp; 3                       |Thursday     |Curven Swiegelaar|South Africa|Cape Hybrid Inland (1) - Off Trade|South |Sales Service|null                          |Karen Wahl         |Johan van Niekerk    |1             |0         |\n",
       "OFF TRADE|Outlet       |37202             |Game Liquors (Zevenwacht)  327|001Tn000003FFmpIAG|Shop 220, Zevenwacht Mall, Van Riebeeck Rd, Kuilsriver|Bellville|Retail Franchise     |ZA RETAIL GROCERY              |Group Corporate          |null                |Game Liquors|Game Liquors    |null                     |High                        |High                              |-34,000,706,872,934,400      |18,726,913,360,896,200        |Active|2/Month W1 &amp; 3                       |Thursday     |Curven Swiegelaar|South Africa|Cape Hybrid Inland (1) - Off Trade|South |Sales Service|null                          |Karen Wahl         |Johan van Niekerk    |1             |0         |\n",
       "OFF TRADE|Outlet       |37202             |Game Liquors (Zevenwacht)  327|001Tn000003FFmpIAG|Shop 220, Zevenwacht Mall, Van Riebeeck Rd, Kuilsriver|Bellville|Retail Franchise     |ZA RETAIL GROCERY              |Group Corporate          |null                |Game Liquors|Game Liquors    |null                     |High                        |High                              |-34,000,706,872,934,400      |18,726,913,360,896,200        |Active|2/Month W1 &amp; 3                       |Thursday     |Curven Swiegelaar|South Africa|Cape Hybrid Inland (1) - Off Trade|South |Sales Service|null                          |Karen Wahl         |Johan van Niekerk    |1             |0         |\n",
       "OFF TRADE|Outlet       |37202             |Game Liquors (Zevenwacht)  327|001Tn000003FFmpIAG|Shop 220, Zevenwacht Mall, Van Riebeeck Rd, Kuilsriver|Bellville|Retail Franchise     |ZA RETAIL GROCERY              |Group Corporate          |null                |Game Liquors|Game Liquors    |null                     |High                        |High                              |-34,000,706,872,934,400      |18,726,913,360,896,200        |Active|2/Month W1 &amp; 3                       |Thursday     |Curven Swiegelaar|South Africa|Cape Hybrid Inland (1) - Off Trade|South |Sales Service|null                          |Karen Wahl         |Johan van Niekerk    |1             |0         |\n",
       "OFF TRADE|Outlet       |37202             |Game Liquors (Zevenwacht)  327|001Tn000003FFmpIAG|Shop 220, Zevenwacht Mall, Van Riebeeck Rd, Kuilsriver|Bellville|Retail Franchise     |ZA RETAIL GROCERY              |Group Corporate          |null                |Game Liquors|Game Liquors    |null                     |High                        |High                              |-34,000,706,872,934,400      |18,726,913,360,896,200        |Active|2/Month W1 &amp; 3                       |Thursday     |Curven Swiegelaar|South Africa|Cape Hybrid Inland (1) - Off Trade|South |Sales Service|null                          |Karen Wahl         |Johan van Niekerk    |1             |0         |\n",
       "OFF TRADE|Outlet       |37202             |Game Liquors (Zevenwacht)  327|001Tn000003FFmpIAG|Shop 220, Zevenwacht Mall, Van Riebeeck Rd, Kuilsriver|Bellville|Retail Franchise     |ZA RETAIL GROCERY              |Group Corporate          |null                |Game Liquors|Game Liquors    |null                     |High                        |High                              |-34,000,706,872,934,400      |18,726,913,360,896,200        |Active|2/Month W1 &amp; 3                       |Thursday     |Curven Swiegelaar|South Africa|Cape Hybrid Inland (1) - Off Trade|South |Sales Service|null                          |Karen Wahl         |Johan van Niekerk    |1             |0         |\n",
       "+---------+-------------+------------------+------------------------------+------------------+------------------------------------------------------+---------+---------------------+-------------------------------+-------------------------+--------------------+------------+----------------+-------------------------+----------------------------+----------------------------------+-----------------------------+------------------------------+------+-------------------------------------+-------------+-----------------+------------+----------------------------------+------+-------------+------------------------------+-------------------+---------------------+--------------+----------+\n",
       "only showing top 10 rows\n",
       "\n",
       "</div>"
      ]
     },
     "metadata": {
      "application/vnd.databricks.v1+output": {
       "addedWidgets": {},
       "arguments": {},
       "data": "<div class=\"ansiout\">+---------+-------------+------------------+------------------------------+------------------+------------------------------------------------------+---------+---------------------+-------------------------------+-------------------------+--------------------+------------+----------------+-------------------------+----------------------------+----------------------------------+-----------------------------+------------------------------+------+-------------------------------------+-------------+-----------------+------------+----------------------------------+------+-------------+------------------------------+-------------------+---------------------+--------------+----------+\n|Channel  |Business Type|Customer No# (ERP)|Account Name                  |Account 18 ID     |Street                                                |City     |Outlet Classification|PRS Group Outlet Type (EU) name|PRS Outlet Type (EU) name|PRS Image Level Name|Chain       |Taxonomy Level 1|PRS Volume Potential Name|PRS Business Potential: Name|PRS Brand Building Potential: Name|Outlet Geolocation (Latitude)|Outlet Geolocation (Longitude)|Status|Visit Frequency: Visit Frequency Name|Preferred Day|Owner: Full Name |Country     |Territory: Territory Name         |Region|Company Type |Key Account Manager: Full Name|Area Sales Director|Account Owner Manager|Audit Complete|Exclusions|\n+---------+-------------+------------------+------------------------------+------------------+------------------------------------------------------+---------+---------------------+-------------------------------+-------------------------+--------------------+------------+----------------+-------------------------+----------------------------+----------------------------------+-----------------------------+------------------------------+------+-------------------------------------+-------------+-----------------+------------+----------------------------------+------+-------------+------------------------------+-------------------+---------------------+--------------+----------+\n|OFF TRADE|Outlet       |37202             |Game Liquors (Zevenwacht)  327|001Tn000003FFmpIAG|Shop 220, Zevenwacht Mall, Van Riebeeck Rd, Kuilsriver|Bellville|Retail Franchise     |ZA RETAIL GROCERY              |Group Corporate          |null                |Game Liquors|Game Liquors    |null                     |High                        |High                              |-34,000,706,872,934,400      |18,726,913,360,896,200        |Active|2/Month W1 &amp; 3                       |Thursday     |Curven Swiegelaar|South Africa|Cape Hybrid Inland (1) - Off Trade|South |Sales Service|null                          |Karen Wahl         |Johan van Niekerk    |1             |0         |\n|OFF TRADE|Outlet       |37202             |Game Liquors (Zevenwacht)  327|001Tn000003FFmpIAG|Shop 220, Zevenwacht Mall, Van Riebeeck Rd, Kuilsriver|Bellville|Retail Franchise     |ZA RETAIL GROCERY              |Group Corporate          |null                |Game Liquors|Game Liquors    |null                     |High                        |High                              |-34,000,706,872,934,400      |18,726,913,360,896,200        |Active|2/Month W1 &amp; 3                       |Thursday     |Curven Swiegelaar|South Africa|Cape Hybrid Inland (1) - Off Trade|South |Sales Service|null                          |Karen Wahl         |Johan van Niekerk    |1             |0         |\n|OFF TRADE|Outlet       |37202             |Game Liquors (Zevenwacht)  327|001Tn000003FFmpIAG|Shop 220, Zevenwacht Mall, Van Riebeeck Rd, Kuilsriver|Bellville|Retail Franchise     |ZA RETAIL GROCERY              |Group Corporate          |null                |Game Liquors|Game Liquors    |null                     |High                        |High                              |-34,000,706,872,934,400      |18,726,913,360,896,200        |Active|2/Month W1 &amp; 3                       |Thursday     |Curven Swiegelaar|South Africa|Cape Hybrid Inland (1) - Off Trade|South |Sales Service|null                          |Karen Wahl         |Johan van Niekerk    |1             |0         |\n|OFF TRADE|Outlet       |37202             |Game Liquors (Zevenwacht)  327|001Tn000003FFmpIAG|Shop 220, Zevenwacht Mall, Van Riebeeck Rd, Kuilsriver|Bellville|Retail Franchise     |ZA RETAIL GROCERY              |Group Corporate          |null                |Game Liquors|Game Liquors    |null                     |High                        |High                              |-34,000,706,872,934,400      |18,726,913,360,896,200        |Active|2/Month W1 &amp; 3                       |Thursday     |Curven Swiegelaar|South Africa|Cape Hybrid Inland (1) - Off Trade|South |Sales Service|null                          |Karen Wahl         |Johan van Niekerk    |1             |0         |\n|OFF TRADE|Outlet       |37202             |Game Liquors (Zevenwacht)  327|001Tn000003FFmpIAG|Shop 220, Zevenwacht Mall, Van Riebeeck Rd, Kuilsriver|Bellville|Retail Franchise     |ZA RETAIL GROCERY              |Group Corporate          |null                |Game Liquors|Game Liquors    |null                     |High                        |High                              |-34,000,706,872,934,400      |18,726,913,360,896,200        |Active|2/Month W1 &amp; 3                       |Thursday     |Curven Swiegelaar|South Africa|Cape Hybrid Inland (1) - Off Trade|South |Sales Service|null                          |Karen Wahl         |Johan van Niekerk    |1             |0         |\n|OFF TRADE|Outlet       |37202             |Game Liquors (Zevenwacht)  327|001Tn000003FFmpIAG|Shop 220, Zevenwacht Mall, Van Riebeeck Rd, Kuilsriver|Bellville|Retail Franchise     |ZA RETAIL GROCERY              |Group Corporate          |null                |Game Liquors|Game Liquors    |null                     |High                        |High                              |-34,000,706,872,934,400      |18,726,913,360,896,200        |Active|2/Month W1 &amp; 3                       |Thursday     |Curven Swiegelaar|South Africa|Cape Hybrid Inland (1) - Off Trade|South |Sales Service|null                          |Karen Wahl         |Johan van Niekerk    |1             |0         |\n|OFF TRADE|Outlet       |37202             |Game Liquors (Zevenwacht)  327|001Tn000003FFmpIAG|Shop 220, Zevenwacht Mall, Van Riebeeck Rd, Kuilsriver|Bellville|Retail Franchise     |ZA RETAIL GROCERY              |Group Corporate          |null                |Game Liquors|Game Liquors    |null                     |High                        |High                              |-34,000,706,872,934,400      |18,726,913,360,896,200        |Active|2/Month W1 &amp; 3                       |Thursday     |Curven Swiegelaar|South Africa|Cape Hybrid Inland (1) - Off Trade|South |Sales Service|null                          |Karen Wahl         |Johan van Niekerk    |1             |0         |\n|OFF TRADE|Outlet       |37202             |Game Liquors (Zevenwacht)  327|001Tn000003FFmpIAG|Shop 220, Zevenwacht Mall, Van Riebeeck Rd, Kuilsriver|Bellville|Retail Franchise     |ZA RETAIL GROCERY              |Group Corporate          |null                |Game Liquors|Game Liquors    |null                     |High                        |High                              |-34,000,706,872,934,400      |18,726,913,360,896,200        |Active|2/Month W1 &amp; 3                       |Thursday     |Curven Swiegelaar|South Africa|Cape Hybrid Inland (1) - Off Trade|South |Sales Service|null                          |Karen Wahl         |Johan van Niekerk    |1             |0         |\n|OFF TRADE|Outlet       |37202             |Game Liquors (Zevenwacht)  327|001Tn000003FFmpIAG|Shop 220, Zevenwacht Mall, Van Riebeeck Rd, Kuilsriver|Bellville|Retail Franchise     |ZA RETAIL GROCERY              |Group Corporate          |null                |Game Liquors|Game Liquors    |null                     |High                        |High                              |-34,000,706,872,934,400      |18,726,913,360,896,200        |Active|2/Month W1 &amp; 3                       |Thursday     |Curven Swiegelaar|South Africa|Cape Hybrid Inland (1) - Off Trade|South |Sales Service|null                          |Karen Wahl         |Johan van Niekerk    |1             |0         |\n|OFF TRADE|Outlet       |37202             |Game Liquors (Zevenwacht)  327|001Tn000003FFmpIAG|Shop 220, Zevenwacht Mall, Van Riebeeck Rd, Kuilsriver|Bellville|Retail Franchise     |ZA RETAIL GROCERY              |Group Corporate          |null                |Game Liquors|Game Liquors    |null                     |High                        |High                              |-34,000,706,872,934,400      |18,726,913,360,896,200        |Active|2/Month W1 &amp; 3                       |Thursday     |Curven Swiegelaar|South Africa|Cape Hybrid Inland (1) - Off Trade|South |Sales Service|null                          |Karen Wahl         |Johan van Niekerk    |1             |0         |\n+---------+-------------+------------------+------------------------------+------------------+------------------------------------------------------+---------+---------------------+-------------------------------+-------------------------+--------------------+------------+----------------+-------------------------+----------------------------+----------------------------------+-----------------------------+------------------------------+------+-------------------------------------+-------------+-----------------+------------+----------------------------------+------+-------------+------------------------------+-------------------+---------------------+--------------+----------+\nonly showing top 10 rows\n\n</div>",
       "datasetInfos": [],
       "metadata": {},
       "removedWidgets": [],
       "type": "html"
      }
     },
     "output_type": "display_data"
    }
   ],
   "source": [
    "# display(account_list_final__df.limit(10))\n",
    "account_list_final__df.show(10, truncate=False)"
   ]
  },
  {
   "cell_type": "code",
   "execution_count": 0,
   "metadata": {
    "application/vnd.databricks.v1+cell": {
     "cellMetadata": {
      "byteLimit": 2048000,
      "rowLimit": 10000
     },
     "inputWidgets": {},
     "nuid": "1602fee6-2edd-4215-a488-64c12ecc1ed7",
     "showTitle": false,
     "tableResultSettingsMap": {},
     "title": ""
    }
   },
   "outputs": [
    {
     "data": {
      "text/html": [
       "<style scoped>\n",
       "  .ansiout {\n",
       "    display: block;\n",
       "    unicode-bidi: embed;\n",
       "    white-space: pre-wrap;\n",
       "    word-wrap: break-word;\n",
       "    word-break: break-all;\n",
       "    font-family: \"Menlo\", \"Monaco\", \"Consolas\", \"Ubuntu Mono\", \"Source Code Pro\", monospace;\n",
       "    font-size: 13px;\n",
       "    color: #555;\n",
       "    margin-left: 4px;\n",
       "    line-height: 19px;\n",
       "  }\n",
       "</style>\n",
       "<div class=\"ansiout\">root\n",
       "-- Channel: string (nullable = true)\n",
       "-- Business Type: string (nullable = true)\n",
       "-- Customer No# (ERP): string (nullable = true)\n",
       "-- Account Name: string (nullable = true)\n",
       "-- Account 18 ID: string (nullable = true)\n",
       "-- Street: string (nullable = true)\n",
       "-- City: string (nullable = true)\n",
       "-- Outlet Classification: string (nullable = true)\n",
       "-- PRS Group Outlet Type (EU) name: string (nullable = true)\n",
       "-- PRS Outlet Type (EU) name: string (nullable = true)\n",
       "-- PRS Image Level Name: string (nullable = true)\n",
       "-- Chain: string (nullable = true)\n",
       "-- Taxonomy Level 1: string (nullable = true)\n",
       "-- PRS Volume Potential Name: string (nullable = true)\n",
       "-- PRS Business Potential: Name: string (nullable = true)\n",
       "-- PRS Brand Building Potential: Name: string (nullable = true)\n",
       "-- Outlet Geolocation (Latitude): string (nullable = true)\n",
       "-- Outlet Geolocation (Longitude): string (nullable = true)\n",
       "-- Status: string (nullable = true)\n",
       "-- Visit Frequency: Visit Frequency Name: string (nullable = true)\n",
       "-- Preferred Day: string (nullable = true)\n",
       "-- Owner: Full Name: string (nullable = true)\n",
       "-- Country: string (nullable = true)\n",
       "-- Territory: Territory Name: string (nullable = true)\n",
       "-- Region: string (nullable = true)\n",
       "-- Company Type: string (nullable = true)\n",
       "-- Key Account Manager: Full Name: string (nullable = true)\n",
       "-- Area Sales Director: string (nullable = true)\n",
       "-- Account Owner Manager: string (nullable = true)\n",
       "-- Audit Complete: integer (nullable = false)\n",
       "-- Exclusions: integer (nullable = false)\n",
       "\n",
       "</div>"
      ]
     },
     "metadata": {
      "application/vnd.databricks.v1+output": {
       "addedWidgets": {},
       "arguments": {},
       "data": "<div class=\"ansiout\">root\n |-- Channel: string (nullable = true)\n |-- Business Type: string (nullable = true)\n |-- Customer No# (ERP): string (nullable = true)\n |-- Account Name: string (nullable = true)\n |-- Account 18 ID: string (nullable = true)\n |-- Street: string (nullable = true)\n |-- City: string (nullable = true)\n |-- Outlet Classification: string (nullable = true)\n |-- PRS Group Outlet Type (EU) name: string (nullable = true)\n |-- PRS Outlet Type (EU) name: string (nullable = true)\n |-- PRS Image Level Name: string (nullable = true)\n |-- Chain: string (nullable = true)\n |-- Taxonomy Level 1: string (nullable = true)\n |-- PRS Volume Potential Name: string (nullable = true)\n |-- PRS Business Potential: Name: string (nullable = true)\n |-- PRS Brand Building Potential: Name: string (nullable = true)\n |-- Outlet Geolocation (Latitude): string (nullable = true)\n |-- Outlet Geolocation (Longitude): string (nullable = true)\n |-- Status: string (nullable = true)\n |-- Visit Frequency: Visit Frequency Name: string (nullable = true)\n |-- Preferred Day: string (nullable = true)\n |-- Owner: Full Name: string (nullable = true)\n |-- Country: string (nullable = true)\n |-- Territory: Territory Name: string (nullable = true)\n |-- Region: string (nullable = true)\n |-- Company Type: string (nullable = true)\n |-- Key Account Manager: Full Name: string (nullable = true)\n |-- Area Sales Director: string (nullable = true)\n |-- Account Owner Manager: string (nullable = true)\n |-- Audit Complete: integer (nullable = false)\n |-- Exclusions: integer (nullable = false)\n\n</div>",
       "datasetInfos": [],
       "metadata": {},
       "removedWidgets": [],
       "type": "html"
      }
     },
     "output_type": "display_data"
    }
   ],
   "source": [
    "account_list_final__df.printSchema()"
   ]
  },
  {
   "cell_type": "markdown",
   "metadata": {
    "application/vnd.databricks.v1+cell": {
     "cellMetadata": {},
     "inputWidgets": {},
     "nuid": "3e6ca199-a8e2-4c67-9b47-2fe85410b32d",
     "showTitle": false,
     "tableResultSettingsMap": {},
     "title": ""
    }
   },
   "source": [
    "#### `New tables` for export: \"Audit gap list\" series"
   ]
  },
  {
   "cell_type": "code",
   "execution_count": 0,
   "metadata": {
    "application/vnd.databricks.v1+cell": {
     "cellMetadata": {
      "byteLimit": 2048000,
      "rowLimit": 10000
     },
     "inputWidgets": {},
     "nuid": "3c7881fd-8150-4397-aba7-f981c4cb37b9",
     "showTitle": false,
     "tableResultSettingsMap": {},
     "title": ""
    }
   },
   "outputs": [
    {
     "data": {
      "text/html": [
       "<style scoped>\n",
       "  .ansiout {\n",
       "    display: block;\n",
       "    unicode-bidi: embed;\n",
       "    white-space: pre-wrap;\n",
       "    word-wrap: break-word;\n",
       "    word-break: break-all;\n",
       "    font-family: \"Menlo\", \"Monaco\", \"Consolas\", \"Ubuntu Mono\", \"Source Code Pro\", monospace;\n",
       "    font-size: 13px;\n",
       "    color: #555;\n",
       "    margin-left: 4px;\n",
       "    line-height: 19px;\n",
       "  }\n",
       "</style>\n",
       "<div class=\"ansiout\"></div>"
      ]
     },
     "metadata": {
      "application/vnd.databricks.v1+output": {
       "addedWidgets": {},
       "arguments": {},
       "data": "<div class=\"ansiout\"></div>",
       "datasetInfos": [],
       "metadata": {},
       "removedWidgets": [],
       "type": "html"
      }
     },
     "output_type": "display_data"
    }
   ],
   "source": [
    "account_list_final__df.createOrReplaceTempView(\"account_list_final__view\")"
   ]
  },
  {
   "cell_type": "markdown",
   "metadata": {
    "application/vnd.databricks.v1+cell": {
     "cellMetadata": {
      "byteLimit": 2048000,
      "rowLimit": 10000
     },
     "inputWidgets": {},
     "nuid": "9650bd90-3839-40ff-93ec-82ad191c1e33",
     "showTitle": false,
     "tableResultSettingsMap": {},
     "title": ""
    }
   },
   "source": [
    "`Previous` tab, from \"audit gap list\" excel\n",
    "<br>\n",
    "Pending:\n",
    "<br>\n",
    "- Does not refer to the model, confirm data source.\n",
    "<br>\n",
    "- Here we assume that \"MTD Audit %\" column is calculated as proposed below.\n",
    "<br>\n",
    "- COUNT or SUM, add DISTINCT?\n",
    "<br>\n",
    "- \"Owner: Full Name\" = \"Account (EU): Owner Name\" ?\n",
    "<br>\n",
    "Note: consider that in the template there are no formulas for these fields."
   ]
  },
  {
   "cell_type": "code",
   "execution_count": 0,
   "metadata": {
    "application/vnd.databricks.v1+cell": {
     "cellMetadata": {
      "byteLimit": 2048000,
      "rowLimit": 10000
     },
     "inputWidgets": {},
     "nuid": "b140f3d1-66bc-48f7-b249-7fb601b28218",
     "showTitle": false,
     "tableResultSettingsMap": {},
     "title": ""
    }
   },
   "outputs": [
    {
     "data": {
      "text/html": [
       "<style scoped>\n",
       "  .ansiout {\n",
       "    display: block;\n",
       "    unicode-bidi: embed;\n",
       "    white-space: pre-wrap;\n",
       "    word-wrap: break-word;\n",
       "    word-break: break-all;\n",
       "    font-family: \"Menlo\", \"Monaco\", \"Consolas\", \"Ubuntu Mono\", \"Source Code Pro\", monospace;\n",
       "    font-size: 13px;\n",
       "    color: #555;\n",
       "    margin-left: 4px;\n",
       "    line-height: 19px;\n",
       "  }\n",
       "</style>\n",
       "<div class=\"ansiout\">+-------------------+---------------------+------------------------+-------------------------------+---------------------+-----------------------+-----------+\n",
       "Area Sales Director|Account Owner Manager|Account (EU): Owner Name|concatenated_names             |Count of Account Name|Sum of Audits Completed|MTD Audit %|\n",
       "+-------------------+---------------------+------------------------+-------------------------------+---------------------+-----------------------+-----------+\n",
       "Oscar Sithole      |Rufus Moleko         |Tshepo Masilela         |Rufus MolekoTshepo Masilela    |9163                 |9152                   |100.0      |\n",
       "Oscar Sithole      |Tshepo Mokale        |Seoketso Kotane         |Tshepo MokaleSeoketso Kotane   |3773                 |3718                   |99.0       |\n",
       "null               |null                 |Tsediso Phantsi         |null                           |111                  |0                      |0.0        |\n",
       "Celeste Carstens   |Brandon Pillay       |Themba Myeni            |Brandon PillayThemba Myeni     |7484                 |7483                   |100.0      |\n",
       "Karen Wahl         |Ross Bennett         |Simpiwe Dambuza         |Ross BennettSimpiwe Dambuza    |3169                 |3124                   |99.0       |\n",
       "Oscar Sithole      |Rufus Moleko         |Brian Mvelase           |Rufus MolekoBrian Mvelase      |456                  |360                    |79.0       |\n",
       "Celeste Carstens   |Brandon Pillay       |Vincent Msowoya         |Brandon PillayVincent Msowoya  |5073                 |5051                   |100.0      |\n",
       "Wayne MacFarlane   |Johnny Joubert       |Lungile Itumeleng       |Johnny JoubertLungile Itumeleng|6101                 |6081                   |100.0      |\n",
       "Oscar Sithole      |Rufus Moleko         |Thabo Ubisi             |Rufus MolekoThabo Ubisi        |5161                 |5127                   |99.0       |\n",
       "Celeste Carstens   |Ray Saunders         |Mlungisi Magwaxaza      |Ray SaundersMlungisi Magwaxaza |7010                 |6989                   |100.0      |\n",
       "+-------------------+---------------------+------------------------+-------------------------------+---------------------+-----------------------+-----------+\n",
       "only showing top 10 rows\n",
       "\n",
       "</div>"
      ]
     },
     "metadata": {
      "application/vnd.databricks.v1+output": {
       "addedWidgets": {},
       "arguments": {},
       "data": "<div class=\"ansiout\">+-------------------+---------------------+------------------------+-------------------------------+---------------------+-----------------------+-----------+\n|Area Sales Director|Account Owner Manager|Account (EU): Owner Name|concatenated_names             |Count of Account Name|Sum of Audits Completed|MTD Audit %|\n+-------------------+---------------------+------------------------+-------------------------------+---------------------+-----------------------+-----------+\n|Oscar Sithole      |Rufus Moleko         |Tshepo Masilela         |Rufus MolekoTshepo Masilela    |9163                 |9152                   |100.0      |\n|Oscar Sithole      |Tshepo Mokale        |Seoketso Kotane         |Tshepo MokaleSeoketso Kotane   |3773                 |3718                   |99.0       |\n|null               |null                 |Tsediso Phantsi         |null                           |111                  |0                      |0.0        |\n|Celeste Carstens   |Brandon Pillay       |Themba Myeni            |Brandon PillayThemba Myeni     |7484                 |7483                   |100.0      |\n|Karen Wahl         |Ross Bennett         |Simpiwe Dambuza         |Ross BennettSimpiwe Dambuza    |3169                 |3124                   |99.0       |\n|Oscar Sithole      |Rufus Moleko         |Brian Mvelase           |Rufus MolekoBrian Mvelase      |456                  |360                    |79.0       |\n|Celeste Carstens   |Brandon Pillay       |Vincent Msowoya         |Brandon PillayVincent Msowoya  |5073                 |5051                   |100.0      |\n|Wayne MacFarlane   |Johnny Joubert       |Lungile Itumeleng       |Johnny JoubertLungile Itumeleng|6101                 |6081                   |100.0      |\n|Oscar Sithole      |Rufus Moleko         |Thabo Ubisi             |Rufus MolekoThabo Ubisi        |5161                 |5127                   |99.0       |\n|Celeste Carstens   |Ray Saunders         |Mlungisi Magwaxaza      |Ray SaundersMlungisi Magwaxaza |7010                 |6989                   |100.0      |\n+-------------------+---------------------+------------------------+-------------------------------+---------------------+-----------------------+-----------+\nonly showing top 10 rows\n\n</div>",
       "datasetInfos": [],
       "metadata": {},
       "removedWidgets": [],
       "type": "html"
      }
     },
     "output_type": "display_data"
    }
   ],
   "source": [
    "previous__df = spark.sql('''\n",
    "  SELECT\n",
    "    *,\n",
    "    ROUND(`Sum of Audits Completed`/`Count of Account Name`*100, 0) AS `MTD Audit %`\n",
    "  FROM (\n",
    "    SELECT \n",
    "      `Area Sales Director` , -- regional director\n",
    "      `Account Owner Manager`, -- sales manager\n",
    "      `Owner: Full Name` AS `Account (EU): Owner Name`, -- sales rep\n",
    "      CONCAT(`Account Owner Manager`,`Owner: Full Name`) AS concatenated_names,\n",
    "      COUNT(`Account Name`) AS `Count of Account Name`,\n",
    "      SUM(`Audit Complete`) AS `Sum of Audits Completed` \n",
    "    FROM account_list_final__view\n",
    "    GROUP BY\n",
    "      `Area Sales Director` ,\n",
    "      `Account Owner Manager`,\n",
    "      `Owner: Full Name`,\n",
    "      CONCAT(`Account Owner Manager`,`Owner: Full Name`)\n",
    "    ) t\n",
    "  ''')\n",
    "\n",
    "# display(previous__df)\n",
    "previous__df.show(10, truncate=False)"
   ]
  },
  {
   "cell_type": "code",
   "execution_count": 0,
   "metadata": {
    "application/vnd.databricks.v1+cell": {
     "cellMetadata": {
      "byteLimit": 2048000,
      "rowLimit": 10000
     },
     "inputWidgets": {},
     "nuid": "394acded-6265-467f-8e57-b5a6ea3571d9",
     "showTitle": false,
     "tableResultSettingsMap": {},
     "title": ""
    }
   },
   "outputs": [
    {
     "data": {
      "text/html": [
       "<style scoped>\n",
       "  .ansiout {\n",
       "    display: block;\n",
       "    unicode-bidi: embed;\n",
       "    white-space: pre-wrap;\n",
       "    word-wrap: break-word;\n",
       "    word-break: break-all;\n",
       "    font-family: \"Menlo\", \"Monaco\", \"Consolas\", \"Ubuntu Mono\", \"Source Code Pro\", monospace;\n",
       "    font-size: 13px;\n",
       "    color: #555;\n",
       "    margin-left: 4px;\n",
       "    line-height: 19px;\n",
       "  }\n",
       "</style>\n",
       "<div class=\"ansiout\"></div>"
      ]
     },
     "metadata": {
      "application/vnd.databricks.v1+output": {
       "addedWidgets": {},
       "arguments": {},
       "data": "<div class=\"ansiout\"></div>",
       "datasetInfos": [],
       "metadata": {},
       "removedWidgets": [],
       "type": "html"
      }
     },
     "output_type": "display_data"
    }
   ],
   "source": [
    "previous__df.createOrReplaceTempView(\"previous__view\")"
   ]
  },
  {
   "cell_type": "markdown",
   "metadata": {
    "application/vnd.databricks.v1+cell": {
     "cellMetadata": {},
     "inputWidgets": {},
     "nuid": "26228fe2-e9f0-4a5d-b39b-901a7673eafc",
     "showTitle": false,
     "tableResultSettingsMap": {},
     "title": ""
    }
   },
   "source": [
    "%md\n",
    "`Pivot Audit Report` tab, from \"audit gap list\" excel.\n",
    "<br>\n",
    "Pending:\n",
    "- \"Previous # of Accounts\" = \"Count of Account 18 ID\" due to the need to review the \"previous\" tab data source\n",
    "<br>"
   ]
  },
  {
   "cell_type": "code",
   "execution_count": 0,
   "metadata": {
    "application/vnd.databricks.v1+cell": {
     "cellMetadata": {
      "byteLimit": 2048000,
      "rowLimit": 10000
     },
     "inputWidgets": {},
     "nuid": "9319ddcb-79ff-427e-9664-93e6f75b121f",
     "showTitle": false,
     "tableResultSettingsMap": {},
     "title": ""
    }
   },
   "outputs": [
    {
     "data": {
      "text/html": [
       "<style scoped>\n",
       "  .ansiout {\n",
       "    display: block;\n",
       "    unicode-bidi: embed;\n",
       "    white-space: pre-wrap;\n",
       "    word-wrap: break-word;\n",
       "    word-break: break-all;\n",
       "    font-family: \"Menlo\", \"Monaco\", \"Consolas\", \"Ubuntu Mono\", \"Source Code Pro\", monospace;\n",
       "    font-size: 13px;\n",
       "    color: #555;\n",
       "    margin-left: 4px;\n",
       "    line-height: 19px;\n",
       "  }\n",
       "</style>\n",
       "<div class=\"ansiout\">+-------------------+---------------------+------------------------+-------------------------------+----------------------+-------------------------------+----------------------+\n",
       "Area Sales Director|Account Owner Manager|Account (EU): Owner Name|concatenated_names             |Count of Account 18 ID|Distinct Count of Account 18 ID|Previous # of Accounts|\n",
       "+-------------------+---------------------+------------------------+-------------------------------+----------------------+-------------------------------+----------------------+\n",
       "Oscar Sithole      |Rufus Moleko         |Tshepo Masilela         |Rufus MolekoTshepo Masilela    |9163                  |85                             |9163                  |\n",
       "Oscar Sithole      |Tshepo Mokale        |Seoketso Kotane         |Tshepo MokaleSeoketso Kotane   |3773                  |102                            |3773                  |\n",
       "Celeste Carstens   |Brandon Pillay       |Themba Myeni            |Brandon PillayThemba Myeni     |7484                  |86                             |7484                  |\n",
       "Karen Wahl         |Ross Bennett         |Simpiwe Dambuza         |Ross BennettSimpiwe Dambuza    |3169                  |91                             |3169                  |\n",
       "Oscar Sithole      |Rufus Moleko         |Brian Mvelase           |Rufus MolekoBrian Mvelase      |456                   |101                            |456                   |\n",
       "Celeste Carstens   |Brandon Pillay       |Vincent Msowoya         |Brandon PillayVincent Msowoya  |5073                  |88                             |5073                  |\n",
       "Wayne MacFarlane   |Johnny Joubert       |Lungile Itumeleng       |Johnny JoubertLungile Itumeleng|6101                  |85                             |6101                  |\n",
       "Oscar Sithole      |Rufus Moleko         |Thabo Ubisi             |Rufus MolekoThabo Ubisi        |5161                  |106                            |5161                  |\n",
       "Celeste Carstens   |Ray Saunders         |Mlungisi Magwaxaza      |Ray SaundersMlungisi Magwaxaza |7010                  |102                            |7010                  |\n",
       "Celeste Carstens   |Andrew Morris        |Lebogang Maaga          |Andrew MorrisLebogang Maaga    |2811                  |96                             |2811                  |\n",
       "+-------------------+---------------------+------------------------+-------------------------------+----------------------+-------------------------------+----------------------+\n",
       "only showing top 10 rows\n",
       "\n",
       "</div>"
      ]
     },
     "metadata": {
      "application/vnd.databricks.v1+output": {
       "addedWidgets": {},
       "arguments": {},
       "data": "<div class=\"ansiout\">+-------------------+---------------------+------------------------+-------------------------------+----------------------+-------------------------------+----------------------+\n|Area Sales Director|Account Owner Manager|Account (EU): Owner Name|concatenated_names             |Count of Account 18 ID|Distinct Count of Account 18 ID|Previous # of Accounts|\n+-------------------+---------------------+------------------------+-------------------------------+----------------------+-------------------------------+----------------------+\n|Oscar Sithole      |Rufus Moleko         |Tshepo Masilela         |Rufus MolekoTshepo Masilela    |9163                  |85                             |9163                  |\n|Oscar Sithole      |Tshepo Mokale        |Seoketso Kotane         |Tshepo MokaleSeoketso Kotane   |3773                  |102                            |3773                  |\n|Celeste Carstens   |Brandon Pillay       |Themba Myeni            |Brandon PillayThemba Myeni     |7484                  |86                             |7484                  |\n|Karen Wahl         |Ross Bennett         |Simpiwe Dambuza         |Ross BennettSimpiwe Dambuza    |3169                  |91                             |3169                  |\n|Oscar Sithole      |Rufus Moleko         |Brian Mvelase           |Rufus MolekoBrian Mvelase      |456                   |101                            |456                   |\n|Celeste Carstens   |Brandon Pillay       |Vincent Msowoya         |Brandon PillayVincent Msowoya  |5073                  |88                             |5073                  |\n|Wayne MacFarlane   |Johnny Joubert       |Lungile Itumeleng       |Johnny JoubertLungile Itumeleng|6101                  |85                             |6101                  |\n|Oscar Sithole      |Rufus Moleko         |Thabo Ubisi             |Rufus MolekoThabo Ubisi        |5161                  |106                            |5161                  |\n|Celeste Carstens   |Ray Saunders         |Mlungisi Magwaxaza      |Ray SaundersMlungisi Magwaxaza |7010                  |102                            |7010                  |\n|Celeste Carstens   |Andrew Morris        |Lebogang Maaga          |Andrew MorrisLebogang Maaga    |2811                  |96                             |2811                  |\n+-------------------+---------------------+------------------------+-------------------------------+----------------------+-------------------------------+----------------------+\nonly showing top 10 rows\n\n</div>",
       "datasetInfos": [],
       "metadata": {},
       "removedWidgets": [],
       "type": "html"
      }
     },
     "output_type": "display_data"
    }
   ],
   "source": [
    "pivot_audit_report__df = spark.sql('''\n",
    "\n",
    "  SELECT \n",
    "   t.*,\n",
    "   p.`Count of Account Name` AS `Previous # of Accounts`\n",
    "  FROM (\n",
    "    SELECT \n",
    "      `Area Sales Director` , -- regional director\n",
    "      `Account Owner Manager`, -- sales manager\n",
    "      `Owner: Full Name` AS `Account (EU): Owner Name`, -- sales rep\n",
    "      CONCAT(`Account Owner Manager`, `Owner: Full Name`) AS concatenated_names,\n",
    "      COUNT(`Account 18 ID`) AS `Count of Account 18 ID`,\n",
    "      COUNT(DISTINCT `Account 18 ID`) AS `Distinct Count of Account 18 ID`\n",
    "    FROM account_list_final__view\n",
    "    GROUP BY\n",
    "      `Area Sales Director` ,\n",
    "      `Account Owner Manager`,\n",
    "      `Owner: Full Name`,\n",
    "      CONCAT(`Account Owner Manager`, `Owner: Full Name`)\n",
    "    ) t\n",
    "  LEFT JOIN previous__view p\n",
    "    ON t.concatenated_names = p.concatenated_names\n",
    "  ''')\n",
    "\n",
    "# display(pivot_audit_report__df)\n",
    "pivot_audit_report__df.show(10, truncate=False)"
   ]
  },
  {
   "cell_type": "markdown",
   "metadata": {
    "application/vnd.databricks.v1+cell": {
     "cellMetadata": {},
     "inputWidgets": {},
     "nuid": "56124daf-fdf2-4d20-bd97-3529dd1908a7",
     "showTitle": false,
     "tableResultSettingsMap": {},
     "title": ""
    }
   },
   "source": [
    "%md\n",
    "`Audit Gap List` tab, from \"audit gap list\" excel.\n",
    "<br>\n",
    "Pending:\n",
    "- lorem ipusm\n",
    "<br>"
   ]
  },
  {
   "cell_type": "code",
   "execution_count": 0,
   "metadata": {
    "application/vnd.databricks.v1+cell": {
     "cellMetadata": {
      "byteLimit": 2048000,
      "rowLimit": 10000
     },
     "inputWidgets": {},
     "nuid": "0efe7ace-aa06-4a5e-b949-914ad5a0bdf3",
     "showTitle": false,
     "tableResultSettingsMap": {},
     "title": ""
    }
   },
   "outputs": [
    {
     "data": {
      "text/html": [
       "<style scoped>\n",
       "  .ansiout {\n",
       "    display: block;\n",
       "    unicode-bidi: embed;\n",
       "    white-space: pre-wrap;\n",
       "    word-wrap: break-word;\n",
       "    word-break: break-all;\n",
       "    font-family: \"Menlo\", \"Monaco\", \"Consolas\", \"Ubuntu Mono\", \"Source Code Pro\", monospace;\n",
       "    font-size: 13px;\n",
       "    color: #555;\n",
       "    margin-left: 4px;\n",
       "    line-height: 19px;\n",
       "  }\n",
       "</style>\n",
       "<div class=\"ansiout\">+---------------------------------+--------------+---------+------------------+-------------------+---------------------+----------------+-------+--------------------------------------+-----------------+----------------------+-------------------------------------+------------------------------+---------------------+-------------------------------+-------------------------+--------------------+-------------------------+-----------------+\n",
       "Account Name                     |Audit Complete|Channel  |Account 18 ID     |Area Sales Director|Account Owner Manager|Owner: Full Name|Region |Territory: Territory Name             |Chain            |Taxonomy Level 1      |Visit Frequency: Visit Frequency Name|Key Account Manager: Full Name|Outlet Classification|PRS Group Outlet Type (EU) name|PRS Outlet Type (EU) name|PRS Image Level Name|PRS Volume Potential Name|Sum of Exclusions|\n",
       "+---------------------------------+--------------+---------+------------------+-------------------+---------------------+----------------+-------+--------------------------------------+-----------------+----------------------+-------------------------------------+------------------------------+---------------------+-------------------------------+-------------------------+--------------------+-------------------------+-----------------+\n",
       "Tops 5 Star     21672            |1             |OFF TRADE|001Tn000003FEv5IAG|Oscar Sithole      |Rufus Moleko         |Tshepo Masilela |North  |Limpopo Mpumalanga Hybrid (8) - Hybrid|Spar Group       |Spar Inland           |2/Month W1 &amp; 3                       |Jacques Weideman              |Retail Grocery       |ZA RETAIL GROCERY              |Group Franchise          |null                |null                     |0                |\n",
       "Oasis Maboneng                   |1             |OFF TRADE|001Tn000006hIJEIA2|Oscar Sithole      |Tshepo Mokale        |Seoketso Kotane |Central|Central Metro Hybrid 2 (3) - Off Trade|Independent      |null                  |2/Month W1 &amp; 4                       |null                          |null                 |ZA COUNTER SERVE               |Independent Independent  |null                |null                     |0                |\n",
       "Loco Liquors (Brakendowns)       |1             |OFF TRADE|001Tn000003FDALIA4|Oscar Sithole      |Tshepo Mokale        |Seoketso Kotane |Central|Central Metro Hybrid 2 (3) - Off Trade|Lifestyle Liquor |Lifestyle Liq - Retail|2/Month W2 &amp; 4                       |null                          |Retail Franchise     |ZA RETAIL OTHER                |Group Franchise          |null                |null                     |0                |\n",
       "Makro (Crown Mines)              |0             |OFF TRADE|001Tn000003FDUcIAO|Oscar Sithole      |Tshepo Mokale        |Seoketso Kotane |Central|Central Metro Hybrid 2 (3) - Off Trade|Makro            |Makro                 |Weekly                               |Chad Haverly                  |Wholesaler           |ZA WHOLESALER                  |Group Corporate          |null                |null                     |0                |\n",
       "Marys Inn                        |0             |OFF TRADE|001Tn000003FDhXIAW|Oscar Sithole      |Tshepo Mokale        |Seoketso Kotane |Central|Central Metro Hybrid 2 (3) - Off Trade|Independent      |Independent           |Weekly                               |null                          |Independent          |ZA COUNTER SERVE               |Independent Independent  |null                |null                     |0                |\n",
       "Loco Liquors (Mondeor)           |0             |OFF TRADE|001Tn000003FEv0IAG|Oscar Sithole      |Tshepo Mokale        |Seoketso Kotane |Central|Central Metro Hybrid 2 (3) - Off Trade|Lifestyle Liquor |Lifestyle Liq - Retail|2/Month W1 &amp; 3                       |null                          |Retail Franchise     |ZA RETAIL OTHER                |Group Franchise          |null                |null                     |0                |\n",
       "Liquor City (Bassonia)  (Cheq)   |0             |OFF TRADE|001Tn000003FGKPIA4|Oscar Sithole      |Tshepo Mokale        |Seoketso Kotane |Central|Central Metro Hybrid 2 (3) - Off Trade|Liquor City      |Liquor City Corporate |Weekly                               |Daryl Pillay                  |Retail Franchise     |ZA RETAIL OTHER                |Group Corporate          |null                |null                     |0                |\n",
       "PNP Family - Brcknhrst (GF04)    |1             |OFF TRADE|001Tn000003FGWrIAO|Oscar Sithole      |Tshepo Mokale        |Seoketso Kotane |Central|Central Metro Hybrid 2 (3) - Off Trade|Pick n Pay       |PNP Family Store      |2/Month W2 &amp; 4                       |Jacques Weideman              |Retail Grocery       |ZA RETAIL GROCERY              |Group Franchise          |null                |null                     |0                |\n",
       "South Hills BBL (IGP127) (7 days)|0             |OFF TRADE|001Tn000003FGmTIAW|Oscar Sithole      |Tshepo Mokale        |Seoketso Kotane |Central|Central Metro Hybrid 2 (3) - Off Trade|Blue Bottle Group|Blue Bottle Group     |2/Month W2 &amp; 4                       |Daryl Pillay                  |Retail Franchise     |ZA RETAIL OTHER                |Group Franchise          |null                |null                     |0                |\n",
       "Tops Ridgeway(Gardens)   21489   |0             |OFF TRADE|001Tn000003FHS1IAO|Oscar Sithole      |Tshepo Mokale        |Seoketso Kotane |Central|Central Metro Hybrid 2 (3) - Off Trade|Spar Group       |Spar Inland           |2/Month W1 &amp; 3                       |Jacques Weideman              |Retail Grocery       |ZA RETAIL GROCERY              |Group Franchise          |null                |null                     |0                |\n",
       "+---------------------------------+--------------+---------+------------------+-------------------+---------------------+----------------+-------+--------------------------------------+-----------------+----------------------+-------------------------------------+------------------------------+---------------------+-------------------------------+-------------------------+--------------------+-------------------------+-----------------+\n",
       "only showing top 10 rows\n",
       "\n",
       "</div>"
      ]
     },
     "metadata": {
      "application/vnd.databricks.v1+output": {
       "addedWidgets": {},
       "arguments": {},
       "data": "<div class=\"ansiout\">+---------------------------------+--------------+---------+------------------+-------------------+---------------------+----------------+-------+--------------------------------------+-----------------+----------------------+-------------------------------------+------------------------------+---------------------+-------------------------------+-------------------------+--------------------+-------------------------+-----------------+\n|Account Name                     |Audit Complete|Channel  |Account 18 ID     |Area Sales Director|Account Owner Manager|Owner: Full Name|Region |Territory: Territory Name             |Chain            |Taxonomy Level 1      |Visit Frequency: Visit Frequency Name|Key Account Manager: Full Name|Outlet Classification|PRS Group Outlet Type (EU) name|PRS Outlet Type (EU) name|PRS Image Level Name|PRS Volume Potential Name|Sum of Exclusions|\n+---------------------------------+--------------+---------+------------------+-------------------+---------------------+----------------+-------+--------------------------------------+-----------------+----------------------+-------------------------------------+------------------------------+---------------------+-------------------------------+-------------------------+--------------------+-------------------------+-----------------+\n|Tops 5 Star     21672            |1             |OFF TRADE|001Tn000003FEv5IAG|Oscar Sithole      |Rufus Moleko         |Tshepo Masilela |North  |Limpopo Mpumalanga Hybrid (8) - Hybrid|Spar Group       |Spar Inland           |2/Month W1 &amp; 3                       |Jacques Weideman              |Retail Grocery       |ZA RETAIL GROCERY              |Group Franchise          |null                |null                     |0                |\n|Oasis Maboneng                   |1             |OFF TRADE|001Tn000006hIJEIA2|Oscar Sithole      |Tshepo Mokale        |Seoketso Kotane |Central|Central Metro Hybrid 2 (3) - Off Trade|Independent      |null                  |2/Month W1 &amp; 4                       |null                          |null                 |ZA COUNTER SERVE               |Independent Independent  |null                |null                     |0                |\n|Loco Liquors (Brakendowns)       |1             |OFF TRADE|001Tn000003FDALIA4|Oscar Sithole      |Tshepo Mokale        |Seoketso Kotane |Central|Central Metro Hybrid 2 (3) - Off Trade|Lifestyle Liquor |Lifestyle Liq - Retail|2/Month W2 &amp; 4                       |null                          |Retail Franchise     |ZA RETAIL OTHER                |Group Franchise          |null                |null                     |0                |\n|Makro (Crown Mines)              |0             |OFF TRADE|001Tn000003FDUcIAO|Oscar Sithole      |Tshepo Mokale        |Seoketso Kotane |Central|Central Metro Hybrid 2 (3) - Off Trade|Makro            |Makro                 |Weekly                               |Chad Haverly                  |Wholesaler           |ZA WHOLESALER                  |Group Corporate          |null                |null                     |0                |\n|Marys Inn                        |0             |OFF TRADE|001Tn000003FDhXIAW|Oscar Sithole      |Tshepo Mokale        |Seoketso Kotane |Central|Central Metro Hybrid 2 (3) - Off Trade|Independent      |Independent           |Weekly                               |null                          |Independent          |ZA COUNTER SERVE               |Independent Independent  |null                |null                     |0                |\n|Loco Liquors (Mondeor)           |0             |OFF TRADE|001Tn000003FEv0IAG|Oscar Sithole      |Tshepo Mokale        |Seoketso Kotane |Central|Central Metro Hybrid 2 (3) - Off Trade|Lifestyle Liquor |Lifestyle Liq - Retail|2/Month W1 &amp; 3                       |null                          |Retail Franchise     |ZA RETAIL OTHER                |Group Franchise          |null                |null                     |0                |\n|Liquor City (Bassonia)  (Cheq)   |0             |OFF TRADE|001Tn000003FGKPIA4|Oscar Sithole      |Tshepo Mokale        |Seoketso Kotane |Central|Central Metro Hybrid 2 (3) - Off Trade|Liquor City      |Liquor City Corporate |Weekly                               |Daryl Pillay                  |Retail Franchise     |ZA RETAIL OTHER                |Group Corporate          |null                |null                     |0                |\n|PNP Family - Brcknhrst (GF04)    |1             |OFF TRADE|001Tn000003FGWrIAO|Oscar Sithole      |Tshepo Mokale        |Seoketso Kotane |Central|Central Metro Hybrid 2 (3) - Off Trade|Pick n Pay       |PNP Family Store      |2/Month W2 &amp; 4                       |Jacques Weideman              |Retail Grocery       |ZA RETAIL GROCERY              |Group Franchise          |null                |null                     |0                |\n|South Hills BBL (IGP127) (7 days)|0             |OFF TRADE|001Tn000003FGmTIAW|Oscar Sithole      |Tshepo Mokale        |Seoketso Kotane |Central|Central Metro Hybrid 2 (3) - Off Trade|Blue Bottle Group|Blue Bottle Group     |2/Month W2 &amp; 4                       |Daryl Pillay                  |Retail Franchise     |ZA RETAIL OTHER                |Group Franchise          |null                |null                     |0                |\n|Tops Ridgeway(Gardens)   21489   |0             |OFF TRADE|001Tn000003FHS1IAO|Oscar Sithole      |Tshepo Mokale        |Seoketso Kotane |Central|Central Metro Hybrid 2 (3) - Off Trade|Spar Group       |Spar Inland           |2/Month W1 &amp; 3                       |Jacques Weideman              |Retail Grocery       |ZA RETAIL GROCERY              |Group Franchise          |null                |null                     |0                |\n+---------------------------------+--------------+---------+------------------+-------------------+---------------------+----------------+-------+--------------------------------------+-----------------+----------------------+-------------------------------------+------------------------------+---------------------+-------------------------------+-------------------------+--------------------+-------------------------+-----------------+\nonly showing top 10 rows\n\n</div>",
       "datasetInfos": [],
       "metadata": {},
       "removedWidgets": [],
       "type": "html"
      }
     },
     "output_type": "display_data"
    }
   ],
   "source": [
    "audit_gap_list__df = spark.sql('''\n",
    "  SELECT\n",
    "    `Account Name`,\n",
    "    `Audit Complete`,\n",
    "    Channel,\n",
    "    `Account 18 ID`,\n",
    "    `Area Sales Director`,\n",
    "    `Account Owner Manager`,\n",
    "    `Owner: Full Name`,\n",
    "    `Region`,\n",
    "    `Territory: Territory Name`,\n",
    "    Chain,\n",
    "    `Taxonomy Level 1`,\n",
    "    `Visit Frequency: Visit Frequency Name`,\n",
    "    `Key Account Manager: Full Name`,\n",
    "    `Outlet Classification`,\n",
    "    `PRS Group Outlet Type (EU) name`,\n",
    "    `PRS Outlet Type (EU) name`,\n",
    "    `PRS Image Level Name`,\n",
    "    `PRS Volume Potential Name`,\n",
    "    SUM(Exclusions) AS `Sum of Exclusions`\n",
    "  FROM account_list_final__view\n",
    "  GROUP BY\n",
    "    `Account Name`,\n",
    "    `Audit Complete`,\n",
    "    Channel,\n",
    "    `Account 18 ID`,\n",
    "    `Area Sales Director`,\n",
    "    `Account Owner Manager`,\n",
    "    `Owner: Full Name`,\n",
    "    `Region`,\n",
    "    `Territory: Territory Name`,\n",
    "    Chain,\n",
    "    `Taxonomy Level 1`,\n",
    "    `Visit Frequency: Visit Frequency Name`,\n",
    "    `Key Account Manager: Full Name`,\n",
    "    `Outlet Classification`,\n",
    "    `PRS Group Outlet Type (EU) name`,\n",
    "    `PRS Outlet Type (EU) name`,\n",
    "    `PRS Image Level Name`,\n",
    "    `PRS Volume Potential Name`  \n",
    "  ''')\n",
    "\n",
    "# display(audit_gap_list__df)\n",
    "audit_gap_list__df.show(10, truncate=False)"
   ]
  },
  {
   "cell_type": "markdown",
   "metadata": {
    "application/vnd.databricks.v1+cell": {
     "cellMetadata": {},
     "inputWidgets": {},
     "nuid": "eba9edbf-e1e7-480c-ae66-dad486d67660",
     "showTitle": false,
     "tableResultSettingsMap": {},
     "title": ""
    }
   },
   "source": [
    "%md\n",
    "`Audit Summary` tab, from \"audit gap list\" excel.\n",
    "<br>\n",
    "Pending:\n",
    "- review \"previous\" table source\n",
    "<br>"
   ]
  },
  {
   "cell_type": "code",
   "execution_count": 0,
   "metadata": {
    "application/vnd.databricks.v1+cell": {
     "cellMetadata": {
      "byteLimit": 2048000,
      "rowLimit": 10000
     },
     "inputWidgets": {},
     "nuid": "9746ffdf-24fd-4927-b25a-3ccc808d0426",
     "showTitle": false,
     "tableResultSettingsMap": {},
     "title": ""
    }
   },
   "outputs": [
    {
     "data": {
      "text/html": [
       "<style scoped>\n",
       "  .ansiout {\n",
       "    display: block;\n",
       "    unicode-bidi: embed;\n",
       "    white-space: pre-wrap;\n",
       "    word-wrap: break-word;\n",
       "    word-break: break-all;\n",
       "    font-family: \"Menlo\", \"Monaco\", \"Consolas\", \"Ubuntu Mono\", \"Source Code Pro\", monospace;\n",
       "    font-size: 13px;\n",
       "    color: #555;\n",
       "    margin-left: 4px;\n",
       "    line-height: 19px;\n",
       "  }\n",
       "</style>\n",
       "<div class=\"ansiout\">+-------------------+---------------------+------------------------+---------------------+-----------------------+-----------+----------+----------------------+-----------------+--------------------------+\n",
       "Area Sales Director|Account Owner Manager|Account (EU): Owner Name|Count of Account Name|Sum of Audits Completed|MTD Audit %|Prior Week|Previous # of Accounts|Database Movement|No of Accounts Not Audited|\n",
       "+-------------------+---------------------+------------------------+---------------------+-----------------------+-----------+----------+----------------------+-----------------+--------------------------+\n",
       "Oscar Sithole      |Rufus Moleko         |Tshepo Masilela         |9163                 |85                     |1.0        |100.0     |9163                  |0                |9078                      |\n",
       "Oscar Sithole      |Tshepo Mokale        |Seoketso Kotane         |3773                 |102                    |3.0        |99.0      |3773                  |0                |3671                      |\n",
       "Celeste Carstens   |Brandon Pillay       |Themba Myeni            |7484                 |86                     |1.0        |100.0     |7484                  |0                |7398                      |\n",
       "Karen Wahl         |Ross Bennett         |Simpiwe Dambuza         |3169                 |91                     |3.0        |99.0      |3169                  |0                |3078                      |\n",
       "Oscar Sithole      |Rufus Moleko         |Brian Mvelase           |456                  |101                    |22.0       |79.0      |456                   |0                |355                       |\n",
       "Celeste Carstens   |Brandon Pillay       |Vincent Msowoya         |5073                 |88                     |2.0        |100.0     |5073                  |0                |4985                      |\n",
       "Wayne MacFarlane   |Johnny Joubert       |Lungile Itumeleng       |6101                 |85                     |1.0        |100.0     |6101                  |0                |6016                      |\n",
       "Oscar Sithole      |Rufus Moleko         |Thabo Ubisi             |5161                 |106                    |2.0        |99.0      |5161                  |0                |5055                      |\n",
       "Celeste Carstens   |Ray Saunders         |Mlungisi Magwaxaza      |7010                 |102                    |1.0        |100.0     |7010                  |0                |6908                      |\n",
       "Celeste Carstens   |Andrew Morris        |Lebogang Maaga          |2811                 |96                     |3.0        |98.0      |2811                  |0                |2715                      |\n",
       "+-------------------+---------------------+------------------------+---------------------+-----------------------+-----------+----------+----------------------+-----------------+--------------------------+\n",
       "only showing top 10 rows\n",
       "\n",
       "</div>"
      ]
     },
     "metadata": {
      "application/vnd.databricks.v1+output": {
       "addedWidgets": {},
       "arguments": {},
       "data": "<div class=\"ansiout\">+-------------------+---------------------+------------------------+---------------------+-----------------------+-----------+----------+----------------------+-----------------+--------------------------+\n|Area Sales Director|Account Owner Manager|Account (EU): Owner Name|Count of Account Name|Sum of Audits Completed|MTD Audit %|Prior Week|Previous # of Accounts|Database Movement|No of Accounts Not Audited|\n+-------------------+---------------------+------------------------+---------------------+-----------------------+-----------+----------+----------------------+-----------------+--------------------------+\n|Oscar Sithole      |Rufus Moleko         |Tshepo Masilela         |9163                 |85                     |1.0        |100.0     |9163                  |0                |9078                      |\n|Oscar Sithole      |Tshepo Mokale        |Seoketso Kotane         |3773                 |102                    |3.0        |99.0      |3773                  |0                |3671                      |\n|Celeste Carstens   |Brandon Pillay       |Themba Myeni            |7484                 |86                     |1.0        |100.0     |7484                  |0                |7398                      |\n|Karen Wahl         |Ross Bennett         |Simpiwe Dambuza         |3169                 |91                     |3.0        |99.0      |3169                  |0                |3078                      |\n|Oscar Sithole      |Rufus Moleko         |Brian Mvelase           |456                  |101                    |22.0       |79.0      |456                   |0                |355                       |\n|Celeste Carstens   |Brandon Pillay       |Vincent Msowoya         |5073                 |88                     |2.0        |100.0     |5073                  |0                |4985                      |\n|Wayne MacFarlane   |Johnny Joubert       |Lungile Itumeleng       |6101                 |85                     |1.0        |100.0     |6101                  |0                |6016                      |\n|Oscar Sithole      |Rufus Moleko         |Thabo Ubisi             |5161                 |106                    |2.0        |99.0      |5161                  |0                |5055                      |\n|Celeste Carstens   |Ray Saunders         |Mlungisi Magwaxaza      |7010                 |102                    |1.0        |100.0     |7010                  |0                |6908                      |\n|Celeste Carstens   |Andrew Morris        |Lebogang Maaga          |2811                 |96                     |3.0        |98.0      |2811                  |0                |2715                      |\n+-------------------+---------------------+------------------------+---------------------+-----------------------+-----------+----------+----------------------+-----------------+--------------------------+\nonly showing top 10 rows\n\n</div>",
       "datasetInfos": [],
       "metadata": {},
       "removedWidgets": [],
       "type": "html"
      }
     },
     "output_type": "display_data"
    }
   ],
   "source": [
    "pivot_audit_report__df.createOrReplaceTempView(\"pivot_audit_report__view\")\n",
    "\n",
    "audit_summary__df = spark.sql('''\n",
    "  SELECT \n",
    "    piv.`Area Sales Director` , -- regional director\n",
    "    piv.`Account Owner Manager`, -- sales manager\n",
    "    piv.`Account (EU): Owner Name`, -- sales rep\n",
    "    piv.`Count of Account 18 ID` AS `Count of Account Name`,\n",
    "    piv.`Distinct Count of Account 18 ID` AS `Sum of Audits Completed`,\n",
    "    ROUND(\n",
    "      COALESCE(\n",
    "        piv.`Distinct Count of Account 18 ID` / NULLIF(piv.`Count of Account 18 ID`, 0)\n",
    "        , 0)\n",
    "        *100\n",
    "      ,0) \n",
    "      AS `MTD Audit %`,\n",
    "    pre.`MTD Audit %` AS `Prior Week`,\n",
    "    pre.`Count of Account Name` AS `Previous # of Accounts`,\n",
    "    piv.`Count of Account 18 ID`- pre.`Count of Account Name` AS `Database Movement`,\n",
    "    piv.`Count of Account 18 ID`- piv.`Distinct Count of Account 18 ID` AS `No of Accounts Not Audited`\n",
    "  FROM pivot_audit_report__view piv\n",
    "  LEFT JOIN previous__view pre\n",
    "    ON piv.concatenated_names = pre.concatenated_names\n",
    "  ''')\n",
    "\n",
    "# display(audit_summary__df)\n",
    "audit_summary__df.show(10, truncate=False)\n"
   ]
  },
  {
   "cell_type": "markdown",
   "metadata": {
    "application/vnd.databricks.v1+cell": {
     "cellMetadata": {},
     "inputWidgets": {},
     "nuid": "3d418bb3-b82c-4458-b6ac-f66ba10d8ad3",
     "showTitle": false,
     "tableResultSettingsMap": {},
     "title": ""
    }
   },
   "source": []
  },
  {
   "cell_type": "markdown",
   "metadata": {
    "application/vnd.databricks.v1+cell": {
     "cellMetadata": {},
     "inputWidgets": {},
     "nuid": "d11b6704-09c4-4d3f-9791-3891d9c91de8",
     "showTitle": false,
     "tableResultSettingsMap": {},
     "title": ""
    }
   },
   "source": [
    "#### `Move` files btw Sharepoint Folders"
   ]
  },
  {
   "cell_type": "markdown",
   "metadata": {
    "application/vnd.databricks.v1+cell": {
     "cellMetadata": {},
     "inputWidgets": {},
     "nuid": "b37c9222-9ae6-4d1a-9640-024a69c11d81",
     "showTitle": false,
     "tableResultSettingsMap": {},
     "title": ""
    }
   },
   "source": [
    "##### keep researching -> move_to or moveto don't work in this module version --> Error: access denied"
   ]
  },
  {
   "cell_type": "markdown",
   "metadata": {
    "application/vnd.databricks.v1+cell": {
     "cellMetadata": {},
     "inputWidgets": {},
     "nuid": "f03ecd8a-c0c8-4448-81f7-5fe52e5d5b47",
     "showTitle": false,
     "tableResultSettingsMap": {},
     "title": ""
    }
   },
   "source": [
    "https://github.com/vgrem/Office365-REST-Python-Client/issues/157\n",
    "<br>\n",
    "https://github.com/vgrem/Office365-REST-Python-Client/issues/703"
   ]
  },
  {
   "cell_type": "markdown",
   "metadata": {
    "application/vnd.databricks.v1+cell": {
     "cellMetadata": {},
     "inputWidgets": {},
     "nuid": "71cf62ff-e954-4470-9769-addabfde268b",
     "showTitle": false,
     "tableResultSettingsMap": {},
     "title": ""
    }
   },
   "source": [
    "Before June 30th, 2023 The moveTo function was moving the files within the sharepoint folders. But after 1st July , 2023 , its not moving the files and giving the error as ('-2147024891, System.UnauthorizedAccessException', 'Access denied.', \"403 Client Error: Forbidden for url:.....). I checked there are required access as It does other operations like delete and other. I guess the issue is with office365 python package."
   ]
  },
  {
   "cell_type": "markdown",
   "metadata": {
    "application/vnd.databricks.v1+cell": {
     "cellMetadata": {},
     "inputWidgets": {},
     "nuid": "217411f0-080e-414d-b75f-39466508a2e0",
     "showTitle": false,
     "tableResultSettingsMap": {},
     "title": ""
    }
   },
   "source": [
    "#### `Write` in sharepoint"
   ]
  },
  {
   "cell_type": "code",
   "execution_count": 0,
   "metadata": {
    "application/vnd.databricks.v1+cell": {
     "cellMetadata": {
      "byteLimit": 2048000,
      "rowLimit": 10000
     },
     "inputWidgets": {},
     "nuid": "968ea45c-6c41-4839-9574-aea7669cf62c",
     "showTitle": false,
     "tableResultSettingsMap": {},
     "title": ""
    }
   },
   "outputs": [
    {
     "data": {
      "text/html": [
       "<style scoped>\n",
       "  .ansiout {\n",
       "    display: block;\n",
       "    unicode-bidi: embed;\n",
       "    white-space: pre-wrap;\n",
       "    word-wrap: break-word;\n",
       "    word-break: break-all;\n",
       "    font-family: \"Menlo\", \"Monaco\", \"Consolas\", \"Ubuntu Mono\", \"Source Code Pro\", monospace;\n",
       "    font-size: 13px;\n",
       "    color: #555;\n",
       "    margin-left: 4px;\n",
       "    line-height: 19px;\n",
       "  }\n",
       "</style>\n",
       "<div class=\"ansiout\"></div>"
      ]
     },
     "metadata": {
      "application/vnd.databricks.v1+output": {
       "addedWidgets": {},
       "arguments": {},
       "data": "<div class=\"ansiout\"></div>",
       "datasetInfos": [],
       "metadata": {},
       "removedWidgets": [],
       "type": "html"
      }
     },
     "output_type": "display_data"
    }
   ],
   "source": [
    "# Folder link and object\n",
    "output_folder = \"https://test-company.sharepoint.com/:f:/s/SASIPAutomationProject/Ehr1xSw61FRCnUk8aCvZ4NQB_qOJe7eqGjYdd0jXq9zrsg?e=MsHZxK\"\n",
    "output_folder_obj = client.web.get_folder_by_guest_url_extended(output_folder).execute_query()"
   ]
  },
  {
   "cell_type": "markdown",
   "metadata": {
    "application/vnd.databricks.v1+cell": {
     "cellMetadata": {},
     "inputWidgets": {},
     "nuid": "99c8b90e-8371-41ed-96e8-3c96a0c031fb",
     "showTitle": false,
     "tableResultSettingsMap": {},
     "title": ""
    }
   },
   "source": [
    "#### Write in sharepoint - `A: Pandas`\n",
    "##### simplier but less scalable if big data related"
   ]
  },
  {
   "cell_type": "code",
   "execution_count": 0,
   "metadata": {
    "application/vnd.databricks.v1+cell": {
     "cellMetadata": {
      "byteLimit": 2048000,
      "rowLimit": 10000
     },
     "inputWidgets": {},
     "nuid": "aa54fc1b-6be9-477f-abb1-071a8cbc1f11",
     "showTitle": false,
     "tableResultSettingsMap": {},
     "title": ""
    }
   },
   "outputs": [
    {
     "data": {
      "text/html": [
       "<style scoped>\n",
       "  .ansiout {\n",
       "    display: block;\n",
       "    unicode-bidi: embed;\n",
       "    white-space: pre-wrap;\n",
       "    word-wrap: break-word;\n",
       "    word-break: break-all;\n",
       "    font-family: \"Menlo\", \"Monaco\", \"Consolas\", \"Ubuntu Mono\", \"Source Code Pro\", monospace;\n",
       "    font-size: 13px;\n",
       "    color: #555;\n",
       "    margin-left: 4px;\n",
       "    line-height: 19px;\n",
       "  }\n",
       "</style>\n",
       "<div class=\"ansiout\">Out[158]: /sites/SASIPAutomationProject/Shared Documents/General/SIP Automation Phase 2 Initial Documents/Phase 4 Top 10 reports/MTD Audit/Example of refreshing/POC - raw files/output/role_map.csv</div>"
      ]
     },
     "metadata": {
      "application/vnd.databricks.v1+output": {
       "addedWidgets": {},
       "arguments": {},
       "data": "<div class=\"ansiout\">Out[158]: /sites/SASIPAutomationProject/Shared Documents/General/SIP Automation Phase 2 Initial Documents/Phase 4 Top 10 reports/MTD Audit/Example of refreshing/POC - raw files/output/role_map.csv</div>",
       "datasetInfos": [],
       "metadata": {},
       "removedWidgets": [],
       "type": "html"
      }
     },
     "output_type": "display_data"
    }
   ],
   "source": [
    "# Convert Spark DataFrame to Pandas DataFrame\n",
    "role_map__pdf = role_map__df.toPandas()\n",
    "\n",
    "# Convert the Pandas DataFrame to a CSV string\n",
    "csv_data = role_map__pdf.to_csv(index=False)\n",
    "\n",
    "# Upload CSV to SharePoint directly from the CSV string\n",
    "output_file_name = \"role_map.csv\"\n",
    "output_folder_obj.upload_file(output_file_name, csv_data.encode('utf-8')).execute_query()"
   ]
  },
  {
   "cell_type": "markdown",
   "metadata": {
    "application/vnd.databricks.v1+cell": {
     "cellMetadata": {},
     "inputWidgets": {},
     "nuid": "d5b53582-ff26-487f-942a-6afc8d15d83c",
     "showTitle": false,
     "tableResultSettingsMap": {},
     "title": ""
    }
   },
   "source": [
    "#### Write in sharepoint - B: `just PySpark`\n",
    "##### use A.. "
   ]
  },
  {
   "cell_type": "code",
   "execution_count": 0,
   "metadata": {
    "application/vnd.databricks.v1+cell": {
     "cellMetadata": {
      "byteLimit": 2048000,
      "rowLimit": 10000
     },
     "inputWidgets": {},
     "nuid": "143a3eed-54d3-4925-829b-b05a13fa6e40",
     "showTitle": false,
     "tableResultSettingsMap": {},
     "title": ""
    }
   },
   "outputs": [
    {
     "data": {
      "text/html": [
       "<style scoped>\n",
       "  .ansiout {\n",
       "    display: block;\n",
       "    unicode-bidi: embed;\n",
       "    white-space: pre-wrap;\n",
       "    word-wrap: break-word;\n",
       "    word-break: break-all;\n",
       "    font-family: \"Menlo\", \"Monaco\", \"Consolas\", \"Ubuntu Mono\", \"Source Code Pro\", monospace;\n",
       "    font-size: 13px;\n",
       "    color: #555;\n",
       "    margin-left: 4px;\n",
       "    line-height: 19px;\n",
       "  }\n",
       "</style>\n",
       "<div class=\"ansiout\">Out[57]: /sites/SASIPAutomationProject/Shared Documents/General/SIP Automation Phase 2 Initial Documents/Phase 4 Top 10 reports/MTD Audit/Example of refreshing/POC - raw files/output/role_map.csv</div>"
      ]
     },
     "metadata": {
      "application/vnd.databricks.v1+output": {
       "addedWidgets": {},
       "arguments": {},
       "data": "<div class=\"ansiout\">Out[57]: /sites/SASIPAutomationProject/Shared Documents/General/SIP Automation Phase 2 Initial Documents/Phase 4 Top 10 reports/MTD Audit/Example of refreshing/POC - raw files/output/role_map.csv</div>",
       "datasetInfos": [],
       "metadata": {},
       "removedWidgets": [],
       "type": "html"
      }
     },
     "output_type": "display_data"
    }
   ],
   "source": [
    "from io import StringIO\n",
    "\n",
    "# Collect the DataFrame to a list of Row objects\n",
    "rows = role_map__df.collect()\n",
    "\n",
    "# Get the schema (column names)\n",
    "columns = role_map__df.columns\n",
    "\n",
    "# Create a CSV string from the collected data\n",
    "csv_output = StringIO()\n",
    "csv_output.write(','.join(columns) + '\\n')  # Write header\n",
    "for row in rows:\n",
    "    csv_output.write(','.join(str(value) for value in row) + '\\n')  # Write each row\n",
    "\n",
    "# Get the CSV string from the StringIO object\n",
    "csv_data = csv_output.getvalue()\n",
    "\n",
    "# Upload CSV to SharePoint directly from the CSV string\n",
    "output_file_name = \"role_map.csv\"\n",
    "output_folder_obj.upload_file(output_file_name, csv_data.encode('utf-8')).execute_query()\n"
   ]
  },
  {
   "cell_type": "markdown",
   "metadata": {
    "application/vnd.databricks.v1+cell": {
     "cellMetadata": {},
     "inputWidgets": {},
     "nuid": "877aaa92-7e61-4eff-8377-974024988bdc",
     "showTitle": false,
     "tableResultSettingsMap": {},
     "title": ""
    }
   },
   "source": [
    "#### `Delete` files in a Sharepoint Folder"
   ]
  },
  {
   "cell_type": "code",
   "execution_count": 0,
   "metadata": {
    "application/vnd.databricks.v1+cell": {
     "cellMetadata": {
      "byteLimit": 2048000,
      "rowLimit": 10000
     },
     "inputWidgets": {},
     "nuid": "68278f8c-be44-42f0-86b8-342d751135ee",
     "showTitle": false,
     "tableResultSettingsMap": {},
     "title": ""
    }
   },
   "outputs": [
    {
     "data": {
      "text/html": [
       "<style scoped>\n",
       "  .ansiout {\n",
       "    display: block;\n",
       "    unicode-bidi: embed;\n",
       "    white-space: pre-wrap;\n",
       "    word-wrap: break-word;\n",
       "    word-break: break-all;\n",
       "    font-family: \"Menlo\", \"Monaco\", \"Consolas\", \"Ubuntu Mono\", \"Source Code Pro\", monospace;\n",
       "    font-size: 13px;\n",
       "    color: #555;\n",
       "    margin-left: 4px;\n",
       "    line-height: 19px;\n",
       "  }\n",
       "</style>\n",
       "<div class=\"ansiout\">Deleting file: role_map.csv\n",
       "All files deleted.\n",
       "</div>"
      ]
     },
     "metadata": {
      "application/vnd.databricks.v1+output": {
       "addedWidgets": {},
       "arguments": {},
       "data": "<div class=\"ansiout\">Deleting file: role_map.csv\nAll files deleted.\n</div>",
       "datasetInfos": [],
       "metadata": {},
       "removedWidgets": [],
       "type": "html"
      }
     },
     "output_type": "display_data"
    }
   ],
   "source": [
    "# Folder link\n",
    "deleteFolder_link = \"https://test-company.sharepoint.com/:f:/s/SASIPAutomationProject/Ehr1xSw61FRCnUk8aCvZ4NQB_qOJe7eqGjYdd0jXq9zrsg?e=MsHZxK\"\n",
    "\n",
    "# Retrieve the folder object\n",
    "deleteFolder_obj = client.web.get_folder_by_guest_url_extended(deleteFolder_link).execute_query()\n",
    "\n",
    "# Load the files in the folder\n",
    "sharepoint_files_toDelete = deleteFolder_obj.files\n",
    "client.load(sharepoint_files_toDelete).execute_query()\n",
    "\n",
    "# Delete each file in the folder\n",
    "for file in sharepoint_files_toDelete:\n",
    "    print(f\"Deleting file: {file.properties['Name']}\")\n",
    "    file.delete_object()\n",
    "    client.execute_query()\n",
    "\n",
    "print(\"All files deleted.\")"
   ]
  }
 ],
 "metadata": {
  "application/vnd.databricks.v1+notebook": {
   "dashboards": [],
   "environmentMetadata": {
    "base_environment": "",
    "client": "1"
   },
   "language": "python",
   "notebookMetadata": {
    "pythonIndentUnit": 2
   },
   "notebookName": "Audit Gap List",
   "widgets": {}
  },
  "language_info": {
   "name": "python"
  }
 },
 "nbformat": 4,
 "nbformat_minor": 0
}
