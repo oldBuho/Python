{
 "cells": [
  {
   "cell_type": "markdown",
   "metadata": {
    "application/vnd.databricks.v1+cell": {
     "cellMetadata": {
      "byteLimit": 2048000,
      "rowLimit": 10000
     },
     "inputWidgets": {},
     "nuid": "e1a1475b-ddb2-4a6a-930b-7e31aa006a21",
     "showTitle": false,
     "title": ""
    }
   },
   "source": [
    "#### libraries"
   ]
  },
  {
   "cell_type": "code",
   "execution_count": 0,
   "metadata": {
    "application/vnd.databricks.v1+cell": {
     "cellMetadata": {
      "byteLimit": 2048000,
      "rowLimit": 10000
     },
     "inputWidgets": {},
     "nuid": "98473753-992d-455f-86cb-f133b30b2400",
     "showTitle": false,
     "title": ""
    }
   },
   "outputs": [
    {
     "data": {
      "text/html": [
       "<style scoped>\n",
       "  .ansiout {\n",
       "    display: block;\n",
       "    unicode-bidi: embed;\n",
       "    white-space: pre-wrap;\n",
       "    word-wrap: break-word;\n",
       "    word-break: break-all;\n",
       "    font-family: \"Menlo\", \"Monaco\", \"Consolas\", \"Ubuntu Mono\", \"Source Code Pro\", monospace;\n",
       "    font-size: 13px;\n",
       "    color: #555;\n",
       "    margin-left: 4px;\n",
       "    line-height: 19px;\n",
       "  }\n",
       "</style>\n",
       "<div class=\"ansiout\">Out[165]: &#39;\\nIf using spark.read.csv() -&gt; AnalysisException: Incompatible format detected.\\nDelta format not working either.\\nEg:\\n  dfr = spark.read       .format(&#34;csv&#34;)       .option(&#34;header&#34;, &#34;true&#34;)       .load(download_path)\\n&#39;</div>"
      ]
     },
     "metadata": {
      "application/vnd.databricks.v1+output": {
       "addedWidgets": {},
       "arguments": {},
       "data": "<div class=\"ansiout\">Out[165]: &#39;\\nIf using spark.read.csv() -&gt; AnalysisException: Incompatible format detected.\\nDelta format not working either.\\nEg:\\n  dfr = spark.read       .format(&#34;csv&#34;)       .option(&#34;header&#34;, &#34;true&#34;)       .load(download_path)\\n&#39;</div>",
       "datasetInfos": [],
       "metadata": {},
       "removedWidgets": [],
       "type": "html"
      }
     },
     "output_type": "display_data"
    }
   ],
   "source": [
    "# sharepoint modules\n",
    "from office365.sharepoint.client_context import ClientContext\n",
    "from office365.runtime.auth.user_credential import UserCredential\n",
    "from office365.sharepoint.files.file import File\n",
    "\n",
    "# local files handling when reading input\n",
    "import os\n",
    "# in-memory handling for writing files for export\n",
    "# from io import BytesIO\n",
    "\n",
    "# to read/write CSV in sharepoint\n",
    "import pandas\n",
    "'''\n",
    "If using spark.read.csv() -> AnalysisException: Incompatible format detected.\n",
    "Delta format not working either.\n",
    "Eg:\n",
    "  dfr = spark.read \\\n",
    "      .format(\"csv\") \\\n",
    "      .option(\"header\", \"true\") \\\n",
    "      .load(download_path)\n",
    "'''"
   ]
  },
  {
   "cell_type": "markdown",
   "metadata": {
    "application/vnd.databricks.v1+cell": {
     "cellMetadata": {
      "byteLimit": 2048000,
      "rowLimit": 10000
     },
     "inputWidgets": {},
     "nuid": "7c4bab32-cf14-4bd1-b44f-87f985f218bb",
     "showTitle": false,
     "title": ""
    }
   },
   "source": [
    "#### `general settings` to work with sharepoint"
   ]
  },
  {
   "cell_type": "code",
   "execution_count": 0,
   "metadata": {
    "application/vnd.databricks.v1+cell": {
     "cellMetadata": {
      "byteLimit": 2048000,
      "rowLimit": 10000
     },
     "inputWidgets": {},
     "nuid": "24e114fe-317a-43fe-9f1c-554875d46d51",
     "showTitle": false,
     "title": ""
    }
   },
   "outputs": [
    {
     "data": {
      "text/html": [
       "<style scoped>\n",
       "  .ansiout {\n",
       "    display: block;\n",
       "    unicode-bidi: embed;\n",
       "    white-space: pre-wrap;\n",
       "    word-wrap: break-word;\n",
       "    word-break: break-all;\n",
       "    font-family: \"Menlo\", \"Monaco\", \"Consolas\", \"Ubuntu Mono\", \"Source Code Pro\", monospace;\n",
       "    font-size: 13px;\n",
       "    color: #555;\n",
       "    margin-left: 4px;\n",
       "    line-height: 19px;\n",
       "  }\n",
       "</style>\n",
       "<div class=\"ansiout\"></div>"
      ]
     },
     "metadata": {
      "application/vnd.databricks.v1+output": {
       "addedWidgets": {},
       "arguments": {},
       "data": "<div class=\"ansiout\"></div>",
       "datasetInfos": [],
       "metadata": {},
       "removedWidgets": [],
       "type": "html"
      }
     },
     "output_type": "display_data"
    }
   ],
   "source": [
    "# sharepoint working site\n",
    "site_url = \"https://YOUR-COMPANY.sharepoint.com/sites/SASIPAutomationProject/\"\n",
    "# init client context with credentials\n",
    "client = ClientContext(site_url).with_credentials(UserCredential(\"powerbiadmin@YOUR-COMPANY.com\", dbutils.secrets.get('keylatpricemonito', 'sql-YOUR-COMPANY')))"
   ]
  },
  {
   "cell_type": "markdown",
   "metadata": {
    "application/vnd.databricks.v1+cell": {
     "cellMetadata": {
      "byteLimit": 2048000,
      "rowLimit": 10000
     },
     "inputWidgets": {},
     "nuid": "e397847d-a2f0-42d1-b031-fb59ac47532b",
     "showTitle": false,
     "title": ""
    }
   },
   "source": [
    "#### create individual `dataframes from CSV files` (comma separated)"
   ]
  },
  {
   "cell_type": "code",
   "execution_count": 0,
   "metadata": {
    "application/vnd.databricks.v1+cell": {
     "cellMetadata": {
      "byteLimit": 2048000,
      "rowLimit": 10000
     },
     "inputWidgets": {},
     "nuid": "c5a3bdbd-9447-44f8-9194-a2f60fd7f304",
     "showTitle": false,
     "title": ""
    }
   },
   "outputs": [
    {
     "data": {
      "text/html": [
       "<style scoped>\n",
       "  .ansiout {\n",
       "    display: block;\n",
       "    unicode-bidi: embed;\n",
       "    white-space: pre-wrap;\n",
       "    word-wrap: break-word;\n",
       "    word-break: break-all;\n",
       "    font-family: \"Menlo\", \"Monaco\", \"Consolas\", \"Ubuntu Mono\", \"Source Code Pro\", monospace;\n",
       "    font-size: 13px;\n",
       "    color: #555;\n",
       "    margin-left: 4px;\n",
       "    line-height: 19px;\n",
       "  }\n",
       "</style>\n",
       "<div class=\"ansiout\"></div>"
      ]
     },
     "metadata": {
      "application/vnd.databricks.v1+output": {
       "addedWidgets": {},
       "arguments": {},
       "data": "<div class=\"ansiout\"></div>",
       "datasetInfos": [],
       "metadata": {},
       "removedWidgets": [],
       "type": "html"
      }
     },
     "output_type": "display_data"
    }
   ],
   "source": [
    "input_files = {\n",
    "  \"exclusion__df\" : \"https://YOUR-COMPANY.sharepoint.com/:f:/s/SASIPAutomationProject/ErUH64YzYENHtWrA02EEDV0BH9SUUQ1p5i1qlkUPnPkWLg?e=20GjiH\",\n",
    "  \"role_map__df\" : \"https://YOUR-COMPANY.sharepoint.com/:f:/s/SASIPAutomationProject/EknYQFKVeTdDnEEvysgkUKAB2QnZdAM8kpHsDxJxYbpUVw?e=lY8zSW\"\n",
    "}"
   ]
  },
  {
   "cell_type": "code",
   "execution_count": 0,
   "metadata": {
    "application/vnd.databricks.v1+cell": {
     "cellMetadata": {
      "byteLimit": 2048000,
      "rowLimit": 10000
     },
     "inputWidgets": {},
     "nuid": "9ce691d7-dd8e-4cf9-8007-6198dbb9f71e",
     "showTitle": false,
     "title": ""
    }
   },
   "outputs": [
    {
     "data": {
      "text/html": [
       "<style scoped>\n",
       "  .ansiout {\n",
       "    display: block;\n",
       "    unicode-bidi: embed;\n",
       "    white-space: pre-wrap;\n",
       "    word-wrap: break-word;\n",
       "    word-break: break-all;\n",
       "    font-family: \"Menlo\", \"Monaco\", \"Consolas\", \"Ubuntu Mono\", \"Source Code Pro\", monospace;\n",
       "    font-size: 13px;\n",
       "    color: #555;\n",
       "    margin-left: 4px;\n",
       "    line-height: 19px;\n",
       "  }\n",
       "</style>\n",
       "<div class=\"ansiout\">exclusion__df\n",
       "https://pernodricard.sharepoint.com/:f:/s/SASIPAutomationProject/ErUH64YzYENHtWrA02EEDV0BH9SUUQ1p5i1qlkUPnPkWLg?e=20GjiH\n",
       "role_map__df\n",
       "https://pernodricard.sharepoint.com/:f:/s/SASIPAutomationProject/EknYQFKVeTdDnEEvysgkUKAB2QnZdAM8kpHsDxJxYbpUVw?e=lY8zSW\n",
       "</div>"
      ]
     },
     "metadata": {
      "application/vnd.databricks.v1+output": {
       "addedWidgets": {},
       "arguments": {},
       "data": "<div class=\"ansiout\">exclusion__df\nhttps://pernodricard.sharepoint.com/:f:/s/SASIPAutomationProject/ErUH64YzYENHtWrA02EEDV0BH9SUUQ1p5i1qlkUPnPkWLg?e=20GjiH\nrole_map__df\nhttps://pernodricard.sharepoint.com/:f:/s/SASIPAutomationProject/EknYQFKVeTdDnEEvysgkUKAB2QnZdAM8kpHsDxJxYbpUVw?e=lY8zSW\n</div>",
       "datasetInfos": [],
       "metadata": {},
       "removedWidgets": [],
       "type": "html"
      }
     },
     "output_type": "display_data"
    }
   ],
   "source": [
    "for key, value in input_files.items():\n",
    "  print(key)\n",
    "  print(value)"
   ]
  },
  {
   "cell_type": "code",
   "execution_count": 0,
   "metadata": {
    "application/vnd.databricks.v1+cell": {
     "cellMetadata": {
      "byteLimit": 2048000,
      "rowLimit": 10000
     },
     "inputWidgets": {},
     "nuid": "b97ed2d5-80f2-4a68-af56-ec5999ab34ed",
     "showTitle": false,
     "title": ""
    }
   },
   "outputs": [
    {
     "data": {
      "text/html": [
       "<style scoped>\n",
       "  .ansiout {\n",
       "    display: block;\n",
       "    unicode-bidi: embed;\n",
       "    white-space: pre-wrap;\n",
       "    word-wrap: break-word;\n",
       "    word-break: break-all;\n",
       "    font-family: \"Menlo\", \"Monaco\", \"Consolas\", \"Ubuntu Mono\", \"Source Code Pro\", monospace;\n",
       "    font-size: 13px;\n",
       "    color: #555;\n",
       "    margin-left: 4px;\n",
       "    line-height: 19px;\n",
       "  }\n",
       "</style>\n",
       "<div class=\"ansiout\">creating dataframe: exclusion__df\n",
       "creating dataframe: role_map__df\n",
       "</div>"
      ]
     },
     "metadata": {
      "application/vnd.databricks.v1+output": {
       "addedWidgets": {},
       "arguments": {},
       "data": "<div class=\"ansiout\">creating dataframe: exclusion__df\ncreating dataframe: role_map__df\n</div>",
       "datasetInfos": [],
       "metadata": {},
       "removedWidgets": [],
       "type": "html"
      }
     },
     "output_type": "display_data"
    }
   ],
   "source": [
    "for key, value in input_files.items():\n",
    "  \n",
    "  print(f'creating dataframe: {key}')\n",
    "  fold_link = value\n",
    "\n",
    "  fold_obj = client.web.get_folder_by_guest_url_extended(fold_link).execute_query()\n",
    "  sharepoint_files = fold_obj.files   \n",
    "  # client to work with sharepoint_files\n",
    "  client.load(sharepoint_files).execute_query()\n",
    "\n",
    "  working_file = sharepoint_files[0]\n",
    "\n",
    "  download_path = os.path.join(os.getcwd(), str(working_file))\n",
    "  # apply sharepoint library method\n",
    "  file_response = File.read(working_file)\n",
    "  # Save file locally for pandas to read next\n",
    "  with open(download_path, 'wb') as output_file:\n",
    "    output_file.write(file_response)  \n",
    "  \n",
    "  # read file with pandas and convert to spark dataframe\n",
    "  df = pandas.read_csv(download_path)\n",
    "  globals()[key] = spark.createDataFrame(df)\n",
    "\n",
    "  # delete unnecesary elements\n",
    "  os.remove(download_path)\n",
    "  del df\n"
   ]
  },
  {
   "cell_type": "code",
   "execution_count": 0,
   "metadata": {
    "application/vnd.databricks.v1+cell": {
     "cellMetadata": {
      "byteLimit": 2048000,
      "rowLimit": 10000
     },
     "inputWidgets": {},
     "nuid": "38e4565e-98bc-41ae-a5d9-379ef0cafcf4",
     "showTitle": false,
     "title": ""
    }
   },
   "outputs": [
    {
     "data": {
      "text/html": [
       "<style scoped>\n",
       "  .ansiout {\n",
       "    display: block;\n",
       "    unicode-bidi: embed;\n",
       "    white-space: pre-wrap;\n",
       "    word-wrap: break-word;\n",
       "    word-break: break-all;\n",
       "    font-family: \"Menlo\", \"Monaco\", \"Consolas\", \"Ubuntu Mono\", \"Source Code Pro\", monospace;\n",
       "    font-size: 13px;\n",
       "    color: #555;\n",
       "    margin-left: 4px;\n",
       "    line-height: 19px;\n",
       "  }\n",
       "</style>\n",
       "<div class=\"ansiout\">+--------------------+------------------+------------+-------------+-----------------+-------------------+---------------------+-------+\n",
       "        Account Name|        Account Id|Retail Store|          KAM|           Reason|      Account Owner|Account Owner Manager|Exclude|\n",
       "+--------------------+------------------+------------+-------------+-----------------+-------------------+---------------------+-------+\n",
       "Captain Liquor Di...|aCaD0000000PFBLKA4|          No| Chad Haverly|No Retail element|       Cecil Bagley|         Hein Stander|    1.0|\n",
       "Distri-Liq (Preto...|aCaD0000000PF0tKAG|          No| Chad Haverly|No Retail element|     Monique Bester|       Charles Maseko|    1.0|\n",
       "Distri-Liq (Ruste...|aCaD0000000PFNcKAO|          No| Chad Haverly|No Retail element|       Kagiso Motau|         Given Mmekoa|    1.0|\n",
       "Durban North Liqu...|aCaD0000000gbxoKAA|          No| Chad Haverly|No Retail element|     Mphokuhle Cele|     Antara Ramouthar|    1.0|\n",
       "Norman Goodfellow...|aCaD0000000PG0WKAW|          No| Chad Haverly|No Retail element|     Chris Bodenham|       Robbie Van Eck|    1.0|\n",
       "Norman Goodfellow...|aCaD0000000fziVKAQ|          No| Chad Haverly|No Retail element|      Pravin Hardin|         Hein Stander|    1.0|\n",
       "   Panjivan  Liquors|aCaD0000000PF2RKAW|          No| Chad Haverly|No Retail element|     Sibaphiwe Sali|       Brandon Pillay|    1.0|\n",
       "Panjivan Pieterma...|aCaD0000000PFYgKAO|          No| Chad Haverly|No Retail element|Noluthando Maselana|        Andrew Morris|    1.0|\n",
       "Panjivan Swelani ...|aCaD0000000PF03KAG|          No| Chad Haverly|No Retail element|       Kuben Pillay|        Andrew Morris|    1.0|\n",
       "Panjivans Big Ben...|aCaD0000000PFM6KAO|          No| Chad Haverly|No Retail element|     Sibaphiwe Sali|       Brandon Pillay|    1.0|\n",
       "Platinum Distribu...|aCaD0000000gVq7KAE|          No| Chad Haverly|No Retail element|     Jarred Knoetze|       Johnny Joubert|    1.0|\n",
       "Sg Convenience Ga...|aCaD0000000PFRbKAO|          No| Chad Haverly|No Retail element|      Pravin Hardin|         Hein Stander|    1.0|\n",
       "  Sg Convenience Kzn|aCaD0000000PHuhKAG|          No| Chad Haverly|No Retail element|      Chimone Horst|        Andrew Morris|    1.0|\n",
       "Tony&#39;S Liquor Who...|aCaD0000000PF0NKAW|          No| Chad Haverly|No Retail element| Paballo Bookholane|        Tshepo Mokale|    1.0|\n",
       " Vassco Distributors|aCaD0000000PFEmKAO|          No| Chad Haverly|No Retail element|     Monique Bester|       Charles Maseko|    1.0|\n",
       "Delta Warehouse (...|aCa1i000000TUOOCA4|          NO|Alfie Joubert|No Retail element|       Byron Nowers|       Johnny Joubert|    1.0|\n",
       "     Flexi Beverages|aCaD0000000g94oKAA|          NO|Alfie Joubert|No Retail element|     Lungile Mofana|       Johnny Joubert|    1.0|\n",
       "Isicebi Liq Distr...|aCa1i000000TXyACAW|          NO|Alfie Joubert|No Retail element|     Lungile Mofana|       Johnny Joubert|    1.0|\n",
       "Isicebi Liq Distr...|aCa1i000000TXyFCAW|          NO|Alfie Joubert|No Retail element|     Lungile Mofana|       Johnny Joubert|    1.0|\n",
       "Isicebi Liq Distr...|aCa1i000000TXxvCAG|          NO|Alfie Joubert|No Retail element|        Andile Yono|          Avril Links|    1.0|\n",
       "+--------------------+------------------+------------+-------------+-----------------+-------------------+---------------------+-------+\n",
       "only showing top 20 rows\n",
       "\n",
       "</div>"
      ]
     },
     "metadata": {
      "application/vnd.databricks.v1+output": {
       "addedWidgets": {},
       "arguments": {},
       "data": "<div class=\"ansiout\">+--------------------+------------------+------------+-------------+-----------------+-------------------+---------------------+-------+\n|        Account Name|        Account Id|Retail Store|          KAM|           Reason|      Account Owner|Account Owner Manager|Exclude|\n+--------------------+------------------+------------+-------------+-----------------+-------------------+---------------------+-------+\n|Captain Liquor Di...|aCaD0000000PFBLKA4|          No| Chad Haverly|No Retail element|       Cecil Bagley|         Hein Stander|    1.0|\n|Distri-Liq (Preto...|aCaD0000000PF0tKAG|          No| Chad Haverly|No Retail element|     Monique Bester|       Charles Maseko|    1.0|\n|Distri-Liq (Ruste...|aCaD0000000PFNcKAO|          No| Chad Haverly|No Retail element|       Kagiso Motau|         Given Mmekoa|    1.0|\n|Durban North Liqu...|aCaD0000000gbxoKAA|          No| Chad Haverly|No Retail element|     Mphokuhle Cele|     Antara Ramouthar|    1.0|\n|Norman Goodfellow...|aCaD0000000PG0WKAW|          No| Chad Haverly|No Retail element|     Chris Bodenham|       Robbie Van Eck|    1.0|\n|Norman Goodfellow...|aCaD0000000fziVKAQ|          No| Chad Haverly|No Retail element|      Pravin Hardin|         Hein Stander|    1.0|\n|   Panjivan  Liquors|aCaD0000000PF2RKAW|          No| Chad Haverly|No Retail element|     Sibaphiwe Sali|       Brandon Pillay|    1.0|\n|Panjivan Pieterma...|aCaD0000000PFYgKAO|          No| Chad Haverly|No Retail element|Noluthando Maselana|        Andrew Morris|    1.0|\n|Panjivan Swelani ...|aCaD0000000PF03KAG|          No| Chad Haverly|No Retail element|       Kuben Pillay|        Andrew Morris|    1.0|\n|Panjivans Big Ben...|aCaD0000000PFM6KAO|          No| Chad Haverly|No Retail element|     Sibaphiwe Sali|       Brandon Pillay|    1.0|\n|Platinum Distribu...|aCaD0000000gVq7KAE|          No| Chad Haverly|No Retail element|     Jarred Knoetze|       Johnny Joubert|    1.0|\n|Sg Convenience Ga...|aCaD0000000PFRbKAO|          No| Chad Haverly|No Retail element|      Pravin Hardin|         Hein Stander|    1.0|\n|  Sg Convenience Kzn|aCaD0000000PHuhKAG|          No| Chad Haverly|No Retail element|      Chimone Horst|        Andrew Morris|    1.0|\n|Tony&#39;S Liquor Who...|aCaD0000000PF0NKAW|          No| Chad Haverly|No Retail element| Paballo Bookholane|        Tshepo Mokale|    1.0|\n| Vassco Distributors|aCaD0000000PFEmKAO|          No| Chad Haverly|No Retail element|     Monique Bester|       Charles Maseko|    1.0|\n|Delta Warehouse (...|aCa1i000000TUOOCA4|          NO|Alfie Joubert|No Retail element|       Byron Nowers|       Johnny Joubert|    1.0|\n|     Flexi Beverages|aCaD0000000g94oKAA|          NO|Alfie Joubert|No Retail element|     Lungile Mofana|       Johnny Joubert|    1.0|\n|Isicebi Liq Distr...|aCa1i000000TXyACAW|          NO|Alfie Joubert|No Retail element|     Lungile Mofana|       Johnny Joubert|    1.0|\n|Isicebi Liq Distr...|aCa1i000000TXyFCAW|          NO|Alfie Joubert|No Retail element|     Lungile Mofana|       Johnny Joubert|    1.0|\n|Isicebi Liq Distr...|aCa1i000000TXxvCAG|          NO|Alfie Joubert|No Retail element|        Andile Yono|          Avril Links|    1.0|\n+--------------------+------------------+------------+-------------+-----------------+-------------------+---------------------+-------+\nonly showing top 20 rows\n\n</div>",
       "datasetInfos": [],
       "metadata": {},
       "removedWidgets": [],
       "type": "html"
      }
     },
     "output_type": "display_data"
    }
   ],
   "source": [
    "exclusion__df.show()"
   ]
  },
  {
   "cell_type": "code",
   "execution_count": 0,
   "metadata": {
    "application/vnd.databricks.v1+cell": {
     "cellMetadata": {
      "byteLimit": 2048000,
      "rowLimit": 10000
     },
     "inputWidgets": {},
     "nuid": "40ce3c42-fe15-4a7e-ac15-dcb70da444c7",
     "showTitle": false,
     "title": ""
    }
   },
   "outputs": [
    {
     "data": {
      "text/html": [
       "<style scoped>\n",
       "  .ansiout {\n",
       "    display: block;\n",
       "    unicode-bidi: embed;\n",
       "    white-space: pre-wrap;\n",
       "    word-wrap: break-word;\n",
       "    word-break: break-all;\n",
       "    font-family: \"Menlo\", \"Monaco\", \"Consolas\", \"Ubuntu Mono\", \"Source Code Pro\", monospace;\n",
       "    font-size: 13px;\n",
       "    color: #555;\n",
       "    margin-left: 4px;\n",
       "    line-height: 19px;\n",
       "  }\n",
       "</style>\n",
       "<div class=\"ansiout\">+-------------------+-----------------------------------+-----------------------+\n",
       "Area Sales Director|Account Owner Manager/Sales Manager|Account Owner/Sales Rep|\n",
       "+-------------------+-----------------------------------+-----------------------+\n",
       "   Celeste Carstens|                      Andrew Morris|          Chimone Horst|\n",
       "   Celeste Carstens|                      Andrew Morris|           Kuben Pillay|\n",
       "   Celeste Carstens|                      Andrew Morris|         Lebogang Maaga|\n",
       "   Celeste Carstens|                      Andrew Morris|         Mphokuhle Cele|\n",
       "   Celeste Carstens|                     Brandon Pillay|        Vincent Msowoya|\n",
       "   Celeste Carstens|                     Brandon Pillay|            Qhamani Bam|\n",
       "   Celeste Carstens|                     Brandon Pillay|     Siphesihle Magwaza|\n",
       "   Celeste Carstens|                     Brandon Pillay|           Themba Myeni|\n",
       "   Celeste Carstens|                     Brandon Pillay|          Tsuso Tserere|\n",
       "   Celeste Carstens|                     Brandon Pillay|       Pilani Nondabula|\n",
       "   Celeste Carstens|                       Ray Saunders|         Ashleigh Cocks|\n",
       "   Celeste Carstens|                       Ray Saunders|        Brandon Sayster|\n",
       "   Celeste Carstens|                       Ray Saunders|              Lebo Gora|\n",
       "   Celeste Carstens|                       Ray Saunders|     Mlungisi Magwaxaza|\n",
       "   Celeste Carstens|                       Ray Saunders|           Zwai Sonjica|\n",
       "         Karen Wahl|                  Johan van Niekerk|      Curven Swiegelaar|\n",
       "         Karen Wahl|                  Johan van Niekerk|          Fabian Jacobs|\n",
       "         Karen Wahl|                  Johan van Niekerk|         Michelle Walsh|\n",
       "         Karen Wahl|                  Johan van Niekerk|             Ryan Bloem|\n",
       "         Karen Wahl|                  Johan van Niekerk|       Sibongile Magazi|\n",
       "+-------------------+-----------------------------------+-----------------------+\n",
       "only showing top 20 rows\n",
       "\n",
       "</div>"
      ]
     },
     "metadata": {
      "application/vnd.databricks.v1+output": {
       "addedWidgets": {},
       "arguments": {},
       "data": "<div class=\"ansiout\">+-------------------+-----------------------------------+-----------------------+\n|Area Sales Director|Account Owner Manager/Sales Manager|Account Owner/Sales Rep|\n+-------------------+-----------------------------------+-----------------------+\n|   Celeste Carstens|                      Andrew Morris|          Chimone Horst|\n|   Celeste Carstens|                      Andrew Morris|           Kuben Pillay|\n|   Celeste Carstens|                      Andrew Morris|         Lebogang Maaga|\n|   Celeste Carstens|                      Andrew Morris|         Mphokuhle Cele|\n|   Celeste Carstens|                     Brandon Pillay|        Vincent Msowoya|\n|   Celeste Carstens|                     Brandon Pillay|            Qhamani Bam|\n|   Celeste Carstens|                     Brandon Pillay|     Siphesihle Magwaza|\n|   Celeste Carstens|                     Brandon Pillay|           Themba Myeni|\n|   Celeste Carstens|                     Brandon Pillay|          Tsuso Tserere|\n|   Celeste Carstens|                     Brandon Pillay|       Pilani Nondabula|\n|   Celeste Carstens|                       Ray Saunders|         Ashleigh Cocks|\n|   Celeste Carstens|                       Ray Saunders|        Brandon Sayster|\n|   Celeste Carstens|                       Ray Saunders|              Lebo Gora|\n|   Celeste Carstens|                       Ray Saunders|     Mlungisi Magwaxaza|\n|   Celeste Carstens|                       Ray Saunders|           Zwai Sonjica|\n|         Karen Wahl|                  Johan van Niekerk|      Curven Swiegelaar|\n|         Karen Wahl|                  Johan van Niekerk|          Fabian Jacobs|\n|         Karen Wahl|                  Johan van Niekerk|         Michelle Walsh|\n|         Karen Wahl|                  Johan van Niekerk|             Ryan Bloem|\n|         Karen Wahl|                  Johan van Niekerk|       Sibongile Magazi|\n+-------------------+-----------------------------------+-----------------------+\nonly showing top 20 rows\n\n</div>",
       "datasetInfos": [],
       "metadata": {},
       "removedWidgets": [],
       "type": "html"
      }
     },
     "output_type": "display_data"
    }
   ],
   "source": [
    "role_map__df.show()"
   ]
  },
  {
   "cell_type": "markdown",
   "metadata": {
    "application/vnd.databricks.v1+cell": {
     "cellMetadata": {},
     "inputWidgets": {},
     "nuid": "d11b6704-09c4-4d3f-9791-3891d9c91de8",
     "showTitle": false,
     "title": ""
    }
   },
   "source": [
    "#### `Move` files btw Sharepoint Folders"
   ]
  },
  {
   "cell_type": "markdown",
   "metadata": {
    "application/vnd.databricks.v1+cell": {
     "cellMetadata": {},
     "inputWidgets": {},
     "nuid": "b37c9222-9ae6-4d1a-9640-024a69c11d81",
     "showTitle": false,
     "title": ""
    }
   },
   "source": [
    "##### keep searching -> move_to or moveto don't work in this downloaded module"
   ]
  },
  {
   "cell_type": "markdown",
   "metadata": {
    "application/vnd.databricks.v1+cell": {
     "cellMetadata": {},
     "inputWidgets": {},
     "nuid": "217411f0-080e-414d-b75f-39466508a2e0",
     "showTitle": false,
     "title": ""
    }
   },
   "source": [
    "#### `Write` in sharepoint"
   ]
  },
  {
   "cell_type": "code",
   "execution_count": 0,
   "metadata": {
    "application/vnd.databricks.v1+cell": {
     "cellMetadata": {
      "byteLimit": 2048000,
      "rowLimit": 10000
     },
     "inputWidgets": {},
     "nuid": "968ea45c-6c41-4839-9574-aea7669cf62c",
     "showTitle": false,
     "title": ""
    }
   },
   "outputs": [
    {
     "data": {
      "text/html": [
       "<style scoped>\n",
       "  .ansiout {\n",
       "    display: block;\n",
       "    unicode-bidi: embed;\n",
       "    white-space: pre-wrap;\n",
       "    word-wrap: break-word;\n",
       "    word-break: break-all;\n",
       "    font-family: \"Menlo\", \"Monaco\", \"Consolas\", \"Ubuntu Mono\", \"Source Code Pro\", monospace;\n",
       "    font-size: 13px;\n",
       "    color: #555;\n",
       "    margin-left: 4px;\n",
       "    line-height: 19px;\n",
       "  }\n",
       "</style>\n",
       "<div class=\"ansiout\"></div>"
      ]
     },
     "metadata": {
      "application/vnd.databricks.v1+output": {
       "addedWidgets": {},
       "arguments": {},
       "data": "<div class=\"ansiout\"></div>",
       "datasetInfos": [],
       "metadata": {},
       "removedWidgets": [],
       "type": "html"
      }
     },
     "output_type": "display_data"
    }
   ],
   "source": [
    "# Folder link and object\n",
    "output_folder = \"https://YOUR-COMPANY.sharepoint.com/:f:/s/SASIPAutomationProject/Ehr1xSw61FRCnUk8aCvZ4NQB_qOJe7eqGjYdd0jXq9zrsg?e=MsHZxK\"\n",
    "output_folder_obj = client.web.get_folder_by_guest_url_extended(output_folder).execute_query()"
   ]
  },
  {
   "cell_type": "markdown",
   "metadata": {
    "application/vnd.databricks.v1+cell": {
     "cellMetadata": {},
     "inputWidgets": {},
     "nuid": "99c8b90e-8371-41ed-96e8-3c96a0c031fb",
     "showTitle": false,
     "title": ""
    }
   },
   "source": [
    "#### Write in sharepoint - `A: Pandas`\n",
    "##### simplier but less scalable if big data related"
   ]
  },
  {
   "cell_type": "code",
   "execution_count": 0,
   "metadata": {
    "application/vnd.databricks.v1+cell": {
     "cellMetadata": {
      "byteLimit": 2048000,
      "rowLimit": 10000
     },
     "inputWidgets": {},
     "nuid": "aa54fc1b-6be9-477f-abb1-071a8cbc1f11",
     "showTitle": false,
     "title": ""
    }
   },
   "outputs": [
    {
     "data": {
      "text/html": [
       "<style scoped>\n",
       "  .ansiout {\n",
       "    display: block;\n",
       "    unicode-bidi: embed;\n",
       "    white-space: pre-wrap;\n",
       "    word-wrap: break-word;\n",
       "    word-break: break-all;\n",
       "    font-family: \"Menlo\", \"Monaco\", \"Consolas\", \"Ubuntu Mono\", \"Source Code Pro\", monospace;\n",
       "    font-size: 13px;\n",
       "    color: #555;\n",
       "    margin-left: 4px;\n",
       "    line-height: 19px;\n",
       "  }\n",
       "</style>\n",
       "<div class=\"ansiout\">Out[158]: /sites/SASIPAutomationProject/Shared Documents/General/SIP Automation Phase 2 Initial Documents/Phase 4 Top 10 reports/MTD Audit/Example of refreshing/POC - raw files/output/role_map.csv</div>"
      ]
     },
     "metadata": {
      "application/vnd.databricks.v1+output": {
       "addedWidgets": {},
       "arguments": {},
       "data": "<div class=\"ansiout\">Out[158]: /sites/SASIPAutomationProject/Shared Documents/General/SIP Automation Phase 2 Initial Documents/Phase 4 Top 10 reports/MTD Audit/Example of refreshing/POC - raw files/output/role_map.csv</div>",
       "datasetInfos": [],
       "metadata": {},
       "removedWidgets": [],
       "type": "html"
      }
     },
     "output_type": "display_data"
    }
   ],
   "source": [
    "# Convert Spark DataFrame to Pandas DataFrame\n",
    "role_map__pdf = role_map__df.toPandas()\n",
    "\n",
    "# Convert the Pandas DataFrame to a CSV string\n",
    "csv_data = role_map__pdf.to_csv(index=False)\n",
    "\n",
    "# Upload CSV to SharePoint directly from the CSV string\n",
    "output_file_name = \"role_map.csv\"\n",
    "output_folder_obj.upload_file(output_file_name, csv_data.encode('utf-8')).execute_query()"
   ]
  },
  {
   "cell_type": "markdown",
   "metadata": {
    "application/vnd.databricks.v1+cell": {
     "cellMetadata": {},
     "inputWidgets": {},
     "nuid": "d5b53582-ff26-487f-942a-6afc8d15d83c",
     "showTitle": false,
     "title": ""
    }
   },
   "source": [
    "#### Write in sharepoint - B: `just PySpark`\n",
    "##### use A.. "
   ]
  },
  {
   "cell_type": "code",
   "execution_count": 0,
   "metadata": {
    "application/vnd.databricks.v1+cell": {
     "cellMetadata": {
      "byteLimit": 2048000,
      "rowLimit": 10000
     },
     "inputWidgets": {},
     "nuid": "143a3eed-54d3-4925-829b-b05a13fa6e40",
     "showTitle": false,
     "title": ""
    }
   },
   "outputs": [
    {
     "data": {
      "text/html": [
       "<style scoped>\n",
       "  .ansiout {\n",
       "    display: block;\n",
       "    unicode-bidi: embed;\n",
       "    white-space: pre-wrap;\n",
       "    word-wrap: break-word;\n",
       "    word-break: break-all;\n",
       "    font-family: \"Menlo\", \"Monaco\", \"Consolas\", \"Ubuntu Mono\", \"Source Code Pro\", monospace;\n",
       "    font-size: 13px;\n",
       "    color: #555;\n",
       "    margin-left: 4px;\n",
       "    line-height: 19px;\n",
       "  }\n",
       "</style>\n",
       "<div class=\"ansiout\">Out[57]: /sites/SASIPAutomationProject/Shared Documents/General/SIP Automation Phase 2 Initial Documents/Phase 4 Top 10 reports/MTD Audit/Example of refreshing/POC - raw files/output/role_map.csv</div>"
      ]
     },
     "metadata": {
      "application/vnd.databricks.v1+output": {
       "addedWidgets": {},
       "arguments": {},
       "data": "<div class=\"ansiout\">Out[57]: /sites/SASIPAutomationProject/Shared Documents/General/SIP Automation Phase 2 Initial Documents/Phase 4 Top 10 reports/MTD Audit/Example of refreshing/POC - raw files/output/role_map.csv</div>",
       "datasetInfos": [],
       "metadata": {},
       "removedWidgets": [],
       "type": "html"
      }
     },
     "output_type": "display_data"
    }
   ],
   "source": [
    "from io import StringIO\n",
    "\n",
    "# Collect the DataFrame to a list of Row objects\n",
    "rows = role_map__df.collect()\n",
    "\n",
    "# Get the schema (column names)\n",
    "columns = role_map__df.columns\n",
    "\n",
    "# Create a CSV string from the collected data\n",
    "csv_output = StringIO()\n",
    "csv_output.write(','.join(columns) + '\\n')  # Write header\n",
    "for row in rows:\n",
    "    csv_output.write(','.join(str(value) for value in row) + '\\n')  # Write each row\n",
    "\n",
    "# Get the CSV string from the StringIO object\n",
    "csv_data = csv_output.getvalue()\n",
    "\n",
    "# Upload CSV to SharePoint directly from the CSV string\n",
    "output_file_name = \"role_map.csv\"\n",
    "output_folder_obj.upload_file(output_file_name, csv_data.encode('utf-8')).execute_query()\n"
   ]
  },
  {
   "cell_type": "markdown",
   "metadata": {
    "application/vnd.databricks.v1+cell": {
     "cellMetadata": {},
     "inputWidgets": {},
     "nuid": "877aaa92-7e61-4eff-8377-974024988bdc",
     "showTitle": false,
     "title": ""
    }
   },
   "source": [
    "#### `Delete` files in a Sharepoint Folder"
   ]
  },
  {
   "cell_type": "code",
   "execution_count": 0,
   "metadata": {
    "application/vnd.databricks.v1+cell": {
     "cellMetadata": {
      "byteLimit": 2048000,
      "rowLimit": 10000
     },
     "inputWidgets": {},
     "nuid": "68278f8c-be44-42f0-86b8-342d751135ee",
     "showTitle": false,
     "title": ""
    }
   },
   "outputs": [
    {
     "data": {
      "text/html": [
       "<style scoped>\n",
       "  .ansiout {\n",
       "    display: block;\n",
       "    unicode-bidi: embed;\n",
       "    white-space: pre-wrap;\n",
       "    word-wrap: break-word;\n",
       "    word-break: break-all;\n",
       "    font-family: \"Menlo\", \"Monaco\", \"Consolas\", \"Ubuntu Mono\", \"Source Code Pro\", monospace;\n",
       "    font-size: 13px;\n",
       "    color: #555;\n",
       "    margin-left: 4px;\n",
       "    line-height: 19px;\n",
       "  }\n",
       "</style>\n",
       "<div class=\"ansiout\">Deleting file: role_map.csv\n",
       "All files deleted.\n",
       "</div>"
      ]
     },
     "metadata": {
      "application/vnd.databricks.v1+output": {
       "addedWidgets": {},
       "arguments": {},
       "data": "<div class=\"ansiout\">Deleting file: role_map.csv\nAll files deleted.\n</div>",
       "datasetInfos": [],
       "metadata": {},
       "removedWidgets": [],
       "type": "html"
      }
     },
     "output_type": "display_data"
    }
   ],
   "source": [
    "# Folder link\n",
    "deleteFolder_link = \"https://YOUR-COMPANY.sharepoint.com/:f:/s/SASIPAutomationProject/Ehr1xSw61FRCnUk8aCvZ4NQB_qOJe7eqGjYdd0jXq9zrsg?e=MsHZxK\"\n",
    "\n",
    "# Retrieve the folder object\n",
    "deleteFolder_obj = client.web.get_folder_by_guest_url_extended(deleteFolder_link).execute_query()\n",
    "\n",
    "# Load the files in the folder\n",
    "sharepoint_files_toDelete = deleteFolder_obj.files\n",
    "client.load(sharepoint_files_toDelete).execute_query()\n",
    "\n",
    "# Delete each file in the folder\n",
    "for file in sharepoint_files_toDelete:\n",
    "    print(f\"Deleting file: {file.properties['Name']}\")\n",
    "    file.delete_object()\n",
    "    client.execute_query()\n",
    "\n",
    "print(\"All files deleted.\")"
   ]
  }
 ],
 "metadata": {
  "application/vnd.databricks.v1+notebook": {
   "dashboards": [],
   "environmentMetadata": {
    "base_environment": "",
    "client": "1"
   },
   "language": "python",
   "notebookMetadata": {
    "pythonIndentUnit": 2
   },
   "notebookName": "Audit Gap List",
   "widgets": {}
  },
  "language_info": {
   "name": "python"
  }
 },
 "nbformat": 4,
 "nbformat_minor": 0
}
