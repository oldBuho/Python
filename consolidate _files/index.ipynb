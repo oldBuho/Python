{
 "cells": [
  {
   "cell_type": "code",
   "execution_count": 1,
   "metadata": {},
   "outputs": [],
   "source": [
    "import pandas as pd\n",
    "import os"
   ]
  },
  {
   "cell_type": "code",
   "execution_count": 2,
   "metadata": {},
   "outputs": [
    {
     "data": {
      "text/plain": [
       "['E-10000232.xlsx',\n",
       " 'E-10000957.xlsx',\n",
       " 'E-12345634.xlsx',\n",
       " 'E-12345654.xlsx',\n",
       " 'E-12345678.xlsx',\n",
       " 'E-12345910.xlsx',\n",
       " '~$E-10000232.xlsx']"
      ]
     },
     "execution_count": 2,
     "metadata": {},
     "output_type": "execute_result"
    }
   ],
   "source": [
    "dir = \"Folder_A/\"\n",
    "file_list = os.listdir(dir)\n",
    "file_list"
   ]
  },
  {
   "cell_type": "code",
   "execution_count": 3,
   "metadata": {},
   "outputs": [
    {
     "data": {
      "text/plain": [
       "['E-10000232.xlsx',\n",
       " 'E-10000957.xlsx',\n",
       " 'E-12345634.xlsx',\n",
       " 'E-12345654.xlsx',\n",
       " 'E-12345678.xlsx',\n",
       " 'E-12345910.xlsx']"
      ]
     },
     "execution_count": 3,
     "metadata": {},
     "output_type": "execute_result"
    }
   ],
   "source": [
    "file_list = [file for file in file_list if \"~$\" not in file] # do not consider opened files (~$ prefix for windows)\n",
    "\n",
    "file_list"
   ]
  },
  {
   "cell_type": "code",
   "execution_count": 4,
   "metadata": {},
   "outputs": [
    {
     "name": "stdout",
     "output_type": "stream",
     "text": [
      "578\n",
      "578\n",
      "112\n",
      "112\n",
      "112\n",
      "112\n"
     ]
    },
    {
     "data": {
      "text/plain": [
       "1604"
      ]
     },
     "execution_count": 4,
     "metadata": {},
     "output_type": "execute_result"
    }
   ],
   "source": [
    "# row numb per file and total\n",
    "\n",
    "row_total = 0\n",
    "\n",
    "for file in file_list:\n",
    "    \n",
    "    print(\n",
    "        len(\n",
    "            pd.read_excel(dir+file, skiprows=6, index_col=None))) # delet first 6 rows\n",
    "    \n",
    "    row_total += len(pd.read_excel(dir+file, skiprows=6, index_col=None))\n",
    "\n",
    "row_total"
   ]
  },
  {
   "cell_type": "markdown",
   "metadata": {},
   "source": [
    "* all raw files in one excel sheet\n",
    "* add a column to track file source\n"
   ]
  },
  {
   "cell_type": "code",
   "execution_count": 5,
   "metadata": {},
   "outputs": [],
   "source": [
    "# OPTION A\n",
    "\n",
    "df_A = pd.DataFrame()\n",
    "\n",
    "#read and concat files\n",
    "for i in range(len(file_list)):\n",
    "    path = dir + file_list[i]\n",
    "    append_df = pd.read_excel(path, skiprows=6, index_col=None) # delet first 6 rows\n",
    "    append_df[\"File Name\"] = file #to track file name\n",
    "    df_A = pd.concat([df_A, append_df], ignore_index=True, axis=0)"
   ]
  },
  {
   "cell_type": "code",
   "execution_count": 6,
   "metadata": {},
   "outputs": [],
   "source": [
    "# OPTION B\n",
    "\n",
    "df = pd.DataFrame()\n",
    "\n",
    "# read and concat files\n",
    "for file in file_list:\n",
    "    append_df = pd.read_excel(dir+file, skiprows=6, index_col=None) # delet first 6 rows\n",
    "    append_df[\"File Name\"] = file #to track file name\n",
    "    df = df.append(append_df)"
   ]
  },
  {
   "cell_type": "code",
   "execution_count": 7,
   "metadata": {},
   "outputs": [
    {
     "data": {
      "text/plain": [
       "(1604, 43)"
      ]
     },
     "execution_count": 7,
     "metadata": {},
     "output_type": "execute_result"
    }
   ],
   "source": [
    "df.shape"
   ]
  },
  {
   "cell_type": "code",
   "execution_count": 10,
   "metadata": {},
   "outputs": [
    {
     "data": {
      "text/html": [
       "<div>\n",
       "<style scoped>\n",
       "    .dataframe tbody tr th:only-of-type {\n",
       "        vertical-align: middle;\n",
       "    }\n",
       "\n",
       "    .dataframe tbody tr th {\n",
       "        vertical-align: top;\n",
       "    }\n",
       "\n",
       "    .dataframe thead th {\n",
       "        text-align: right;\n",
       "    }\n",
       "</style>\n",
       "<table border=\"1\" class=\"dataframe\">\n",
       "  <thead>\n",
       "    <tr style=\"text-align: right;\">\n",
       "      <th></th>\n",
       "      <th>Opportunity ID</th>\n",
       "      <th>Opportunity Name</th>\n",
       "      <th>Project ID</th>\n",
       "      <th>Project Name</th>\n",
       "      <th>Engagement ID</th>\n",
       "      <th>Engagement Name</th>\n",
       "      <th>Client ID</th>\n",
       "      <th>Client Name</th>\n",
       "      <th>Week Ending Date</th>\n",
       "      <th>Transaction Date</th>\n",
       "      <th>...</th>\n",
       "      <th>Category Code Description</th>\n",
       "      <th>Expense Amount</th>\n",
       "      <th>Expense Description</th>\n",
       "      <th>Sub Category Description</th>\n",
       "      <th>Account Name/ID</th>\n",
       "      <th>Journal ID</th>\n",
       "      <th>Voucher ID</th>\n",
       "      <th>Vendor Name/ID</th>\n",
       "      <th>Transaction Type</th>\n",
       "      <th>File Name</th>\n",
       "    </tr>\n",
       "  </thead>\n",
       "  <tbody>\n",
       "    <tr>\n",
       "      <th>0</th>\n",
       "      <td>O-195750</td>\n",
       "      <td>AZ_GCR TR/BTC + TAC + FS + VAT + TP 2016</td>\n",
       "      <td>P-195750-014</td>\n",
       "      <td>Client1</td>\n",
       "      <td>E-10000232</td>\n",
       "      <td>engagement 1</td>\n",
       "      <td>123456789</td>\n",
       "      <td>client 1</td>\n",
       "      <td>2019-06-21</td>\n",
       "      <td>2019-06-21</td>\n",
       "      <td>...</td>\n",
       "      <td>NaN</td>\n",
       "      <td>NaN</td>\n",
       "      <td>NaN</td>\n",
       "      <td>NaN</td>\n",
       "      <td>NaN</td>\n",
       "      <td>NaN</td>\n",
       "      <td>NaN</td>\n",
       "      <td>NaN</td>\n",
       "      <td>Labor</td>\n",
       "      <td>E-10000232.xlsx</td>\n",
       "    </tr>\n",
       "    <tr>\n",
       "      <th>1</th>\n",
       "      <td>O-195750</td>\n",
       "      <td>AZ_GCR TR/BTC + TAC + FS + VAT + TP 2016</td>\n",
       "      <td>P-195750-014</td>\n",
       "      <td>Client1</td>\n",
       "      <td>E-10000232</td>\n",
       "      <td>engagement 1</td>\n",
       "      <td>123456789</td>\n",
       "      <td>client 1</td>\n",
       "      <td>2019-06-21</td>\n",
       "      <td>2019-06-20</td>\n",
       "      <td>...</td>\n",
       "      <td>NaN</td>\n",
       "      <td>NaN</td>\n",
       "      <td>NaN</td>\n",
       "      <td>NaN</td>\n",
       "      <td>NaN</td>\n",
       "      <td>NaN</td>\n",
       "      <td>NaN</td>\n",
       "      <td>NaN</td>\n",
       "      <td>Labor</td>\n",
       "      <td>E-10000232.xlsx</td>\n",
       "    </tr>\n",
       "    <tr>\n",
       "      <th>2</th>\n",
       "      <td>O-195750</td>\n",
       "      <td>AZ_GCR TR/BTC + TAC + FS + VAT + TP 2016</td>\n",
       "      <td>P-195750-014</td>\n",
       "      <td>Client1</td>\n",
       "      <td>E-10000232</td>\n",
       "      <td>engagement 1</td>\n",
       "      <td>123456789</td>\n",
       "      <td>client 1</td>\n",
       "      <td>2019-06-21</td>\n",
       "      <td>2019-06-20</td>\n",
       "      <td>...</td>\n",
       "      <td>NaN</td>\n",
       "      <td>NaN</td>\n",
       "      <td>NaN</td>\n",
       "      <td>NaN</td>\n",
       "      <td>NaN</td>\n",
       "      <td>NaN</td>\n",
       "      <td>NaN</td>\n",
       "      <td>NaN</td>\n",
       "      <td>Labor</td>\n",
       "      <td>E-10000232.xlsx</td>\n",
       "    </tr>\n",
       "    <tr>\n",
       "      <th>3</th>\n",
       "      <td>O-195750</td>\n",
       "      <td>AZ_GCR TR/BTC + TAC + FS + VAT + TP 2016</td>\n",
       "      <td>P-195750-014</td>\n",
       "      <td>Client1</td>\n",
       "      <td>E-10000232</td>\n",
       "      <td>engagement 1</td>\n",
       "      <td>123456789</td>\n",
       "      <td>client 1</td>\n",
       "      <td>2019-06-21</td>\n",
       "      <td>2019-06-20</td>\n",
       "      <td>...</td>\n",
       "      <td>NaN</td>\n",
       "      <td>NaN</td>\n",
       "      <td>NaN</td>\n",
       "      <td>NaN</td>\n",
       "      <td>NaN</td>\n",
       "      <td>NaN</td>\n",
       "      <td>NaN</td>\n",
       "      <td>NaN</td>\n",
       "      <td>Labor</td>\n",
       "      <td>E-10000232.xlsx</td>\n",
       "    </tr>\n",
       "    <tr>\n",
       "      <th>4</th>\n",
       "      <td>O-195750</td>\n",
       "      <td>AZ_GCR TR/BTC + TAC + FS + VAT + TP 2016</td>\n",
       "      <td>P-195750-014</td>\n",
       "      <td>Client1</td>\n",
       "      <td>E-10000232</td>\n",
       "      <td>engagement 1</td>\n",
       "      <td>123456789</td>\n",
       "      <td>client 1</td>\n",
       "      <td>2019-06-21</td>\n",
       "      <td>2019-06-20</td>\n",
       "      <td>...</td>\n",
       "      <td>NaN</td>\n",
       "      <td>NaN</td>\n",
       "      <td>NaN</td>\n",
       "      <td>NaN</td>\n",
       "      <td>NaN</td>\n",
       "      <td>NaN</td>\n",
       "      <td>NaN</td>\n",
       "      <td>NaN</td>\n",
       "      <td>Labor</td>\n",
       "      <td>E-10000232.xlsx</td>\n",
       "    </tr>\n",
       "  </tbody>\n",
       "</table>\n",
       "<p>5 rows × 43 columns</p>\n",
       "</div>"
      ],
      "text/plain": [
       "  Opportunity ID                          Opportunity Name    Project ID  \\\n",
       "0       O-195750  AZ_GCR TR/BTC + TAC + FS + VAT + TP 2016  P-195750-014   \n",
       "1       O-195750  AZ_GCR TR/BTC + TAC + FS + VAT + TP 2016  P-195750-014   \n",
       "2       O-195750  AZ_GCR TR/BTC + TAC + FS + VAT + TP 2016  P-195750-014   \n",
       "3       O-195750  AZ_GCR TR/BTC + TAC + FS + VAT + TP 2016  P-195750-014   \n",
       "4       O-195750  AZ_GCR TR/BTC + TAC + FS + VAT + TP 2016  P-195750-014   \n",
       "\n",
       "  Project Name Engagement ID Engagement Name  Client ID Client Name  \\\n",
       "0      Client1    E-10000232    engagement 1  123456789    client 1   \n",
       "1      Client1    E-10000232    engagement 1  123456789    client 1   \n",
       "2      Client1    E-10000232    engagement 1  123456789    client 1   \n",
       "3      Client1    E-10000232    engagement 1  123456789    client 1   \n",
       "4      Client1    E-10000232    engagement 1  123456789    client 1   \n",
       "\n",
       "  Week Ending Date Transaction Date  ... Category Code Description  \\\n",
       "0       2019-06-21       2019-06-21  ...                       NaN   \n",
       "1       2019-06-21       2019-06-20  ...                       NaN   \n",
       "2       2019-06-21       2019-06-20  ...                       NaN   \n",
       "3       2019-06-21       2019-06-20  ...                       NaN   \n",
       "4       2019-06-21       2019-06-20  ...                       NaN   \n",
       "\n",
       "   Expense Amount Expense Description  Sub Category Description  \\\n",
       "0             NaN                 NaN                       NaN   \n",
       "1             NaN                 NaN                       NaN   \n",
       "2             NaN                 NaN                       NaN   \n",
       "3             NaN                 NaN                       NaN   \n",
       "4             NaN                 NaN                       NaN   \n",
       "\n",
       "  Account Name/ID Journal ID Voucher ID Vendor Name/ID  Transaction Type  \\\n",
       "0             NaN        NaN        NaN            NaN             Labor   \n",
       "1             NaN        NaN        NaN            NaN             Labor   \n",
       "2             NaN        NaN        NaN            NaN             Labor   \n",
       "3             NaN        NaN        NaN            NaN             Labor   \n",
       "4             NaN        NaN        NaN            NaN             Labor   \n",
       "\n",
       "         File Name  \n",
       "0  E-10000232.xlsx  \n",
       "1  E-10000232.xlsx  \n",
       "2  E-10000232.xlsx  \n",
       "3  E-10000232.xlsx  \n",
       "4  E-10000232.xlsx  \n",
       "\n",
       "[5 rows x 43 columns]"
      ]
     },
     "execution_count": 10,
     "metadata": {},
     "output_type": "execute_result"
    }
   ],
   "source": [
    "df.head()"
   ]
  },
  {
   "cell_type": "markdown",
   "metadata": {},
   "source": [
    "Delete entire rows if the Column “Rank” contains “Unknown” or “Intern (CS)”"
   ]
  },
  {
   "cell_type": "code",
   "execution_count": 11,
   "metadata": {},
   "outputs": [
    {
     "data": {
      "text/plain": [
       "1538"
      ]
     },
     "execution_count": 11,
     "metadata": {},
     "output_type": "execute_result"
    }
   ],
   "source": [
    "df = df[(df.Rank != \"Unknown\") & (df.Rank != \"Intern (CS)\")]\n",
    "df.shape[0] # new row total"
   ]
  },
  {
   "cell_type": "markdown",
   "metadata": {},
   "source": [
    "Colour entire rows if the column “Activity Code Description” contains “General”"
   ]
  },
  {
   "cell_type": "code",
   "execution_count": 12,
   "metadata": {},
   "outputs": [],
   "source": [
    "table_index = df.index"
   ]
  },
  {
   "cell_type": "code",
   "execution_count": 13,
   "metadata": {},
   "outputs": [
    {
     "data": {
      "text/plain": [
       "Int64Index([  0,   1,   4,  14,  16,  18,  19,  20,  21,  22,\n",
       "            ...\n",
       "             31,  35,  36,  62,  84,  92,  95,  98, 102, 109],\n",
       "           dtype='int64', length=486)"
      ]
     },
     "execution_count": 13,
     "metadata": {},
     "output_type": "execute_result"
    }
   ],
   "source": [
    "selected_index = df[df[\"Activity Code Description\"] == 'General'].index\n",
    "selected_index"
   ]
  },
  {
   "cell_type": "code",
   "execution_count": 14,
   "metadata": {},
   "outputs": [],
   "source": [
    "# PENDING , see documentation, pandas.style "
   ]
  },
  {
   "cell_type": "markdown",
   "metadata": {},
   "source": [
    "•\tCreate a separate sheet and name it as “Senior Rank”. \n",
    "<br>\n",
    "•\tFilter “Executive Director” & “Manager” data from the column “Rank” and copy paste filtered data to the sheet “Senior Rank”"
   ]
  },
  {
   "cell_type": "code",
   "execution_count": 15,
   "metadata": {},
   "outputs": [
    {
     "data": {
      "text/plain": [
       "3                Manager\n",
       "11               Manager\n",
       "12               Manager\n",
       "18    Executive Director\n",
       "19    Executive Director\n",
       "Name: Rank, dtype: object"
      ]
     },
     "execution_count": 15,
     "metadata": {},
     "output_type": "execute_result"
    }
   ],
   "source": [
    "df_SR = df[(df.Rank == \"Executive Director\") | (df.Rank == \"Manager\")]\n",
    "df_SR.Rank.head()"
   ]
  },
  {
   "cell_type": "code",
   "execution_count": 16,
   "metadata": {},
   "outputs": [
    {
     "data": {
      "text/plain": [
       "(304, 43)"
      ]
     },
     "execution_count": 16,
     "metadata": {},
     "output_type": "execute_result"
    }
   ],
   "source": [
    "df_SR.shape"
   ]
  },
  {
   "cell_type": "code",
   "execution_count": 17,
   "metadata": {},
   "outputs": [],
   "source": [
    "# see last cell about the new excel sheet"
   ]
  },
  {
   "cell_type": "markdown",
   "metadata": {},
   "source": [
    "Add sum to the columns “Charged Hours”, “NSR” & “ANSR” in consolidated sheet"
   ]
  },
  {
   "cell_type": "code",
   "execution_count": 18,
   "metadata": {},
   "outputs": [
    {
     "data": {
      "text/plain": [
       "Client ID                 1.345734e+11\n",
       "Employee GUI              1.526301e+09\n",
       "Grade                     2.788000e+03\n",
       "Charged Hours             1.778600e+03\n",
       "NSR                       3.690706e+05\n",
       "NSR Rate                  3.182360e+05\n",
       "Rate Card Rate            0.000000e+00\n",
       "Rate Card Amount          0.000000e+00\n",
       "ANSR                      2.380220e+05\n",
       "EAF Reserve Allocation    1.310486e+05\n",
       "Direct Cost               1.518942e+05\n",
       "Cost Rate                 1.299286e+05\n",
       "Expense Amount            1.857200e+02\n",
       "Journal ID                0.000000e+00\n",
       "Voucher ID                0.000000e+00\n",
       "Vendor Name/ID            0.000000e+00\n",
       "dtype: float64"
      ]
     },
     "execution_count": 18,
     "metadata": {},
     "output_type": "execute_result"
    }
   ],
   "source": [
    "# sum up numeric fields\n",
    "row_sum = df.sum(numeric_only = True)\n",
    "row_sum"
   ]
  },
  {
   "cell_type": "code",
   "execution_count": 19,
   "metadata": {},
   "outputs": [
    {
     "data": {
      "text/html": [
       "<div>\n",
       "<style scoped>\n",
       "    .dataframe tbody tr th:only-of-type {\n",
       "        vertical-align: middle;\n",
       "    }\n",
       "\n",
       "    .dataframe tbody tr th {\n",
       "        vertical-align: top;\n",
       "    }\n",
       "\n",
       "    .dataframe thead th {\n",
       "        text-align: right;\n",
       "    }\n",
       "</style>\n",
       "<table border=\"1\" class=\"dataframe\">\n",
       "  <thead>\n",
       "    <tr style=\"text-align: right;\">\n",
       "      <th></th>\n",
       "      <th>Charged Hours</th>\n",
       "      <th>NSR</th>\n",
       "      <th>ANSR</th>\n",
       "    </tr>\n",
       "  </thead>\n",
       "  <tbody>\n",
       "    <tr>\n",
       "      <th>103</th>\n",
       "      <td>2.0</td>\n",
       "      <td>278.0</td>\n",
       "      <td>165.332076</td>\n",
       "    </tr>\n",
       "    <tr>\n",
       "      <th>104</th>\n",
       "      <td>0.4</td>\n",
       "      <td>55.6</td>\n",
       "      <td>33.066415</td>\n",
       "    </tr>\n",
       "    <tr>\n",
       "      <th>105</th>\n",
       "      <td>0.5</td>\n",
       "      <td>69.5</td>\n",
       "      <td>41.333019</td>\n",
       "    </tr>\n",
       "    <tr>\n",
       "      <th>106</th>\n",
       "      <td>0.3</td>\n",
       "      <td>41.7</td>\n",
       "      <td>24.799811</td>\n",
       "    </tr>\n",
       "    <tr>\n",
       "      <th>107</th>\n",
       "      <td>0.2</td>\n",
       "      <td>27.8</td>\n",
       "      <td>16.533208</td>\n",
       "    </tr>\n",
       "    <tr>\n",
       "      <th>108</th>\n",
       "      <td>1.2</td>\n",
       "      <td>360.0</td>\n",
       "      <td>214.099092</td>\n",
       "    </tr>\n",
       "    <tr>\n",
       "      <th>109</th>\n",
       "      <td>1.0</td>\n",
       "      <td>113.0</td>\n",
       "      <td>67.203326</td>\n",
       "    </tr>\n",
       "    <tr>\n",
       "      <th>110</th>\n",
       "      <td>NaN</td>\n",
       "      <td>NaN</td>\n",
       "      <td>0.000000</td>\n",
       "    </tr>\n",
       "    <tr>\n",
       "      <th>111</th>\n",
       "      <td>NaN</td>\n",
       "      <td>NaN</td>\n",
       "      <td>0.000000</td>\n",
       "    </tr>\n",
       "    <tr>\n",
       "      <th>1538</th>\n",
       "      <td>1778.6</td>\n",
       "      <td>369070.6</td>\n",
       "      <td>238022.022752</td>\n",
       "    </tr>\n",
       "  </tbody>\n",
       "</table>\n",
       "</div>"
      ],
      "text/plain": [
       "      Charged Hours       NSR           ANSR\n",
       "103             2.0     278.0     165.332076\n",
       "104             0.4      55.6      33.066415\n",
       "105             0.5      69.5      41.333019\n",
       "106             0.3      41.7      24.799811\n",
       "107             0.2      27.8      16.533208\n",
       "108             1.2     360.0     214.099092\n",
       "109             1.0     113.0      67.203326\n",
       "110             NaN       NaN       0.000000\n",
       "111             NaN       NaN       0.000000\n",
       "1538         1778.6  369070.6  238022.022752"
      ]
     },
     "execution_count": 19,
     "metadata": {},
     "output_type": "execute_result"
    }
   ],
   "source": [
    "fields = [\"Charged Hours\", \"NSR\", \"ANSR\"]\n",
    "last_row_added = df.shape[0]\n",
    "\n",
    "for field in fields:\n",
    "    df.loc[last_row_added, field] = row_sum[field]\n",
    "\n",
    "df[fields].tail(10)"
   ]
  },
  {
   "cell_type": "code",
   "execution_count": 20,
   "metadata": {},
   "outputs": [
    {
     "data": {
      "text/plain": [
       "Charged Hours           1778.6\n",
       "NSR                   369070.6\n",
       "ANSR             238022.022752\n",
       "Name: 1538, dtype: object"
      ]
     },
     "execution_count": 20,
     "metadata": {},
     "output_type": "execute_result"
    }
   ],
   "source": [
    "df.iloc[df.shape[0]-1][fields] # last row"
   ]
  },
  {
   "cell_type": "code",
   "execution_count": 21,
   "metadata": {},
   "outputs": [
    {
     "data": {
      "text/html": [
       "<div>\n",
       "<style scoped>\n",
       "    .dataframe tbody tr th:only-of-type {\n",
       "        vertical-align: middle;\n",
       "    }\n",
       "\n",
       "    .dataframe tbody tr th {\n",
       "        vertical-align: top;\n",
       "    }\n",
       "\n",
       "    .dataframe thead th {\n",
       "        text-align: right;\n",
       "    }\n",
       "</style>\n",
       "<table border=\"1\" class=\"dataframe\">\n",
       "  <thead>\n",
       "    <tr style=\"text-align: right;\">\n",
       "      <th></th>\n",
       "      <th>Opportunity ID</th>\n",
       "      <th>Opportunity Name</th>\n",
       "      <th>Project ID</th>\n",
       "      <th>Project Name</th>\n",
       "      <th>Engagement ID</th>\n",
       "      <th>Engagement Name</th>\n",
       "      <th>Client ID</th>\n",
       "      <th>Client Name</th>\n",
       "      <th>Week Ending Date</th>\n",
       "      <th>Transaction Date</th>\n",
       "      <th>...</th>\n",
       "      <th>Category Code Description</th>\n",
       "      <th>Expense Amount</th>\n",
       "      <th>Expense Description</th>\n",
       "      <th>Sub Category Description</th>\n",
       "      <th>Account Name/ID</th>\n",
       "      <th>Journal ID</th>\n",
       "      <th>Voucher ID</th>\n",
       "      <th>Vendor Name/ID</th>\n",
       "      <th>Transaction Type</th>\n",
       "      <th>File Name</th>\n",
       "    </tr>\n",
       "  </thead>\n",
       "  <tbody>\n",
       "    <tr>\n",
       "      <th>110</th>\n",
       "      <td>O-195750</td>\n",
       "      <td>AZ_GCR TR/BTC + TAC + FS + VAT + TP 2016</td>\n",
       "      <td>P-195750-019</td>\n",
       "      <td>Project Name</td>\n",
       "      <td>E-12345678</td>\n",
       "      <td>AZ_GCR TAC 2019/2020</td>\n",
       "      <td>12346.0</td>\n",
       "      <td>Client Name</td>\n",
       "      <td>NaT</td>\n",
       "      <td>NaT</td>\n",
       "      <td>...</td>\n",
       "      <td>NaN</td>\n",
       "      <td>NaN</td>\n",
       "      <td>NaN</td>\n",
       "      <td>NaN</td>\n",
       "      <td>NaN</td>\n",
       "      <td>NaN</td>\n",
       "      <td>NaN</td>\n",
       "      <td>NaN</td>\n",
       "      <td>NaN</td>\n",
       "      <td>E-12345910.xlsx</td>\n",
       "    </tr>\n",
       "    <tr>\n",
       "      <th>111</th>\n",
       "      <td>O-195750</td>\n",
       "      <td>AZ_GCR TR/BTC + TAC + FS + VAT + TP 2016</td>\n",
       "      <td>P-195750-019</td>\n",
       "      <td>Project Name</td>\n",
       "      <td>E-12345678</td>\n",
       "      <td>AZ_GCR TAC 2019/2020</td>\n",
       "      <td>12346.0</td>\n",
       "      <td>Client Name</td>\n",
       "      <td>NaT</td>\n",
       "      <td>NaT</td>\n",
       "      <td>...</td>\n",
       "      <td>NaN</td>\n",
       "      <td>NaN</td>\n",
       "      <td>NaN</td>\n",
       "      <td>NaN</td>\n",
       "      <td>NaN</td>\n",
       "      <td>NaN</td>\n",
       "      <td>NaN</td>\n",
       "      <td>NaN</td>\n",
       "      <td>NaN</td>\n",
       "      <td>E-12345910.xlsx</td>\n",
       "    </tr>\n",
       "    <tr>\n",
       "      <th>1538</th>\n",
       "      <td>Total</td>\n",
       "      <td>NaN</td>\n",
       "      <td>NaN</td>\n",
       "      <td>NaN</td>\n",
       "      <td>NaN</td>\n",
       "      <td>NaN</td>\n",
       "      <td>NaN</td>\n",
       "      <td>NaN</td>\n",
       "      <td>NaT</td>\n",
       "      <td>NaT</td>\n",
       "      <td>...</td>\n",
       "      <td>NaN</td>\n",
       "      <td>NaN</td>\n",
       "      <td>NaN</td>\n",
       "      <td>NaN</td>\n",
       "      <td>NaN</td>\n",
       "      <td>NaN</td>\n",
       "      <td>NaN</td>\n",
       "      <td>NaN</td>\n",
       "      <td>NaN</td>\n",
       "      <td>NaN</td>\n",
       "    </tr>\n",
       "  </tbody>\n",
       "</table>\n",
       "<p>3 rows × 43 columns</p>\n",
       "</div>"
      ],
      "text/plain": [
       "     Opportunity ID                          Opportunity Name    Project ID  \\\n",
       "110        O-195750  AZ_GCR TR/BTC + TAC + FS + VAT + TP 2016  P-195750-019   \n",
       "111        O-195750  AZ_GCR TR/BTC + TAC + FS + VAT + TP 2016  P-195750-019   \n",
       "1538          Total                                       NaN           NaN   \n",
       "\n",
       "      Project Name Engagement ID       Engagement Name  Client ID  \\\n",
       "110   Project Name    E-12345678  AZ_GCR TAC 2019/2020    12346.0   \n",
       "111   Project Name    E-12345678  AZ_GCR TAC 2019/2020    12346.0   \n",
       "1538           NaN           NaN                   NaN        NaN   \n",
       "\n",
       "      Client Name Week Ending Date Transaction Date  ...  \\\n",
       "110   Client Name              NaT              NaT  ...   \n",
       "111   Client Name              NaT              NaT  ...   \n",
       "1538          NaN              NaT              NaT  ...   \n",
       "\n",
       "     Category Code Description  Expense Amount Expense Description  \\\n",
       "110                        NaN             NaN                 NaN   \n",
       "111                        NaN             NaN                 NaN   \n",
       "1538                       NaN             NaN                 NaN   \n",
       "\n",
       "      Sub Category Description Account Name/ID Journal ID Voucher ID  \\\n",
       "110                        NaN             NaN        NaN        NaN   \n",
       "111                        NaN             NaN        NaN        NaN   \n",
       "1538                       NaN             NaN        NaN        NaN   \n",
       "\n",
       "     Vendor Name/ID  Transaction Type        File Name  \n",
       "110             NaN               NaN  E-12345910.xlsx  \n",
       "111             NaN               NaN  E-12345910.xlsx  \n",
       "1538            NaN               NaN              NaN  \n",
       "\n",
       "[3 rows x 43 columns]"
      ]
     },
     "execution_count": 21,
     "metadata": {},
     "output_type": "execute_result"
    }
   ],
   "source": [
    "df.iloc[(df.shape[0]-1), 0] = \"Total\"\n",
    "df.tail(3)"
   ]
  },
  {
   "cell_type": "markdown",
   "metadata": {},
   "source": [
    "Identify the last row in Consolidated file and add a comment “Consolidation done” in the cell of last row +1 "
   ]
  },
  {
   "cell_type": "code",
   "execution_count": 22,
   "metadata": {},
   "outputs": [
    {
     "data": {
      "text/html": [
       "<div>\n",
       "<style scoped>\n",
       "    .dataframe tbody tr th:only-of-type {\n",
       "        vertical-align: middle;\n",
       "    }\n",
       "\n",
       "    .dataframe tbody tr th {\n",
       "        vertical-align: top;\n",
       "    }\n",
       "\n",
       "    .dataframe thead th {\n",
       "        text-align: right;\n",
       "    }\n",
       "</style>\n",
       "<table border=\"1\" class=\"dataframe\">\n",
       "  <thead>\n",
       "    <tr style=\"text-align: right;\">\n",
       "      <th></th>\n",
       "      <th>Opportunity ID</th>\n",
       "      <th>Opportunity Name</th>\n",
       "      <th>Project ID</th>\n",
       "      <th>Project Name</th>\n",
       "      <th>Engagement ID</th>\n",
       "      <th>Engagement Name</th>\n",
       "      <th>Client ID</th>\n",
       "      <th>Client Name</th>\n",
       "      <th>Week Ending Date</th>\n",
       "      <th>Transaction Date</th>\n",
       "      <th>...</th>\n",
       "      <th>Category Code Description</th>\n",
       "      <th>Expense Amount</th>\n",
       "      <th>Expense Description</th>\n",
       "      <th>Sub Category Description</th>\n",
       "      <th>Account Name/ID</th>\n",
       "      <th>Journal ID</th>\n",
       "      <th>Voucher ID</th>\n",
       "      <th>Vendor Name/ID</th>\n",
       "      <th>Transaction Type</th>\n",
       "      <th>File Name</th>\n",
       "    </tr>\n",
       "  </thead>\n",
       "  <tbody>\n",
       "    <tr>\n",
       "      <th>110</th>\n",
       "      <td>O-195750</td>\n",
       "      <td>AZ_GCR TR/BTC + TAC + FS + VAT + TP 2016</td>\n",
       "      <td>P-195750-019</td>\n",
       "      <td>Project Name</td>\n",
       "      <td>E-12345678</td>\n",
       "      <td>AZ_GCR TAC 2019/2020</td>\n",
       "      <td>12346.0</td>\n",
       "      <td>Client Name</td>\n",
       "      <td>NaT</td>\n",
       "      <td>NaT</td>\n",
       "      <td>...</td>\n",
       "      <td>NaN</td>\n",
       "      <td>NaN</td>\n",
       "      <td>NaN</td>\n",
       "      <td>NaN</td>\n",
       "      <td>NaN</td>\n",
       "      <td>NaN</td>\n",
       "      <td>NaN</td>\n",
       "      <td>NaN</td>\n",
       "      <td>NaN</td>\n",
       "      <td>E-12345910.xlsx</td>\n",
       "    </tr>\n",
       "    <tr>\n",
       "      <th>111</th>\n",
       "      <td>O-195750</td>\n",
       "      <td>AZ_GCR TR/BTC + TAC + FS + VAT + TP 2016</td>\n",
       "      <td>P-195750-019</td>\n",
       "      <td>Project Name</td>\n",
       "      <td>E-12345678</td>\n",
       "      <td>AZ_GCR TAC 2019/2020</td>\n",
       "      <td>12346.0</td>\n",
       "      <td>Client Name</td>\n",
       "      <td>NaT</td>\n",
       "      <td>NaT</td>\n",
       "      <td>...</td>\n",
       "      <td>NaN</td>\n",
       "      <td>NaN</td>\n",
       "      <td>NaN</td>\n",
       "      <td>NaN</td>\n",
       "      <td>NaN</td>\n",
       "      <td>NaN</td>\n",
       "      <td>NaN</td>\n",
       "      <td>NaN</td>\n",
       "      <td>NaN</td>\n",
       "      <td>E-12345910.xlsx</td>\n",
       "    </tr>\n",
       "    <tr>\n",
       "      <th>1538</th>\n",
       "      <td>Total</td>\n",
       "      <td>NaN</td>\n",
       "      <td>NaN</td>\n",
       "      <td>NaN</td>\n",
       "      <td>NaN</td>\n",
       "      <td>NaN</td>\n",
       "      <td>NaN</td>\n",
       "      <td>NaN</td>\n",
       "      <td>NaT</td>\n",
       "      <td>NaT</td>\n",
       "      <td>...</td>\n",
       "      <td>NaN</td>\n",
       "      <td>NaN</td>\n",
       "      <td>NaN</td>\n",
       "      <td>NaN</td>\n",
       "      <td>NaN</td>\n",
       "      <td>NaN</td>\n",
       "      <td>NaN</td>\n",
       "      <td>NaN</td>\n",
       "      <td>NaN</td>\n",
       "      <td>NaN</td>\n",
       "    </tr>\n",
       "    <tr>\n",
       "      <th>1539</th>\n",
       "      <td>NaN</td>\n",
       "      <td>NaN</td>\n",
       "      <td>NaN</td>\n",
       "      <td>NaN</td>\n",
       "      <td>NaN</td>\n",
       "      <td>NaN</td>\n",
       "      <td>NaN</td>\n",
       "      <td>NaN</td>\n",
       "      <td>NaT</td>\n",
       "      <td>NaT</td>\n",
       "      <td>...</td>\n",
       "      <td>NaN</td>\n",
       "      <td>NaN</td>\n",
       "      <td>NaN</td>\n",
       "      <td>NaN</td>\n",
       "      <td>NaN</td>\n",
       "      <td>NaN</td>\n",
       "      <td>NaN</td>\n",
       "      <td>NaN</td>\n",
       "      <td>NaN</td>\n",
       "      <td>NaN</td>\n",
       "    </tr>\n",
       "    <tr>\n",
       "      <th>1540</th>\n",
       "      <td>Consolidation done</td>\n",
       "      <td>NaN</td>\n",
       "      <td>NaN</td>\n",
       "      <td>NaN</td>\n",
       "      <td>NaN</td>\n",
       "      <td>NaN</td>\n",
       "      <td>NaN</td>\n",
       "      <td>NaN</td>\n",
       "      <td>NaT</td>\n",
       "      <td>NaT</td>\n",
       "      <td>...</td>\n",
       "      <td>NaN</td>\n",
       "      <td>NaN</td>\n",
       "      <td>NaN</td>\n",
       "      <td>NaN</td>\n",
       "      <td>NaN</td>\n",
       "      <td>NaN</td>\n",
       "      <td>NaN</td>\n",
       "      <td>NaN</td>\n",
       "      <td>NaN</td>\n",
       "      <td>NaN</td>\n",
       "    </tr>\n",
       "  </tbody>\n",
       "</table>\n",
       "<p>5 rows × 43 columns</p>\n",
       "</div>"
      ],
      "text/plain": [
       "          Opportunity ID                          Opportunity Name  \\\n",
       "110             O-195750  AZ_GCR TR/BTC + TAC + FS + VAT + TP 2016   \n",
       "111             O-195750  AZ_GCR TR/BTC + TAC + FS + VAT + TP 2016   \n",
       "1538               Total                                       NaN   \n",
       "1539                 NaN                                       NaN   \n",
       "1540  Consolidation done                                       NaN   \n",
       "\n",
       "        Project ID  Project Name Engagement ID       Engagement Name  \\\n",
       "110   P-195750-019  Project Name    E-12345678  AZ_GCR TAC 2019/2020   \n",
       "111   P-195750-019  Project Name    E-12345678  AZ_GCR TAC 2019/2020   \n",
       "1538           NaN           NaN           NaN                   NaN   \n",
       "1539           NaN           NaN           NaN                   NaN   \n",
       "1540           NaN           NaN           NaN                   NaN   \n",
       "\n",
       "      Client ID  Client Name Week Ending Date Transaction Date  ...  \\\n",
       "110     12346.0  Client Name              NaT              NaT  ...   \n",
       "111     12346.0  Client Name              NaT              NaT  ...   \n",
       "1538        NaN          NaN              NaT              NaT  ...   \n",
       "1539        NaN          NaN              NaT              NaT  ...   \n",
       "1540        NaN          NaN              NaT              NaT  ...   \n",
       "\n",
       "     Category Code Description  Expense Amount Expense Description  \\\n",
       "110                        NaN             NaN                 NaN   \n",
       "111                        NaN             NaN                 NaN   \n",
       "1538                       NaN             NaN                 NaN   \n",
       "1539                       NaN             NaN                 NaN   \n",
       "1540                       NaN             NaN                 NaN   \n",
       "\n",
       "      Sub Category Description Account Name/ID Journal ID Voucher ID  \\\n",
       "110                        NaN             NaN        NaN        NaN   \n",
       "111                        NaN             NaN        NaN        NaN   \n",
       "1538                       NaN             NaN        NaN        NaN   \n",
       "1539                       NaN             NaN        NaN        NaN   \n",
       "1540                       NaN             NaN        NaN        NaN   \n",
       "\n",
       "     Vendor Name/ID  Transaction Type        File Name  \n",
       "110             NaN               NaN  E-12345910.xlsx  \n",
       "111             NaN               NaN  E-12345910.xlsx  \n",
       "1538            NaN               NaN              NaN  \n",
       "1539            NaN               NaN              NaN  \n",
       "1540            NaN               NaN              NaN  \n",
       "\n",
       "[5 rows x 43 columns]"
      ]
     },
     "execution_count": 22,
     "metadata": {},
     "output_type": "execute_result"
    }
   ],
   "source": [
    "import numpy as np\n",
    "\n",
    "\n",
    "df.loc[df.shape[0]] = np.nan # add extra row\n",
    "df.loc[df.shape[0]] = np.nan # add extra row again\n",
    "\n",
    "df.iloc[df.shape[0]-1, \n",
    "            0] = \"Consolidation done\"\n",
    "\n",
    "df.tail()"
   ]
  },
  {
   "cell_type": "code",
   "execution_count": 23,
   "metadata": {},
   "outputs": [
    {
     "data": {
      "text/plain": [
       "nan"
      ]
     },
     "execution_count": 23,
     "metadata": {},
     "output_type": "execute_result"
    }
   ],
   "source": [
    "df.iloc[df.shape[0]-1, 3]"
   ]
  },
  {
   "cell_type": "markdown",
   "metadata": {},
   "source": [
    "Remove \"null\" from new rows"
   ]
  },
  {
   "cell_type": "code",
   "execution_count": 24,
   "metadata": {},
   "outputs": [
    {
     "data": {
      "text/html": [
       "<div>\n",
       "<style scoped>\n",
       "    .dataframe tbody tr th:only-of-type {\n",
       "        vertical-align: middle;\n",
       "    }\n",
       "\n",
       "    .dataframe tbody tr th {\n",
       "        vertical-align: top;\n",
       "    }\n",
       "\n",
       "    .dataframe thead th {\n",
       "        text-align: right;\n",
       "    }\n",
       "</style>\n",
       "<table border=\"1\" class=\"dataframe\">\n",
       "  <thead>\n",
       "    <tr style=\"text-align: right;\">\n",
       "      <th></th>\n",
       "      <th>Opportunity ID</th>\n",
       "      <th>Opportunity Name</th>\n",
       "      <th>Project ID</th>\n",
       "      <th>Project Name</th>\n",
       "      <th>Engagement ID</th>\n",
       "      <th>Engagement Name</th>\n",
       "      <th>Client ID</th>\n",
       "      <th>Client Name</th>\n",
       "      <th>Week Ending Date</th>\n",
       "      <th>Transaction Date</th>\n",
       "      <th>...</th>\n",
       "      <th>Category Code Description</th>\n",
       "      <th>Expense Amount</th>\n",
       "      <th>Expense Description</th>\n",
       "      <th>Sub Category Description</th>\n",
       "      <th>Account Name/ID</th>\n",
       "      <th>Journal ID</th>\n",
       "      <th>Voucher ID</th>\n",
       "      <th>Vendor Name/ID</th>\n",
       "      <th>Transaction Type</th>\n",
       "      <th>File Name</th>\n",
       "    </tr>\n",
       "  </thead>\n",
       "  <tbody>\n",
       "    <tr>\n",
       "      <th>1539</th>\n",
       "      <td>NaN</td>\n",
       "      <td>NaN</td>\n",
       "      <td>NaN</td>\n",
       "      <td>NaN</td>\n",
       "      <td>NaN</td>\n",
       "      <td>NaN</td>\n",
       "      <td>NaN</td>\n",
       "      <td>NaN</td>\n",
       "      <td>NaT</td>\n",
       "      <td>NaT</td>\n",
       "      <td>...</td>\n",
       "      <td>NaN</td>\n",
       "      <td>NaN</td>\n",
       "      <td>NaN</td>\n",
       "      <td>NaN</td>\n",
       "      <td>NaN</td>\n",
       "      <td>NaN</td>\n",
       "      <td>NaN</td>\n",
       "      <td>NaN</td>\n",
       "      <td>NaN</td>\n",
       "      <td>NaN</td>\n",
       "    </tr>\n",
       "    <tr>\n",
       "      <th>1540</th>\n",
       "      <td>Consolidation done</td>\n",
       "      <td>NaN</td>\n",
       "      <td>NaN</td>\n",
       "      <td>NaN</td>\n",
       "      <td>NaN</td>\n",
       "      <td>NaN</td>\n",
       "      <td>NaN</td>\n",
       "      <td>NaN</td>\n",
       "      <td>NaT</td>\n",
       "      <td>NaT</td>\n",
       "      <td>...</td>\n",
       "      <td>NaN</td>\n",
       "      <td>NaN</td>\n",
       "      <td>NaN</td>\n",
       "      <td>NaN</td>\n",
       "      <td>NaN</td>\n",
       "      <td>NaN</td>\n",
       "      <td>NaN</td>\n",
       "      <td>NaN</td>\n",
       "      <td>NaN</td>\n",
       "      <td>NaN</td>\n",
       "    </tr>\n",
       "  </tbody>\n",
       "</table>\n",
       "<p>2 rows × 43 columns</p>\n",
       "</div>"
      ],
      "text/plain": [
       "          Opportunity ID Opportunity Name Project ID Project Name  \\\n",
       "1539                 NaN              NaN        NaN          NaN   \n",
       "1540  Consolidation done              NaN        NaN          NaN   \n",
       "\n",
       "     Engagement ID Engagement Name  Client ID Client Name Week Ending Date  \\\n",
       "1539           NaN             NaN        NaN         NaN              NaT   \n",
       "1540           NaN             NaN        NaN         NaN              NaT   \n",
       "\n",
       "     Transaction Date  ... Category Code Description  Expense Amount  \\\n",
       "1539              NaT  ...                       NaN             NaN   \n",
       "1540              NaT  ...                       NaN             NaN   \n",
       "\n",
       "     Expense Description  Sub Category Description Account Name/ID Journal ID  \\\n",
       "1539                 NaN                       NaN             NaN        NaN   \n",
       "1540                 NaN                       NaN             NaN        NaN   \n",
       "\n",
       "     Voucher ID Vendor Name/ID  Transaction Type File Name  \n",
       "1539        NaN            NaN               NaN       NaN  \n",
       "1540        NaN            NaN               NaN       NaN  \n",
       "\n",
       "[2 rows x 43 columns]"
      ]
     },
     "execution_count": 24,
     "metadata": {},
     "output_type": "execute_result"
    }
   ],
   "source": [
    "df.iloc[[df.shape[0]-2,df.shape[0]-1], :]\n"
   ]
  },
  {
   "cell_type": "markdown",
   "metadata": {},
   "source": [
    "Export file"
   ]
  },
  {
   "cell_type": "code",
   "execution_count": 25,
   "metadata": {},
   "outputs": [],
   "source": [
    "with pd.ExcelWriter(dir+'Consolidated.xlsx') as writer:  \n",
    "    df.to_excel(writer, sheet_name='Consolidated files', index=False)\n",
    "    df_SR.to_excel(writer, sheet_name='Senior Rank', index=False)"
   ]
  }
 ],
 "metadata": {
  "kernelspec": {
   "display_name": "Python 3.9.5 64-bit",
   "language": "python",
   "name": "python3"
  },
  "language_info": {
   "codemirror_mode": {
    "name": "ipython",
    "version": 3
   },
   "file_extension": ".py",
   "mimetype": "text/x-python",
   "name": "python",
   "nbconvert_exporter": "python",
   "pygments_lexer": "ipython3",
   "version": "3.9.5"
  },
  "orig_nbformat": 4,
  "vscode": {
   "interpreter": {
    "hash": "11938c6bc6919ae2720b4d5011047913343b08a43b18698fd82dedb0d4417594"
   }
  }
 },
 "nbformat": 4,
 "nbformat_minor": 2
}
